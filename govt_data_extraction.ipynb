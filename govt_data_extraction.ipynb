{
 "cells": [
  {
   "cell_type": "markdown",
   "metadata": {},
   "source": [
    "# Importing libraries"
   ]
  },
  {
   "cell_type": "code",
   "execution_count": 1,
   "metadata": {},
   "outputs": [],
   "source": [
    "from selenium import webdriver\n",
    "import time\n",
    "from selenium.webdriver.common.by import By\n",
    "from selenium.webdriver.common.keys import Keys"
   ]
  },
  {
   "cell_type": "markdown",
   "metadata": {},
   "source": [
    "# setting up driver to access the webpage"
   ]
  },
  {
   "cell_type": "code",
   "execution_count": 2,
   "metadata": {},
   "outputs": [],
   "source": [
    "driver = webdriver.Chrome()"
   ]
  },
  {
   "cell_type": "markdown",
   "metadata": {},
   "source": [
    "# defining the landing page"
   ]
  },
  {
   "cell_type": "code",
   "execution_count": 3,
   "metadata": {},
   "outputs": [],
   "source": [
    "driver.get(\"https://www.redbus.in/\")\n",
    "time.sleep(5)"
   ]
  },
  {
   "cell_type": "markdown",
   "metadata": {},
   "source": [
    "# Selecting a RTC"
   ]
  },
  {
   "cell_type": "markdown",
   "metadata": {},
   "source": [
    "The route chosen to extract his BLR -> HYD through the RTC of telangana RTC"
   ]
  },
  {
   "cell_type": "code",
   "execution_count": 4,
   "metadata": {},
   "outputs": [],
   "source": [
    "TSRTC = driver.get(\"https://www.redbus.in/online-booking/tsrtc/\")"
   ]
  },
  {
   "cell_type": "markdown",
   "metadata": {},
   "source": [
    "## selecting source location"
   ]
  },
  {
   "cell_type": "code",
   "execution_count": 5,
   "metadata": {},
   "outputs": [],
   "source": [
    "start = \"bangalore\"\n",
    "source = driver.find_element(By.CSS_SELECTOR,\"input[id='txtSource']\").send_keys(start)\n"
   ]
  },
  {
   "cell_type": "markdown",
   "metadata": {},
   "source": [
    "## selecting destination location"
   ]
  },
  {
   "cell_type": "code",
   "execution_count": 6,
   "metadata": {},
   "outputs": [],
   "source": [
    "end = \"hyderabad\"\n",
    "final = driver.find_element(By.CSS_SELECTOR,\"input[id='txtDestination']\").send_keys(end)"
   ]
  },
  {
   "cell_type": "markdown",
   "metadata": {},
   "source": [
    "## selecting dates"
   ]
  },
  {
   "cell_type": "code",
   "execution_count": 7,
   "metadata": {},
   "outputs": [],
   "source": [
    "day = \"10-10-2024\"\n",
    "date = driver.find_element(By.CSS_SELECTOR,\"input[id='txtOnwardCalendar']\").send_keys(day)"
   ]
  },
  {
   "cell_type": "markdown",
   "metadata": {},
   "source": [
    "## submitting the request"
   ]
  },
  {
   "cell_type": "code",
   "execution_count": 8,
   "metadata": {},
   "outputs": [],
   "source": [
    "search_buses = driver.find_element(By.XPATH,\"//*[@id='DC120_sw_main']/button\").click()"
   ]
  },
  {
   "cell_type": "markdown",
   "metadata": {},
   "source": [
    "# extracting Data"
   ]
  },
  {
   "cell_type": "markdown",
   "metadata": {},
   "source": [
    "# Government Bus Data"
   ]
  },
  {
   "cell_type": "markdown",
   "metadata": {},
   "source": [
    "### Bus Name"
   ]
  },
  {
   "cell_type": "code",
   "execution_count": 13,
   "metadata": {},
   "outputs": [],
   "source": [
    "bus_name = driver.find_elements(By.XPATH,\"//div[@class='travels lh-24 f-bold d-color']\")"
   ]
  },
  {
   "cell_type": "code",
   "execution_count": 10,
   "metadata": {},
   "outputs": [],
   "source": [
    "Bus_Name = []"
   ]
  },
  {
   "cell_type": "code",
   "execution_count": 14,
   "metadata": {},
   "outputs": [],
   "source": [
    "for i in bus_name:\n",
    "    Bus_Name.append(i.text)"
   ]
  },
  {
   "cell_type": "code",
   "execution_count": 15,
   "metadata": {},
   "outputs": [
    {
     "data": {
      "text/plain": [
       "['TSRTC - 1004',\n",
       " 'TSRTC - 4494',\n",
       " 'TSRTC - 1298',\n",
       " 'TSRTC - 89149',\n",
       " 'TSRTC - 1038',\n",
       " 'TSRTC - 1004',\n",
       " 'TSRTC - 4494',\n",
       " 'TSRTC - 1298',\n",
       " 'TSRTC - 89149',\n",
       " 'TSRTC - 1038',\n",
       " 'TSRTC - 7144',\n",
       " 'TSRTC - 6818',\n",
       " 'TSRTC - 2995',\n",
       " 'TSRTC - 8208',\n",
       " 'TSRTC - 7291',\n",
       " 'TSRTC - 7809',\n",
       " 'TSRTC - 1957',\n",
       " 'TSRTC - 8212',\n",
       " 'TSRTC - 8666',\n",
       " 'TSRTC - 1010']"
      ]
     },
     "execution_count": 15,
     "metadata": {},
     "output_type": "execute_result"
    }
   ],
   "source": [
    "Bus_Name"
   ]
  },
  {
   "cell_type": "markdown",
   "metadata": {},
   "source": [
    "### Bus Type i.e sleeper/seater/Ac/Non-Ac"
   ]
  },
  {
   "cell_type": "code",
   "execution_count": 16,
   "metadata": {},
   "outputs": [],
   "source": [
    "bus_type = driver.find_elements(By.XPATH,\"//div[@class='bus-type f-12 m-top-16 l-color evBus']\")"
   ]
  },
  {
   "cell_type": "code",
   "execution_count": 17,
   "metadata": {},
   "outputs": [],
   "source": [
    "Bus_Type = []"
   ]
  },
  {
   "cell_type": "code",
   "execution_count": 18,
   "metadata": {},
   "outputs": [
    {
     "data": {
      "text/plain": [
       "[]"
      ]
     },
     "execution_count": 18,
     "metadata": {},
     "output_type": "execute_result"
    }
   ],
   "source": [
    "Bus_Type"
   ]
  },
  {
   "cell_type": "code",
   "execution_count": 19,
   "metadata": {},
   "outputs": [],
   "source": [
    "for i in bus_type:\n",
    "    Bus_Type.append(i.text)"
   ]
  },
  {
   "cell_type": "code",
   "execution_count": 20,
   "metadata": {},
   "outputs": [
    {
     "data": {
      "text/plain": [
       "['SUPER LUXURY (NON-AC, 2 + 2 PUSH BACK)',\n",
       " 'SUPER LUXURY (NON-AC, 2 + 2 PUSH BACK)',\n",
       " 'LAHARI A/C SLEEPER CUM SEATER',\n",
       " 'Lahari Non A/C Sleeper Cum Seater',\n",
       " 'SUPER LUXURY (NON-AC, 2 + 2 PUSH BACK)',\n",
       " 'SUPER LUXURY (NON-AC, 2 + 2 PUSH BACK)',\n",
       " 'SUPER LUXURY (NON-AC, 2 + 2 PUSH BACK)',\n",
       " 'LAHARI A/C SLEEPER CUM SEATER',\n",
       " 'SUPER LUXURY (NON-AC, 2 + 2 PUSH BACK)',\n",
       " 'LAHARI A/C SLEEPER CUM SEATER',\n",
       " 'LAHARI A/C SLEEPER CUM SEATER',\n",
       " 'SUPER LUXURY (NON-AC, 2 + 2 PUSH BACK)',\n",
       " 'LAHARI A/C SLEEPER CUM SEATER',\n",
       " 'LAHARI A/C SLEEPER CUM SEATER',\n",
       " 'SUPER LUXURY (NON-AC, 2 + 2 PUSH BACK)']"
      ]
     },
     "execution_count": 20,
     "metadata": {},
     "output_type": "execute_result"
    }
   ],
   "source": [
    "Bus_Type"
   ]
  },
  {
   "cell_type": "markdown",
   "metadata": {},
   "source": [
    "### Departing time"
   ]
  },
  {
   "cell_type": "code",
   "execution_count": 21,
   "metadata": {},
   "outputs": [],
   "source": [
    "departure = driver.find_elements(By.XPATH,\"//div[@class='dp-time f-19 d-color f-bold']\")"
   ]
  },
  {
   "cell_type": "code",
   "execution_count": 22,
   "metadata": {},
   "outputs": [],
   "source": [
    "departing_time = []"
   ]
  },
  {
   "cell_type": "code",
   "execution_count": 23,
   "metadata": {},
   "outputs": [],
   "source": [
    "for i in departure:\n",
    "    departing_time.append(i.text)"
   ]
  },
  {
   "cell_type": "code",
   "execution_count": 24,
   "metadata": {},
   "outputs": [
    {
     "data": {
      "text/plain": [
       "['05:10',\n",
       " '06:25',\n",
       " '08:25',\n",
       " '09:10',\n",
       " '10:10',\n",
       " '12:00',\n",
       " '13:40',\n",
       " '15:45',\n",
       " '17:30',\n",
       " '17:45',\n",
       " '18:40',\n",
       " '19:25',\n",
       " '19:30',\n",
       " '19:55',\n",
       " '20:10']"
      ]
     },
     "execution_count": 24,
     "metadata": {},
     "output_type": "execute_result"
    }
   ],
   "source": [
    "departing_time"
   ]
  },
  {
   "cell_type": "markdown",
   "metadata": {},
   "source": [
    "### Arrival time"
   ]
  },
  {
   "cell_type": "code",
   "execution_count": 25,
   "metadata": {},
   "outputs": [],
   "source": [
    "arrival = driver.find_elements(By.XPATH,\"//div[@class='bp-time f-19 d-color disp-Inline']\")"
   ]
  },
  {
   "cell_type": "code",
   "execution_count": 26,
   "metadata": {},
   "outputs": [],
   "source": [
    "Arrival_time = []"
   ]
  },
  {
   "cell_type": "code",
   "execution_count": 27,
   "metadata": {},
   "outputs": [],
   "source": [
    "for i in arrival:\n",
    "    Arrival_time.append(i.text)"
   ]
  },
  {
   "cell_type": "code",
   "execution_count": 28,
   "metadata": {},
   "outputs": [
    {
     "data": {
      "text/plain": [
       "['16:00',\n",
       " '16:50',\n",
       " '19:25',\n",
       " '20:50',\n",
       " '21:20',\n",
       " '00:30',\n",
       " '00:35',\n",
       " '03:15',\n",
       " '04:00',\n",
       " '04:00',\n",
       " '04:30',\n",
       " '06:40',\n",
       " '04:30',\n",
       " '06:30',\n",
       " '07:10']"
      ]
     },
     "execution_count": 28,
     "metadata": {},
     "output_type": "execute_result"
    }
   ],
   "source": [
    "Arrival_time"
   ]
  },
  {
   "cell_type": "markdown",
   "metadata": {},
   "source": [
    "### Duration"
   ]
  },
  {
   "cell_type": "code",
   "execution_count": 29,
   "metadata": {},
   "outputs": [],
   "source": [
    "time = driver.find_elements(By.XPATH,\"//div[@class='dur l-color lh-24']\")"
   ]
  },
  {
   "cell_type": "code",
   "execution_count": 30,
   "metadata": {},
   "outputs": [],
   "source": [
    "Duration = []"
   ]
  },
  {
   "cell_type": "code",
   "execution_count": 31,
   "metadata": {},
   "outputs": [],
   "source": [
    "for i in time:\n",
    "    Duration.append(i.text)"
   ]
  },
  {
   "cell_type": "code",
   "execution_count": 32,
   "metadata": {},
   "outputs": [
    {
     "data": {
      "text/plain": [
       "['10h 50m',\n",
       " '10h 25m',\n",
       " '11h 00m',\n",
       " '11h 40m',\n",
       " '11h 10m',\n",
       " '12h 30m',\n",
       " '10h 55m',\n",
       " '11h 30m',\n",
       " '10h 30m',\n",
       " '10h 15m',\n",
       " '09h 50m',\n",
       " '11h 15m',\n",
       " '09h 00m',\n",
       " '10h 35m',\n",
       " '11h 00m']"
      ]
     },
     "execution_count": 32,
     "metadata": {},
     "output_type": "execute_result"
    }
   ],
   "source": [
    "Duration"
   ]
  },
  {
   "cell_type": "markdown",
   "metadata": {},
   "source": [
    "### Star Rating"
   ]
  },
  {
   "cell_type": "code",
   "execution_count": 33,
   "metadata": {},
   "outputs": [],
   "source": [
    "star = driver.find_elements(By.XPATH,\"//div[@class='rating-sec lh-24']\")"
   ]
  },
  {
   "cell_type": "code",
   "execution_count": 34,
   "metadata": {},
   "outputs": [],
   "source": [
    "Star_rate = []"
   ]
  },
  {
   "cell_type": "code",
   "execution_count": 35,
   "metadata": {},
   "outputs": [],
   "source": [
    "for i in star:\n",
    "    Star_rate.append(i.text)"
   ]
  },
  {
   "cell_type": "code",
   "execution_count": 36,
   "metadata": {},
   "outputs": [
    {
     "data": {
      "text/plain": [
       "['3.4',\n",
       " '2.8',\n",
       " '3.4',\n",
       " '3.2',\n",
       " '2.5',\n",
       " '3.2',\n",
       " '3.7',\n",
       " '3.7',\n",
       " '3.0',\n",
       " '4.2',\n",
       " '3.4',\n",
       " '3.7',\n",
       " '3.4',\n",
       " '3.8',\n",
       " '3.1']"
      ]
     },
     "execution_count": 36,
     "metadata": {},
     "output_type": "execute_result"
    }
   ],
   "source": [
    "Star_rate"
   ]
  },
  {
   "cell_type": "markdown",
   "metadata": {},
   "source": [
    "### Price"
   ]
  },
  {
   "cell_type": "code",
   "execution_count": 37,
   "metadata": {},
   "outputs": [],
   "source": [
    "cost = driver.find_elements(By.XPATH,\"//div[@class='fare d-block']\")"
   ]
  },
  {
   "cell_type": "code",
   "execution_count": 38,
   "metadata": {},
   "outputs": [],
   "source": [
    "Price = []"
   ]
  },
  {
   "cell_type": "code",
   "execution_count": 39,
   "metadata": {},
   "outputs": [],
   "source": [
    "for i in cost:\n",
    "    Price.append(i.text)"
   ]
  },
  {
   "cell_type": "code",
   "execution_count": 40,
   "metadata": {},
   "outputs": [
    {
     "data": {
      "text/plain": [
       "['INR 1263',\n",
       " 'INR 1263',\n",
       " 'INR 1560',\n",
       " 'INR 1263',\n",
       " 'INR 1263',\n",
       " 'INR 1263',\n",
       " 'INR 1263',\n",
       " 'INR 1560',\n",
       " 'INR 1263',\n",
       " 'INR 1560',\n",
       " 'INR 1560',\n",
       " 'INR 1263',\n",
       " 'INR 1560',\n",
       " 'INR 1560',\n",
       " 'INR 1263']"
      ]
     },
     "execution_count": 40,
     "metadata": {},
     "output_type": "execute_result"
    }
   ],
   "source": [
    "Price"
   ]
  },
  {
   "cell_type": "markdown",
   "metadata": {},
   "source": [
    "### Seats available"
   ]
  },
  {
   "cell_type": "code",
   "execution_count": 41,
   "metadata": {},
   "outputs": [],
   "source": [
    "seats = driver.find_elements(By.XPATH,\"//div[@class='seat-left m-top-16']\")"
   ]
  },
  {
   "cell_type": "code",
   "execution_count": 42,
   "metadata": {},
   "outputs": [],
   "source": [
    "Seat_Availability = []"
   ]
  },
  {
   "cell_type": "code",
   "execution_count": 43,
   "metadata": {},
   "outputs": [],
   "source": [
    "for i in seats:\n",
    "    Seat_Availability.append(i.text)"
   ]
  },
  {
   "cell_type": "code",
   "execution_count": 44,
   "metadata": {},
   "outputs": [
    {
     "data": {
      "text/plain": [
       "['30 Seats available',\n",
       " '31 Seats available',\n",
       " '21 Seats available',\n",
       " '38 Seats available',\n",
       " '30 Seats available']"
      ]
     },
     "execution_count": 44,
     "metadata": {},
     "output_type": "execute_result"
    }
   ],
   "source": [
    "Seat_Availability"
   ]
  },
  {
   "cell_type": "markdown",
   "metadata": {},
   "source": [
    "#### buses with higher seats remaining"
   ]
  },
  {
   "cell_type": "code",
   "execution_count": 45,
   "metadata": {},
   "outputs": [],
   "source": [
    "seats1 = driver.find_elements(By.XPATH,\"//div[@class='seat-left m-top-30']\")"
   ]
  },
  {
   "cell_type": "code",
   "execution_count": 46,
   "metadata": {},
   "outputs": [],
   "source": [
    "for i in seats1:\n",
    "    Seat_Availability.append(i.text)"
   ]
  },
  {
   "cell_type": "code",
   "execution_count": 47,
   "metadata": {},
   "outputs": [
    {
     "data": {
      "text/plain": [
       "['30 Seats available',\n",
       " '31 Seats available',\n",
       " '21 Seats available',\n",
       " '38 Seats available',\n",
       " '30 Seats available',\n",
       " '33 Seats available',\n",
       " '31 Seats available',\n",
       " '32 Seats available',\n",
       " '31 Seats available',\n",
       " '32 Seats available',\n",
       " '34 Seats available',\n",
       " '29 Seats available',\n",
       " '28 Seats available',\n",
       " '37 Seats available',\n",
       " '28 Seats available']"
      ]
     },
     "execution_count": 47,
     "metadata": {},
     "output_type": "execute_result"
    }
   ],
   "source": [
    "Seat_Availability"
   ]
  },
  {
   "cell_type": "markdown",
   "metadata": {},
   "source": [
    "#### spliting numerical value separately"
   ]
  },
  {
   "cell_type": "code",
   "execution_count": 48,
   "metadata": {},
   "outputs": [],
   "source": [
    "availability = []\n",
    "dump = []\n",
    "\n",
    "for i in Seat_Availability:\n",
    "    avail,seats,status= i.split()\n",
    "    availability.append(avail)\n",
    "    dump.append(f\"{seats}{status}\")"
   ]
  },
  {
   "cell_type": "code",
   "execution_count": 49,
   "metadata": {},
   "outputs": [
    {
     "data": {
      "text/plain": [
       "['30',\n",
       " '31',\n",
       " '21',\n",
       " '38',\n",
       " '30',\n",
       " '33',\n",
       " '31',\n",
       " '32',\n",
       " '31',\n",
       " '32',\n",
       " '34',\n",
       " '29',\n",
       " '28',\n",
       " '37',\n",
       " '28']"
      ]
     },
     "execution_count": 49,
     "metadata": {},
     "output_type": "execute_result"
    }
   ],
   "source": [
    "availability"
   ]
  },
  {
   "cell_type": "markdown",
   "metadata": {},
   "source": [
    "### Bus route Name"
   ]
  },
  {
   "cell_type": "code",
   "execution_count": 50,
   "metadata": {},
   "outputs": [],
   "source": [
    "start_point = driver.find_elements(By.XPATH,\"//div[@class='dp-loc l-color w-wrap f-12 m-top-16']\")\n",
    "end_point = driver.find_elements(By.XPATH,\"//div[@class='bp-loc l-color w-wrap f-12 m-top-16']\")"
   ]
  },
  {
   "cell_type": "code",
   "execution_count": 51,
   "metadata": {},
   "outputs": [],
   "source": [
    "route = []"
   ]
  },
  {
   "cell_type": "code",
   "execution_count": 52,
   "metadata": {},
   "outputs": [],
   "source": [
    "for i in start_point:\n",
    "    for j in end_point:\n",
    "        a = (i.text + \" to \" + j.text )\n",
    "        route.append(a)"
   ]
  },
  {
   "cell_type": "code",
   "execution_count": 53,
   "metadata": {},
   "outputs": [
    {
     "data": {
      "text/plain": [
       "['Hebbal to Shamshabad',\n",
       " 'Hebbal to Shamshabad',\n",
       " 'Hebbal to Shamshabad',\n",
       " 'Hebbal to Kukatpally',\n",
       " 'Hebbal to Shivarampalli',\n",
       " 'Hebbal to Shamshabad',\n",
       " 'Hebbal to Shamshabad',\n",
       " 'Hebbal to Shamshabad',\n",
       " 'Hebbal to Kukatpally',\n",
       " 'Hebbal to Shivarampalli',\n",
       " 'Hebbal to Shamshabad',\n",
       " 'Hebbal to Shamshabad',\n",
       " 'Hebbal to Shamshabad',\n",
       " 'Hebbal to Kukatpally',\n",
       " 'Hebbal to Shivarampalli',\n",
       " 'Hebbal to Shamshabad',\n",
       " 'Hebbal to Shamshabad',\n",
       " 'Hebbal to Shamshabad',\n",
       " 'Hebbal to Kukatpally',\n",
       " 'Hebbal to Shivarampalli',\n",
       " 'Hebbal to Shamshabad',\n",
       " 'Hebbal to Shamshabad',\n",
       " 'Hebbal to Shamshabad',\n",
       " 'Hebbal to Kukatpally',\n",
       " 'Hebbal to Shivarampalli']"
      ]
     },
     "execution_count": 53,
     "metadata": {},
     "output_type": "execute_result"
    }
   ],
   "source": [
    "route"
   ]
  },
  {
   "cell_type": "code",
   "execution_count": 55,
   "metadata": {},
   "outputs": [],
   "source": [
    "route_link = []\n",
    "for i in range(25):\n",
    "    i = \"https://www.redbus.in/bus-tickets/bangalore-to-hyderabad?fromCityName=Bangalore&fromCityId=122&toCityName=Hyderabad&toCityId=124&busType=Any&opId=18491&onward=10-Oct-2024\"\n",
    "    route_link.append(i)"
   ]
  },
  {
   "cell_type": "code",
   "execution_count": 56,
   "metadata": {},
   "outputs": [
    {
     "data": {
      "text/plain": [
       "['https://www.redbus.in/bus-tickets/bangalore-to-hyderabad?fromCityName=Bangalore&fromCityId=122&toCityName=Hyderabad&toCityId=124&busType=Any&opId=18491&onward=10-Oct-2024',\n",
       " 'https://www.redbus.in/bus-tickets/bangalore-to-hyderabad?fromCityName=Bangalore&fromCityId=122&toCityName=Hyderabad&toCityId=124&busType=Any&opId=18491&onward=10-Oct-2024',\n",
       " 'https://www.redbus.in/bus-tickets/bangalore-to-hyderabad?fromCityName=Bangalore&fromCityId=122&toCityName=Hyderabad&toCityId=124&busType=Any&opId=18491&onward=10-Oct-2024',\n",
       " 'https://www.redbus.in/bus-tickets/bangalore-to-hyderabad?fromCityName=Bangalore&fromCityId=122&toCityName=Hyderabad&toCityId=124&busType=Any&opId=18491&onward=10-Oct-2024',\n",
       " 'https://www.redbus.in/bus-tickets/bangalore-to-hyderabad?fromCityName=Bangalore&fromCityId=122&toCityName=Hyderabad&toCityId=124&busType=Any&opId=18491&onward=10-Oct-2024',\n",
       " 'https://www.redbus.in/bus-tickets/bangalore-to-hyderabad?fromCityName=Bangalore&fromCityId=122&toCityName=Hyderabad&toCityId=124&busType=Any&opId=18491&onward=10-Oct-2024',\n",
       " 'https://www.redbus.in/bus-tickets/bangalore-to-hyderabad?fromCityName=Bangalore&fromCityId=122&toCityName=Hyderabad&toCityId=124&busType=Any&opId=18491&onward=10-Oct-2024',\n",
       " 'https://www.redbus.in/bus-tickets/bangalore-to-hyderabad?fromCityName=Bangalore&fromCityId=122&toCityName=Hyderabad&toCityId=124&busType=Any&opId=18491&onward=10-Oct-2024',\n",
       " 'https://www.redbus.in/bus-tickets/bangalore-to-hyderabad?fromCityName=Bangalore&fromCityId=122&toCityName=Hyderabad&toCityId=124&busType=Any&opId=18491&onward=10-Oct-2024',\n",
       " 'https://www.redbus.in/bus-tickets/bangalore-to-hyderabad?fromCityName=Bangalore&fromCityId=122&toCityName=Hyderabad&toCityId=124&busType=Any&opId=18491&onward=10-Oct-2024',\n",
       " 'https://www.redbus.in/bus-tickets/bangalore-to-hyderabad?fromCityName=Bangalore&fromCityId=122&toCityName=Hyderabad&toCityId=124&busType=Any&opId=18491&onward=10-Oct-2024',\n",
       " 'https://www.redbus.in/bus-tickets/bangalore-to-hyderabad?fromCityName=Bangalore&fromCityId=122&toCityName=Hyderabad&toCityId=124&busType=Any&opId=18491&onward=10-Oct-2024',\n",
       " 'https://www.redbus.in/bus-tickets/bangalore-to-hyderabad?fromCityName=Bangalore&fromCityId=122&toCityName=Hyderabad&toCityId=124&busType=Any&opId=18491&onward=10-Oct-2024',\n",
       " 'https://www.redbus.in/bus-tickets/bangalore-to-hyderabad?fromCityName=Bangalore&fromCityId=122&toCityName=Hyderabad&toCityId=124&busType=Any&opId=18491&onward=10-Oct-2024',\n",
       " 'https://www.redbus.in/bus-tickets/bangalore-to-hyderabad?fromCityName=Bangalore&fromCityId=122&toCityName=Hyderabad&toCityId=124&busType=Any&opId=18491&onward=10-Oct-2024',\n",
       " 'https://www.redbus.in/bus-tickets/bangalore-to-hyderabad?fromCityName=Bangalore&fromCityId=122&toCityName=Hyderabad&toCityId=124&busType=Any&opId=18491&onward=10-Oct-2024',\n",
       " 'https://www.redbus.in/bus-tickets/bangalore-to-hyderabad?fromCityName=Bangalore&fromCityId=122&toCityName=Hyderabad&toCityId=124&busType=Any&opId=18491&onward=10-Oct-2024',\n",
       " 'https://www.redbus.in/bus-tickets/bangalore-to-hyderabad?fromCityName=Bangalore&fromCityId=122&toCityName=Hyderabad&toCityId=124&busType=Any&opId=18491&onward=10-Oct-2024',\n",
       " 'https://www.redbus.in/bus-tickets/bangalore-to-hyderabad?fromCityName=Bangalore&fromCityId=122&toCityName=Hyderabad&toCityId=124&busType=Any&opId=18491&onward=10-Oct-2024',\n",
       " 'https://www.redbus.in/bus-tickets/bangalore-to-hyderabad?fromCityName=Bangalore&fromCityId=122&toCityName=Hyderabad&toCityId=124&busType=Any&opId=18491&onward=10-Oct-2024',\n",
       " 'https://www.redbus.in/bus-tickets/bangalore-to-hyderabad?fromCityName=Bangalore&fromCityId=122&toCityName=Hyderabad&toCityId=124&busType=Any&opId=18491&onward=10-Oct-2024',\n",
       " 'https://www.redbus.in/bus-tickets/bangalore-to-hyderabad?fromCityName=Bangalore&fromCityId=122&toCityName=Hyderabad&toCityId=124&busType=Any&opId=18491&onward=10-Oct-2024',\n",
       " 'https://www.redbus.in/bus-tickets/bangalore-to-hyderabad?fromCityName=Bangalore&fromCityId=122&toCityName=Hyderabad&toCityId=124&busType=Any&opId=18491&onward=10-Oct-2024',\n",
       " 'https://www.redbus.in/bus-tickets/bangalore-to-hyderabad?fromCityName=Bangalore&fromCityId=122&toCityName=Hyderabad&toCityId=124&busType=Any&opId=18491&onward=10-Oct-2024',\n",
       " 'https://www.redbus.in/bus-tickets/bangalore-to-hyderabad?fromCityName=Bangalore&fromCityId=122&toCityName=Hyderabad&toCityId=124&busType=Any&opId=18491&onward=10-Oct-2024']"
      ]
     },
     "execution_count": 56,
     "metadata": {},
     "output_type": "execute_result"
    }
   ],
   "source": [
    "route_link"
   ]
  },
  {
   "cell_type": "markdown",
   "metadata": {},
   "source": []
  }
 ],
 "metadata": {
  "kernelspec": {
   "display_name": "base",
   "language": "python",
   "name": "python3"
  },
  "language_info": {
   "codemirror_mode": {
    "name": "ipython",
    "version": 3
   },
   "file_extension": ".py",
   "mimetype": "text/x-python",
   "name": "python",
   "nbconvert_exporter": "python",
   "pygments_lexer": "ipython3",
   "version": "3.11.4"
  }
 },
 "nbformat": 4,
 "nbformat_minor": 2
}
