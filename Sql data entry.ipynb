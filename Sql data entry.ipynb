{
 "cells": [
  {
   "cell_type": "markdown",
   "metadata": {},
   "source": [
    "# Importing libraries"
   ]
  },
  {
   "cell_type": "code",
   "execution_count": 1,
   "metadata": {},
   "outputs": [],
   "source": [
    "from selenium import webdriver\n",
    "import time\n",
    "from selenium.webdriver.common.by import By\n",
    "from selenium.webdriver.common.keys import Keys"
   ]
  },
  {
   "cell_type": "markdown",
   "metadata": {},
   "source": [
    "# setting up driver to access the webpage"
   ]
  },
  {
   "cell_type": "code",
   "execution_count": 2,
   "metadata": {},
   "outputs": [],
   "source": [
    "driver = webdriver.Chrome()"
   ]
  },
  {
   "cell_type": "markdown",
   "metadata": {},
   "source": [
    "# defining the landing page"
   ]
  },
  {
   "cell_type": "code",
   "execution_count": 3,
   "metadata": {},
   "outputs": [],
   "source": [
    "driver.get(\"https://www.redbus.in/\")\n",
    "time.sleep(5)"
   ]
  },
  {
   "cell_type": "markdown",
   "metadata": {},
   "source": [
    "# Selecting a RTC"
   ]
  },
  {
   "cell_type": "markdown",
   "metadata": {},
   "source": [
    "The route chosen to extract his BLR -> HYD through the RTC of telangana RTC"
   ]
  },
  {
   "cell_type": "code",
   "execution_count": 4,
   "metadata": {},
   "outputs": [],
   "source": [
    "TSRTC = driver.get(\"https://www.redbus.in/online-booking/tsrtc/\")"
   ]
  },
  {
   "cell_type": "markdown",
   "metadata": {},
   "source": [
    "## selecting source location"
   ]
  },
  {
   "cell_type": "code",
   "execution_count": 5,
   "metadata": {},
   "outputs": [],
   "source": [
    "start = \"bangalore\"\n",
    "source = driver.find_element(By.CSS_SELECTOR,\"input[id='txtSource']\").send_keys(start)\n"
   ]
  },
  {
   "cell_type": "markdown",
   "metadata": {},
   "source": [
    "## selecting destination location"
   ]
  },
  {
   "cell_type": "code",
   "execution_count": 6,
   "metadata": {},
   "outputs": [],
   "source": [
    "end = \"hyderabad\"\n",
    "final = driver.find_element(By.CSS_SELECTOR,\"input[id='txtDestination']\").send_keys(end)"
   ]
  },
  {
   "cell_type": "markdown",
   "metadata": {},
   "source": [
    "## selecting dates"
   ]
  },
  {
   "cell_type": "code",
   "execution_count": 7,
   "metadata": {},
   "outputs": [],
   "source": [
    "day = \"10-10-2024\"\n",
    "date = driver.find_element(By.CSS_SELECTOR,\"input[id='txtOnwardCalendar']\").send_keys(day)"
   ]
  },
  {
   "cell_type": "markdown",
   "metadata": {},
   "source": [
    "## submitting the request"
   ]
  },
  {
   "cell_type": "code",
   "execution_count": 8,
   "metadata": {},
   "outputs": [],
   "source": [
    "search_buses = driver.find_element(By.XPATH,\"//*[@id='DC120_sw_main']/button\").click()"
   ]
  },
  {
   "cell_type": "markdown",
   "metadata": {},
   "source": [
    "# extracting Data"
   ]
  },
  {
   "cell_type": "markdown",
   "metadata": {},
   "source": [
    "# Government Bus Data"
   ]
  },
  {
   "cell_type": "markdown",
   "metadata": {},
   "source": [
    "### Bus Name"
   ]
  },
  {
   "cell_type": "code",
   "execution_count": 12,
   "metadata": {},
   "outputs": [],
   "source": [
    "bus_name = driver.find_elements(By.XPATH,\"//div[@class='travels lh-24 f-bold d-color']\")"
   ]
  },
  {
   "cell_type": "code",
   "execution_count": 13,
   "metadata": {},
   "outputs": [],
   "source": [
    "Bus_Name = []"
   ]
  },
  {
   "cell_type": "code",
   "execution_count": 14,
   "metadata": {},
   "outputs": [],
   "source": [
    "for i in bus_name:\n",
    "    Bus_Name.append(i.text)"
   ]
  },
  {
   "cell_type": "code",
   "execution_count": 15,
   "metadata": {},
   "outputs": [
    {
     "data": {
      "text/plain": [
       "['TSRTC - 1004',\n",
       " 'TSRTC - 4494',\n",
       " 'TSRTC - 1298',\n",
       " 'TSRTC - 89149',\n",
       " 'TSRTC - 1038',\n",
       " 'TSRTC - 7144',\n",
       " 'TSRTC - 6818',\n",
       " 'TSRTC - 2995',\n",
       " 'TSRTC - 8208',\n",
       " 'TSRTC - 7291',\n",
       " 'TSRTC - 7809',\n",
       " 'TSRTC - 1957',\n",
       " 'TSRTC - 8212',\n",
       " 'TSRTC - 8666',\n",
       " 'TSRTC - 1010',\n",
       " 'TSRTC - 7811',\n",
       " 'TSRTC - 7661',\n",
       " 'TSRTC - 1014',\n",
       " 'TSRTC - 9572',\n",
       " 'TSRTC - 8210',\n",
       " 'TSRTC - 1002',\n",
       " 'TSRTC - 1083',\n",
       " 'TSRTC - 1030',\n",
       " 'TSRTC - 1295',\n",
       " 'TSRTC - 1300']"
      ]
     },
     "execution_count": 15,
     "metadata": {},
     "output_type": "execute_result"
    }
   ],
   "source": [
    "Bus_Name"
   ]
  },
  {
   "cell_type": "markdown",
   "metadata": {},
   "source": [
    "### Bus Type i.e sleeper/seater/Ac/Non-Ac"
   ]
  },
  {
   "cell_type": "code",
   "execution_count": 16,
   "metadata": {},
   "outputs": [],
   "source": [
    "bus_type = driver.find_elements(By.XPATH,\"//div[@class='bus-type f-12 m-top-16 l-color evBus']\")"
   ]
  },
  {
   "cell_type": "code",
   "execution_count": 17,
   "metadata": {},
   "outputs": [],
   "source": [
    "Bus_Type = []"
   ]
  },
  {
   "cell_type": "code",
   "execution_count": 18,
   "metadata": {},
   "outputs": [
    {
     "data": {
      "text/plain": [
       "[]"
      ]
     },
     "execution_count": 18,
     "metadata": {},
     "output_type": "execute_result"
    }
   ],
   "source": [
    "Bus_Type"
   ]
  },
  {
   "cell_type": "code",
   "execution_count": 19,
   "metadata": {},
   "outputs": [],
   "source": [
    "for i in bus_type:\n",
    "    Bus_Type.append(i.text)"
   ]
  },
  {
   "cell_type": "code",
   "execution_count": 20,
   "metadata": {},
   "outputs": [
    {
     "data": {
      "text/plain": [
       "['SUPER LUXURY (NON-AC, 2 + 2 PUSH BACK)',\n",
       " 'SUPER LUXURY (NON-AC, 2 + 2 PUSH BACK)',\n",
       " 'LAHARI A/C SLEEPER CUM SEATER',\n",
       " 'Lahari Non A/C Sleeper Cum Seater',\n",
       " 'SUPER LUXURY (NON-AC, 2 + 2 PUSH BACK)',\n",
       " 'SUPER LUXURY (NON-AC, 2 + 2 PUSH BACK)',\n",
       " 'SUPER LUXURY (NON-AC, 2 + 2 PUSH BACK)',\n",
       " 'LAHARI A/C SLEEPER CUM SEATER',\n",
       " 'SUPER LUXURY (NON-AC, 2 + 2 PUSH BACK)',\n",
       " 'LAHARI A/C SLEEPER CUM SEATER',\n",
       " 'LAHARI A/C SLEEPER CUM SEATER',\n",
       " 'SUPER LUXURY (NON-AC, 2 + 2 PUSH BACK)',\n",
       " 'LAHARI A/C SLEEPER CUM SEATER',\n",
       " 'LAHARI A/C SLEEPER CUM SEATER',\n",
       " 'SUPER LUXURY (NON-AC, 2 + 2 PUSH BACK)',\n",
       " 'LAHARI A/C SLEEPER CUM SEATER',\n",
       " 'LAHARI A/C SLEEPER CUM SEATER',\n",
       " 'LAHARI A/C SLEEPER CUM SEATER',\n",
       " 'Lahari A/C sleeper',\n",
       " 'LAHARI A/C SLEEPER CUM SEATER',\n",
       " 'LAHARI A/C SLEEPER CUM SEATER',\n",
       " 'Lahari A/C sleeper',\n",
       " 'SUPER LUXURY (NON-AC, 2 + 2 PUSH BACK)',\n",
       " 'Lahari A/C sleeper',\n",
       " 'LAHARI A/C SLEEPER CUM SEATER']"
      ]
     },
     "execution_count": 20,
     "metadata": {},
     "output_type": "execute_result"
    }
   ],
   "source": [
    "Bus_Type"
   ]
  },
  {
   "cell_type": "markdown",
   "metadata": {},
   "source": [
    "### Departing time"
   ]
  },
  {
   "cell_type": "code",
   "execution_count": 21,
   "metadata": {},
   "outputs": [],
   "source": [
    "departure = driver.find_elements(By.XPATH,\"//div[@class='dp-time f-19 d-color f-bold']\")"
   ]
  },
  {
   "cell_type": "code",
   "execution_count": 22,
   "metadata": {},
   "outputs": [],
   "source": [
    "departing_time = []"
   ]
  },
  {
   "cell_type": "code",
   "execution_count": 23,
   "metadata": {},
   "outputs": [],
   "source": [
    "for i in departure:\n",
    "    departing_time.append(i.text)"
   ]
  },
  {
   "cell_type": "code",
   "execution_count": 24,
   "metadata": {},
   "outputs": [
    {
     "data": {
      "text/plain": [
       "['05:10',\n",
       " '06:25',\n",
       " '08:25',\n",
       " '09:10',\n",
       " '10:10',\n",
       " '12:00',\n",
       " '13:40',\n",
       " '15:45',\n",
       " '17:30',\n",
       " '17:45',\n",
       " '18:40',\n",
       " '19:25',\n",
       " '19:30',\n",
       " '19:55',\n",
       " '20:10',\n",
       " '20:25',\n",
       " '20:45',\n",
       " '20:55',\n",
       " '21:10',\n",
       " '21:30',\n",
       " '21:55',\n",
       " '22:10',\n",
       " '22:40',\n",
       " '22:55',\n",
       " '23:10']"
      ]
     },
     "execution_count": 24,
     "metadata": {},
     "output_type": "execute_result"
    }
   ],
   "source": [
    "departing_time"
   ]
  },
  {
   "cell_type": "markdown",
   "metadata": {},
   "source": [
    "### Arrival time"
   ]
  },
  {
   "cell_type": "code",
   "execution_count": 25,
   "metadata": {},
   "outputs": [],
   "source": [
    "arrival = driver.find_elements(By.XPATH,\"//div[@class='bp-time f-19 d-color disp-Inline']\")"
   ]
  },
  {
   "cell_type": "code",
   "execution_count": 26,
   "metadata": {},
   "outputs": [],
   "source": [
    "Arrival_time = []"
   ]
  },
  {
   "cell_type": "code",
   "execution_count": 27,
   "metadata": {},
   "outputs": [],
   "source": [
    "for i in arrival:\n",
    "    Arrival_time.append(i.text)"
   ]
  },
  {
   "cell_type": "code",
   "execution_count": 28,
   "metadata": {},
   "outputs": [
    {
     "data": {
      "text/plain": [
       "['16:00',\n",
       " '16:50',\n",
       " '19:25',\n",
       " '20:50',\n",
       " '21:20',\n",
       " '00:30',\n",
       " '00:35',\n",
       " '03:15',\n",
       " '04:00',\n",
       " '04:00',\n",
       " '04:30',\n",
       " '06:40',\n",
       " '04:30',\n",
       " '06:30',\n",
       " '07:10',\n",
       " '06:30',\n",
       " '06:45',\n",
       " '06:50',\n",
       " '08:20',\n",
       " '06:25',\n",
       " '08:10',\n",
       " '09:00',\n",
       " '09:40',\n",
       " '09:35',\n",
       " '09:10']"
      ]
     },
     "execution_count": 28,
     "metadata": {},
     "output_type": "execute_result"
    }
   ],
   "source": [
    "Arrival_time"
   ]
  },
  {
   "cell_type": "markdown",
   "metadata": {},
   "source": [
    "### Duration"
   ]
  },
  {
   "cell_type": "code",
   "execution_count": 29,
   "metadata": {},
   "outputs": [],
   "source": [
    "time = driver.find_elements(By.XPATH,\"//div[@class='dur l-color lh-24']\")"
   ]
  },
  {
   "cell_type": "code",
   "execution_count": 30,
   "metadata": {},
   "outputs": [],
   "source": [
    "Duration = []"
   ]
  },
  {
   "cell_type": "code",
   "execution_count": 31,
   "metadata": {},
   "outputs": [],
   "source": [
    "for i in time:\n",
    "    Duration.append(i.text)"
   ]
  },
  {
   "cell_type": "code",
   "execution_count": 32,
   "metadata": {},
   "outputs": [
    {
     "data": {
      "text/plain": [
       "['10h 50m',\n",
       " '10h 25m',\n",
       " '11h 00m',\n",
       " '11h 40m',\n",
       " '11h 10m',\n",
       " '12h 30m',\n",
       " '10h 55m',\n",
       " '11h 30m',\n",
       " '10h 30m',\n",
       " '10h 15m',\n",
       " '09h 50m',\n",
       " '11h 15m',\n",
       " '09h 00m',\n",
       " '10h 35m',\n",
       " '11h 00m',\n",
       " '10h 05m',\n",
       " '10h 00m',\n",
       " '09h 55m',\n",
       " '11h 10m',\n",
       " '08h 55m',\n",
       " '10h 15m',\n",
       " '10h 50m',\n",
       " '11h 00m',\n",
       " '10h 40m',\n",
       " '10h 00m']"
      ]
     },
     "execution_count": 32,
     "metadata": {},
     "output_type": "execute_result"
    }
   ],
   "source": [
    "Duration"
   ]
  },
  {
   "cell_type": "markdown",
   "metadata": {},
   "source": [
    "### Star Rating"
   ]
  },
  {
   "cell_type": "code",
   "execution_count": 33,
   "metadata": {},
   "outputs": [],
   "source": [
    "star = driver.find_elements(By.XPATH,\"//div[@class='rating-sec lh-24']\")"
   ]
  },
  {
   "cell_type": "code",
   "execution_count": 34,
   "metadata": {},
   "outputs": [],
   "source": [
    "Star_rate = []"
   ]
  },
  {
   "cell_type": "code",
   "execution_count": 35,
   "metadata": {},
   "outputs": [],
   "source": [
    "for i in star:\n",
    "    Star_rate.append(i.text)"
   ]
  },
  {
   "cell_type": "code",
   "execution_count": 36,
   "metadata": {},
   "outputs": [
    {
     "data": {
      "text/plain": [
       "['3.4',\n",
       " '2.8',\n",
       " '3.4',\n",
       " '3.2',\n",
       " '2.5',\n",
       " '3.2',\n",
       " '3.7',\n",
       " '3.7',\n",
       " '3.0',\n",
       " '4.2',\n",
       " '3.4',\n",
       " '3.7',\n",
       " '3.4',\n",
       " '3.8',\n",
       " '3.1',\n",
       " '3.9',\n",
       " '3.8',\n",
       " '3.9',\n",
       " '3.9',\n",
       " '4.0',\n",
       " '3.8',\n",
       " '3.7',\n",
       " '2.9',\n",
       " '3.8',\n",
       " '3.9']"
      ]
     },
     "execution_count": 36,
     "metadata": {},
     "output_type": "execute_result"
    }
   ],
   "source": [
    "Star_rate"
   ]
  },
  {
   "cell_type": "markdown",
   "metadata": {},
   "source": [
    "### Price"
   ]
  },
  {
   "cell_type": "code",
   "execution_count": 37,
   "metadata": {},
   "outputs": [],
   "source": [
    "cost = driver.find_elements(By.XPATH,\"//div[@class='fare d-block']\")"
   ]
  },
  {
   "cell_type": "code",
   "execution_count": 38,
   "metadata": {},
   "outputs": [],
   "source": [
    "Price = []"
   ]
  },
  {
   "cell_type": "code",
   "execution_count": 39,
   "metadata": {},
   "outputs": [],
   "source": [
    "for i in cost:\n",
    "    Price.append(i.text)"
   ]
  },
  {
   "cell_type": "code",
   "execution_count": 40,
   "metadata": {},
   "outputs": [
    {
     "data": {
      "text/plain": [
       "['INR 1263',\n",
       " 'INR 1263',\n",
       " 'INR 1560',\n",
       " 'INR 1263',\n",
       " 'INR 1263',\n",
       " 'INR 1263',\n",
       " 'INR 1263',\n",
       " 'INR 1560',\n",
       " 'INR 1263',\n",
       " 'INR 1560',\n",
       " 'INR 1560',\n",
       " 'INR 1263',\n",
       " 'INR 1560',\n",
       " 'INR 1560',\n",
       " 'INR 1263',\n",
       " 'INR 1560',\n",
       " 'INR 1560',\n",
       " 'INR 1560',\n",
       " 'INR 2346',\n",
       " 'INR 1560',\n",
       " 'INR 1560',\n",
       " 'INR 2346',\n",
       " 'INR 1263',\n",
       " 'INR 2346',\n",
       " 'INR 1560']"
      ]
     },
     "execution_count": 40,
     "metadata": {},
     "output_type": "execute_result"
    }
   ],
   "source": [
    "Price"
   ]
  },
  {
   "cell_type": "code",
   "execution_count": 41,
   "metadata": {},
   "outputs": [
    {
     "name": "stdout",
     "output_type": "stream",
     "text": [
      "Cleaned Values: ['1263', '1263', '1560', '1263', '1263', '1263', '1263', '1560', '1263', '1560', '1560', '1263', '1560', '1560', '1263', '1560', '1560', '1560', '2346', '1560', '1560', '2346', '1263', '2346', '1560']\n"
     ]
    }
   ],
   "source": [
    "cleaned_cost = [item.replace('INR ', '') if 'INR ' in item else item for item in Price]\n",
    "\n",
    "# Print results\n",
    "print(\"Cleaned Values:\", cleaned_cost)"
   ]
  },
  {
   "cell_type": "markdown",
   "metadata": {},
   "source": [
    "### Seats available"
   ]
  },
  {
   "cell_type": "code",
   "execution_count": 42,
   "metadata": {},
   "outputs": [],
   "source": [
    "seats = driver.find_elements(By.XPATH,\"//div[@class='seat-left m-top-16']\")"
   ]
  },
  {
   "cell_type": "code",
   "execution_count": 43,
   "metadata": {},
   "outputs": [],
   "source": [
    "Seat_Availability = []"
   ]
  },
  {
   "cell_type": "code",
   "execution_count": 44,
   "metadata": {},
   "outputs": [],
   "source": [
    "for i in seats:\n",
    "    Seat_Availability.append(i.text)"
   ]
  },
  {
   "cell_type": "code",
   "execution_count": 45,
   "metadata": {},
   "outputs": [
    {
     "data": {
      "text/plain": [
       "['30 Seats available',\n",
       " '31 Seats available',\n",
       " '21 Seats available',\n",
       " '38 Seats available',\n",
       " '30 Seats available']"
      ]
     },
     "execution_count": 45,
     "metadata": {},
     "output_type": "execute_result"
    }
   ],
   "source": [
    "Seat_Availability"
   ]
  },
  {
   "cell_type": "markdown",
   "metadata": {},
   "source": [
    "#### buses with higher seats remaining"
   ]
  },
  {
   "cell_type": "code",
   "execution_count": 46,
   "metadata": {},
   "outputs": [],
   "source": [
    "seats1 = driver.find_elements(By.XPATH,\"//div[@class='seat-left m-top-30']\")"
   ]
  },
  {
   "cell_type": "code",
   "execution_count": 47,
   "metadata": {},
   "outputs": [],
   "source": [
    "for i in seats1:\n",
    "    Seat_Availability.append(i.text)"
   ]
  },
  {
   "cell_type": "code",
   "execution_count": 48,
   "metadata": {},
   "outputs": [
    {
     "data": {
      "text/plain": [
       "['30 Seats available',\n",
       " '31 Seats available',\n",
       " '21 Seats available',\n",
       " '38 Seats available',\n",
       " '30 Seats available',\n",
       " '33 Seats available',\n",
       " '31 Seats available',\n",
       " '32 Seats available',\n",
       " '31 Seats available',\n",
       " '32 Seats available',\n",
       " '34 Seats available',\n",
       " '29 Seats available',\n",
       " '28 Seats available',\n",
       " '37 Seats available',\n",
       " '28 Seats available',\n",
       " '32 Seats available',\n",
       " '32 Seats available',\n",
       " '27 Seats available',\n",
       " '27 Seats available',\n",
       " '32 Seats available',\n",
       " '30 Seats available',\n",
       " '25 Seats available',\n",
       " '31 Seats available',\n",
       " '28 Seats available',\n",
       " '34 Seats available']"
      ]
     },
     "execution_count": 48,
     "metadata": {},
     "output_type": "execute_result"
    }
   ],
   "source": [
    "Seat_Availability"
   ]
  },
  {
   "cell_type": "markdown",
   "metadata": {},
   "source": [
    "#### spliting numerical value separately"
   ]
  },
  {
   "cell_type": "code",
   "execution_count": 49,
   "metadata": {},
   "outputs": [],
   "source": [
    "availability = []\n",
    "dump = []\n",
    "\n",
    "for i in Seat_Availability:\n",
    "    avail,seats,status= i.split()\n",
    "    availability.append(avail)\n",
    "    dump.append(f\"{seats}{status}\")"
   ]
  },
  {
   "cell_type": "code",
   "execution_count": 50,
   "metadata": {},
   "outputs": [
    {
     "data": {
      "text/plain": [
       "['30',\n",
       " '31',\n",
       " '21',\n",
       " '38',\n",
       " '30',\n",
       " '33',\n",
       " '31',\n",
       " '32',\n",
       " '31',\n",
       " '32',\n",
       " '34',\n",
       " '29',\n",
       " '28',\n",
       " '37',\n",
       " '28',\n",
       " '32',\n",
       " '32',\n",
       " '27',\n",
       " '27',\n",
       " '32',\n",
       " '30',\n",
       " '25',\n",
       " '31',\n",
       " '28',\n",
       " '34']"
      ]
     },
     "execution_count": 50,
     "metadata": {},
     "output_type": "execute_result"
    }
   ],
   "source": [
    "availability"
   ]
  },
  {
   "cell_type": "markdown",
   "metadata": {},
   "source": [
    "### Bus route Name"
   ]
  },
  {
   "cell_type": "code",
   "execution_count": 51,
   "metadata": {},
   "outputs": [],
   "source": [
    "start_point = driver.find_elements(By.XPATH,\"//div[@class='dp-loc l-color w-wrap f-12 m-top-16']\")\n",
    "end_point = driver.find_elements(By.XPATH,\"//div[@class='bp-loc l-color w-wrap f-12 m-top-16']\")"
   ]
  },
  {
   "cell_type": "code",
   "execution_count": 52,
   "metadata": {},
   "outputs": [],
   "source": [
    "map = []"
   ]
  },
  {
   "cell_type": "code",
   "execution_count": 53,
   "metadata": {},
   "outputs": [],
   "source": [
    "for i in start_point:\n",
    "    for j in end_point:\n",
    "        a = (i.text + \" to \" + j.text )\n",
    "        map.append(a)"
   ]
  },
  {
   "cell_type": "code",
   "execution_count": 54,
   "metadata": {},
   "outputs": [
    {
     "data": {
      "text/plain": [
       "['Hebbal to Shamshabad',\n",
       " 'Hebbal to Shamshabad',\n",
       " 'Hebbal to Shamshabad',\n",
       " 'Hebbal to Kukatpally',\n",
       " 'Hebbal to Shivarampalli',\n",
       " 'Hebbal to Shamshabad',\n",
       " 'Hebbal to Shamshabad',\n",
       " 'Hebbal to Shamshabad',\n",
       " 'Hebbal to Kukatpally',\n",
       " 'Hebbal to Shivarampalli',\n",
       " 'Hebbal to Shamshabad',\n",
       " 'Hebbal to Shamshabad',\n",
       " 'Hebbal to Shamshabad',\n",
       " 'Hebbal to Kukatpally',\n",
       " 'Hebbal to Shivarampalli',\n",
       " 'Hebbal to Shamshabad',\n",
       " 'Hebbal to Shamshabad',\n",
       " 'Hebbal to Shamshabad',\n",
       " 'Hebbal to Kukatpally',\n",
       " 'Hebbal to Shivarampalli',\n",
       " 'Hebbal to Shamshabad',\n",
       " 'Hebbal to Shamshabad',\n",
       " 'Hebbal to Shamshabad',\n",
       " 'Hebbal to Kukatpally',\n",
       " 'Hebbal to Shivarampalli']"
      ]
     },
     "execution_count": 54,
     "metadata": {},
     "output_type": "execute_result"
    }
   ],
   "source": [
    "map"
   ]
  },
  {
   "cell_type": "code",
   "execution_count": 55,
   "metadata": {},
   "outputs": [],
   "source": [
    "route_link = []\n",
    "for i in range(10):\n",
    "    i = \"https://www.redbus.in/bus-tickets/bangalore-to-hyderabad?fromCityName=Bangalore&fromCityId=122&toCityName=Hyderabad&toCityId=124&busType=Any&opId=18491&onward=10-Oct-2024\"\n",
    "    route_link.append(i)"
   ]
  },
  {
   "cell_type": "code",
   "execution_count": 56,
   "metadata": {},
   "outputs": [
    {
     "data": {
      "text/plain": [
       "['https://www.redbus.in/bus-tickets/bangalore-to-hyderabad?fromCityName=Bangalore&fromCityId=122&toCityName=Hyderabad&toCityId=124&busType=Any&opId=18491&onward=10-Oct-2024',\n",
       " 'https://www.redbus.in/bus-tickets/bangalore-to-hyderabad?fromCityName=Bangalore&fromCityId=122&toCityName=Hyderabad&toCityId=124&busType=Any&opId=18491&onward=10-Oct-2024',\n",
       " 'https://www.redbus.in/bus-tickets/bangalore-to-hyderabad?fromCityName=Bangalore&fromCityId=122&toCityName=Hyderabad&toCityId=124&busType=Any&opId=18491&onward=10-Oct-2024',\n",
       " 'https://www.redbus.in/bus-tickets/bangalore-to-hyderabad?fromCityName=Bangalore&fromCityId=122&toCityName=Hyderabad&toCityId=124&busType=Any&opId=18491&onward=10-Oct-2024',\n",
       " 'https://www.redbus.in/bus-tickets/bangalore-to-hyderabad?fromCityName=Bangalore&fromCityId=122&toCityName=Hyderabad&toCityId=124&busType=Any&opId=18491&onward=10-Oct-2024',\n",
       " 'https://www.redbus.in/bus-tickets/bangalore-to-hyderabad?fromCityName=Bangalore&fromCityId=122&toCityName=Hyderabad&toCityId=124&busType=Any&opId=18491&onward=10-Oct-2024',\n",
       " 'https://www.redbus.in/bus-tickets/bangalore-to-hyderabad?fromCityName=Bangalore&fromCityId=122&toCityName=Hyderabad&toCityId=124&busType=Any&opId=18491&onward=10-Oct-2024',\n",
       " 'https://www.redbus.in/bus-tickets/bangalore-to-hyderabad?fromCityName=Bangalore&fromCityId=122&toCityName=Hyderabad&toCityId=124&busType=Any&opId=18491&onward=10-Oct-2024',\n",
       " 'https://www.redbus.in/bus-tickets/bangalore-to-hyderabad?fromCityName=Bangalore&fromCityId=122&toCityName=Hyderabad&toCityId=124&busType=Any&opId=18491&onward=10-Oct-2024',\n",
       " 'https://www.redbus.in/bus-tickets/bangalore-to-hyderabad?fromCityName=Bangalore&fromCityId=122&toCityName=Hyderabad&toCityId=124&busType=Any&opId=18491&onward=10-Oct-2024']"
      ]
     },
     "execution_count": 56,
     "metadata": {},
     "output_type": "execute_result"
    }
   ],
   "source": [
    "route_link"
   ]
  },
  {
   "cell_type": "markdown",
   "metadata": {},
   "source": [
    "# Private Bus Data"
   ]
  },
  {
   "cell_type": "markdown",
   "metadata": {},
   "source": [
    "## Selecting route"
   ]
  },
  {
   "cell_type": "markdown",
   "metadata": {},
   "source": [
    "Selecting the same route as taken to the government bus data.\n",
    "\n",
    "\n",
    "BLR -> HYD"
   ]
  },
  {
   "cell_type": "code",
   "execution_count": 57,
   "metadata": {},
   "outputs": [],
   "source": [
    "driver.get(\"https://www.redbus.in/\")"
   ]
  },
  {
   "cell_type": "markdown",
   "metadata": {},
   "source": [
    "## inputting the data"
   ]
  },
  {
   "cell_type": "code",
   "execution_count": 58,
   "metadata": {},
   "outputs": [],
   "source": [
    "start = \"bangalore\"\n",
    "source = driver.find_element(By.ID,\"src\").send_keys(start)"
   ]
  },
  {
   "cell_type": "code",
   "execution_count": 59,
   "metadata": {},
   "outputs": [],
   "source": [
    "end = \"hyderabad\"\n",
    "final = driver.find_element(By.ID,\"dest\").send_keys(end)"
   ]
  },
  {
   "cell_type": "code",
   "execution_count": 60,
   "metadata": {},
   "outputs": [],
   "source": [
    "search_button = driver.find_element(By.ID,\"search_button\").click()"
   ]
  },
  {
   "cell_type": "markdown",
   "metadata": {},
   "source": [
    "## Private Bus Name"
   ]
  },
  {
   "cell_type": "code",
   "execution_count": 61,
   "metadata": {},
   "outputs": [],
   "source": [
    "Pbus_name = driver.find_elements(By.XPATH,\"//div[@class='travels lh-24 f-bold d-color']\")"
   ]
  },
  {
   "cell_type": "code",
   "execution_count": 62,
   "metadata": {},
   "outputs": [],
   "source": [
    "PBus_Name = []"
   ]
  },
  {
   "cell_type": "code",
   "execution_count": 63,
   "metadata": {},
   "outputs": [],
   "source": [
    "for i in Pbus_name:\n",
    "    PBus_Name.append(i.text)"
   ]
  },
  {
   "cell_type": "code",
   "execution_count": 64,
   "metadata": {},
   "outputs": [
    {
     "data": {
      "text/plain": [
       "['Intercity travels',\n",
       " 'Shyamoli Paribahan Pvt Ltd',\n",
       " 'Intercity travels',\n",
       " 'Ramana Tours And Travels',\n",
       " 'Intercity travels',\n",
       " 'Shyamoli Paribahan Pvt Ltd',\n",
       " 'Ramana Tours And Travels',\n",
       " 'YAS TOURS AND TRAVELS',\n",
       " 'YAS TOURS AND TRAVELS',\n",
       " 'YAS TOURS AND TRAVELS',\n",
       " 'YAS TOURS AND TRAVELS',\n",
       " 'DHANUNJAYA TRAVELS',\n",
       " 'Intercity travels',\n",
       " 'Northern Travels',\n",
       " 'SRS Travels',\n",
       " 'DHANUNJAYA TRAVELS',\n",
       " 'Bharathi Travels',\n",
       " 'SRS Travels',\n",
       " 'SRS Travels',\n",
       " 'Northern Travels',\n",
       " 'Northern Travels',\n",
       " 'DHANUNJAYA TRAVELS',\n",
       " 'Tranzindia Travels',\n",
       " 'Tranzindia Travels',\n",
       " 'DHANUNJAYA TRAVELS',\n",
       " 'DHANUNJAYA TRAVELS',\n",
       " 'PSK Travels',\n",
       " 'PSK Travels']"
      ]
     },
     "execution_count": 64,
     "metadata": {},
     "output_type": "execute_result"
    }
   ],
   "source": [
    "PBus_Name"
   ]
  },
  {
   "cell_type": "markdown",
   "metadata": {},
   "source": [
    "## Private Bus Type"
   ]
  },
  {
   "cell_type": "code",
   "execution_count": 65,
   "metadata": {},
   "outputs": [],
   "source": [
    "Pbus_Type = driver.find_elements(By.XPATH,\"//div[@class='bus-type f-12 m-top-16 l-color evBus']\")"
   ]
  },
  {
   "cell_type": "code",
   "execution_count": 66,
   "metadata": {},
   "outputs": [],
   "source": [
    "PBus_Type = []"
   ]
  },
  {
   "cell_type": "code",
   "execution_count": 67,
   "metadata": {},
   "outputs": [],
   "source": [
    "for i in Pbus_Type:\n",
    "    PBus_Type.append(i.text)"
   ]
  },
  {
   "cell_type": "code",
   "execution_count": 68,
   "metadata": {},
   "outputs": [
    {
     "data": {
      "text/plain": [
       "['Bharat Benz A/C Sleeper (2+1)',\n",
       " 'Volvo 9600 Multi-Axle A/C Sleeper (2+1)',\n",
       " 'Bharat Benz A/C Sleeper (2+1)',\n",
       " 'A/C Sleeper (2+1)',\n",
       " 'Bharat Benz A/C Sleeper (2+1)',\n",
       " 'Volvo 9600 Multi-Axle A/C Sleeper (2+1)',\n",
       " 'A/C Sleeper (2+1)',\n",
       " 'Volvo Multi Axle A/C Sleeper I-Shift B11R (2+1)',\n",
       " 'Volvo Multi Axle A/C Sleeper I-Shift B11R (2+1)',\n",
       " 'Volvo Multi Axle A/C Sleeper I-Shift B11R (2+1)',\n",
       " 'Volvo A/C B11R Multi Axle Semi Sleeper (2+2)',\n",
       " 'A/C Semi Sleeper / Sleeper (2+1)',\n",
       " 'A/C Sleeper (2+1)',\n",
       " 'Bharat Benz A/C Seater /Sleeper (2+1)',\n",
       " 'Scania Multi-Axle AC Semi Sleeper (2+2)',\n",
       " 'A/C Seater / Sleeper (2+1)',\n",
       " 'A/C Sleeper (2+1)',\n",
       " 'A/C Sleeper (2+1)',\n",
       " 'NON AC Seater / Sleeper 2+1',\n",
       " 'Bharat Benz A/C Seater /Sleeper (2+1)',\n",
       " 'Bharat Benz A/C Seater /Sleeper (2+1)',\n",
       " 'A/C Seater / Sleeper (2+1)',\n",
       " 'Non A/C Seater / Sleeper (2+1)',\n",
       " 'Non A/C Seater / Sleeper (2+1)',\n",
       " 'A/C Semi Sleeper / Sleeper (2+1)',\n",
       " 'A/C Sleeper (2+1)',\n",
       " 'Bharat Benz A/C Sleeper (2+1)',\n",
       " 'Volvo Multi Axle A/C Sleeper I-Shift B11R (2+1)']"
      ]
     },
     "execution_count": 68,
     "metadata": {},
     "output_type": "execute_result"
    }
   ],
   "source": [
    "PBus_Type"
   ]
  },
  {
   "cell_type": "markdown",
   "metadata": {},
   "source": [
    "## Private Bus Departing Time"
   ]
  },
  {
   "cell_type": "code",
   "execution_count": 69,
   "metadata": {},
   "outputs": [],
   "source": [
    "Pdeparute = driver.find_elements(By.XPATH,\"//div[@class='dp-time f-19 d-color f-bold']\")"
   ]
  },
  {
   "cell_type": "code",
   "execution_count": 70,
   "metadata": {},
   "outputs": [],
   "source": [
    "PDeparting_Time = []"
   ]
  },
  {
   "cell_type": "code",
   "execution_count": 71,
   "metadata": {},
   "outputs": [],
   "source": [
    "for i in Pdeparute:\n",
    "    PDeparting_Time.append(i.text)"
   ]
  },
  {
   "cell_type": "code",
   "execution_count": 72,
   "metadata": {},
   "outputs": [
    {
     "data": {
      "text/plain": [
       "['20:00',\n",
       " '21:35',\n",
       " '20:30',\n",
       " '21:30',\n",
       " '21:00',\n",
       " '23:15',\n",
       " '21:00',\n",
       " '23:35',\n",
       " '01:20',\n",
       " '22:25',\n",
       " '00:30',\n",
       " '20:40',\n",
       " '19:30',\n",
       " '22:00',\n",
       " '12:00',\n",
       " '23:59',\n",
       " '23:52',\n",
       " '22:00',\n",
       " '21:00',\n",
       " '21:55',\n",
       " '14:45',\n",
       " '23:45',\n",
       " '22:10',\n",
       " '22:40',\n",
       " '20:35',\n",
       " '22:10',\n",
       " '23:15',\n",
       " '00:20']"
      ]
     },
     "execution_count": 72,
     "metadata": {},
     "output_type": "execute_result"
    }
   ],
   "source": [
    "PDeparting_Time"
   ]
  },
  {
   "cell_type": "markdown",
   "metadata": {},
   "source": [
    "## Private Bus Arrival Time"
   ]
  },
  {
   "cell_type": "code",
   "execution_count": 73,
   "metadata": {},
   "outputs": [],
   "source": [
    "Parrival = driver.find_elements(By.XPATH,\"//div[@class='bp-time f-19 d-color disp-Inline']\")"
   ]
  },
  {
   "cell_type": "code",
   "execution_count": 74,
   "metadata": {},
   "outputs": [],
   "source": [
    "PArrival_Time = []"
   ]
  },
  {
   "cell_type": "code",
   "execution_count": 75,
   "metadata": {},
   "outputs": [],
   "source": [
    "for i in Parrival:\n",
    "    PArrival_Time.append(i.text)"
   ]
  },
  {
   "cell_type": "code",
   "execution_count": 76,
   "metadata": {},
   "outputs": [
    {
     "data": {
      "text/plain": [
       "['06:30',\n",
       " '07:40',\n",
       " '07:45',\n",
       " '08:15',\n",
       " '07:30',\n",
       " '07:00',\n",
       " '07:15',\n",
       " '09:40',\n",
       " '10:30',\n",
       " '08:05',\n",
       " '10:10',\n",
       " '07:10',\n",
       " '06:20',\n",
       " '07:10',\n",
       " '21:35',\n",
       " '09:30',\n",
       " '08:00',\n",
       " '07:30',\n",
       " '07:30',\n",
       " '07:05',\n",
       " '01:30',\n",
       " '09:00',\n",
       " '07:05',\n",
       " '07:35',\n",
       " '07:05',\n",
       " '08:40',\n",
       " '08:50',\n",
       " '09:25']"
      ]
     },
     "execution_count": 76,
     "metadata": {},
     "output_type": "execute_result"
    }
   ],
   "source": [
    "PArrival_Time"
   ]
  },
  {
   "cell_type": "markdown",
   "metadata": {},
   "source": [
    "## Private Bus Duration"
   ]
  },
  {
   "cell_type": "code",
   "execution_count": 77,
   "metadata": {},
   "outputs": [],
   "source": [
    "Ptime = driver.find_elements(By.XPATH,\"//div[@class='dur l-color lh-24']\")"
   ]
  },
  {
   "cell_type": "code",
   "execution_count": 78,
   "metadata": {},
   "outputs": [],
   "source": [
    "PDuration = []"
   ]
  },
  {
   "cell_type": "code",
   "execution_count": 79,
   "metadata": {},
   "outputs": [],
   "source": [
    "for i in Ptime:\n",
    "    PDuration.append(i.text)"
   ]
  },
  {
   "cell_type": "code",
   "execution_count": 80,
   "metadata": {},
   "outputs": [
    {
     "data": {
      "text/plain": [
       "['10h 30m',\n",
       " '10h 05m',\n",
       " '11h 15m',\n",
       " '10h 45m',\n",
       " '10h 30m',\n",
       " '07h 45m',\n",
       " '10h 15m',\n",
       " '10h 05m',\n",
       " '09h 10m',\n",
       " '09h 40m',\n",
       " '09h 40m',\n",
       " '10h 30m',\n",
       " '10h 50m',\n",
       " '09h 10m',\n",
       " '09h 35m',\n",
       " '09h 31m',\n",
       " '08h 08m',\n",
       " '09h 30m',\n",
       " '10h 30m',\n",
       " '09h 10m',\n",
       " '10h 45m',\n",
       " '09h 15m',\n",
       " '08h 55m',\n",
       " '08h 55m',\n",
       " '10h 30m',\n",
       " '10h 30m',\n",
       " '09h 35m',\n",
       " '09h 05m']"
      ]
     },
     "execution_count": 80,
     "metadata": {},
     "output_type": "execute_result"
    }
   ],
   "source": [
    "PDuration"
   ]
  },
  {
   "cell_type": "markdown",
   "metadata": {},
   "source": [
    "## Private Star Rating"
   ]
  },
  {
   "cell_type": "code",
   "execution_count": 81,
   "metadata": {},
   "outputs": [],
   "source": [
    "Pstar = driver.find_elements(By.XPATH,\"//div[@class='rating-sec lh-24']\")"
   ]
  },
  {
   "cell_type": "code",
   "execution_count": 82,
   "metadata": {},
   "outputs": [],
   "source": [
    "PStar_rate = []"
   ]
  },
  {
   "cell_type": "code",
   "execution_count": 83,
   "metadata": {},
   "outputs": [],
   "source": [
    "for i in Pstar:\n",
    "    PStar_rate.append(i.text)"
   ]
  },
  {
   "cell_type": "code",
   "execution_count": 84,
   "metadata": {},
   "outputs": [
    {
     "data": {
      "text/plain": [
       "['4.6',\n",
       " '4.6',\n",
       " '4.6',\n",
       " '4.4',\n",
       " '4.4',\n",
       " '4.3',\n",
       " '4.1',\n",
       " '3.8',\n",
       " '3.6',\n",
       " '4.0',\n",
       " '3.5',\n",
       " '3.1',\n",
       " '4.5',\n",
       " '3.1',\n",
       " '2.5',\n",
       " '2.4',\n",
       " '1.6',\n",
       " '2.1',\n",
       " '3.0',\n",
       " '2.8',\n",
       " '2.6',\n",
       " '2.0',\n",
       " '1.9',\n",
       " '2.1',\n",
       " '2.8',\n",
       " '1.1',\n",
       " '3.3',\n",
       " '3.3']"
      ]
     },
     "execution_count": 84,
     "metadata": {},
     "output_type": "execute_result"
    }
   ],
   "source": [
    "PStar_rate"
   ]
  },
  {
   "cell_type": "markdown",
   "metadata": {},
   "source": [
    "## Private Bus fare"
   ]
  },
  {
   "cell_type": "code",
   "execution_count": 85,
   "metadata": {},
   "outputs": [],
   "source": [
    "Pfare = driver.find_elements(By.XPATH,\"//div[@class='fare d-block']\")"
   ]
  },
  {
   "cell_type": "code",
   "execution_count": 86,
   "metadata": {},
   "outputs": [],
   "source": [
    "PBus_Fare = []"
   ]
  },
  {
   "cell_type": "code",
   "execution_count": 87,
   "metadata": {},
   "outputs": [],
   "source": [
    "for i in Pfare:\n",
    "    PBus_Fare.append(i.text)"
   ]
  },
  {
   "cell_type": "code",
   "execution_count": 88,
   "metadata": {},
   "outputs": [
    {
     "data": {
      "text/plain": [
       "['INR 2799',\n",
       " 'INR 3200',\n",
       " 'INR 2799',\n",
       " '2750',\n",
       " 'INR 2799',\n",
       " 'INR 2200',\n",
       " '2750',\n",
       " 'INR 1300',\n",
       " 'INR 1300',\n",
       " 'INR 1300',\n",
       " 'INR 1000',\n",
       " 'INR 1490',\n",
       " 'INR 2799',\n",
       " '759',\n",
       " 'INR 2800',\n",
       " 'INR 1490',\n",
       " 'INR 990',\n",
       " 'INR 2450',\n",
       " 'INR 2150',\n",
       " '854',\n",
       " '1234',\n",
       " 'INR 3000',\n",
       " 'INR 1150',\n",
       " 'INR 1550',\n",
       " 'INR 1490',\n",
       " 'INR 1990',\n",
       " 'INR 1590',\n",
       " 'INR 1690']"
      ]
     },
     "execution_count": 88,
     "metadata": {},
     "output_type": "execute_result"
    }
   ],
   "source": [
    "PBus_Fare"
   ]
  },
  {
   "cell_type": "code",
   "execution_count": 89,
   "metadata": {},
   "outputs": [
    {
     "name": "stdout",
     "output_type": "stream",
     "text": [
      "Cleaned Values: ['2799', '3200', '2799', '2750', '2799', '2200', '2750', '1300', '1300', '1300', '1000', '1490', '2799', '759', '2800', '1490', '990', '2450', '2150', '854', '1234', '3000', '1150', '1550', '1490', '1990', '1590', '1690']\n"
     ]
    }
   ],
   "source": [
    "cleaned_pcost = [item.replace('INR ', '') if 'INR ' in item else item for item in PBus_Fare]\n",
    "\n",
    "# Print results\n",
    "print(\"Cleaned Values:\", cleaned_pcost)"
   ]
  },
  {
   "cell_type": "markdown",
   "metadata": {},
   "source": [
    "## Private seat availability"
   ]
  },
  {
   "cell_type": "code",
   "execution_count": 90,
   "metadata": {},
   "outputs": [],
   "source": [
    "PSeat = driver.find_elements(By.XPATH,\"//div[@class='column-eight w-15 fl']\")"
   ]
  },
  {
   "cell_type": "code",
   "execution_count": 91,
   "metadata": {},
   "outputs": [],
   "source": [
    "Pseats = []"
   ]
  },
  {
   "cell_type": "code",
   "execution_count": 92,
   "metadata": {},
   "outputs": [],
   "source": [
    "for i in PSeat:\n",
    "    Pseats.append(i.text)"
   ]
  },
  {
   "cell_type": "code",
   "execution_count": 93,
   "metadata": {},
   "outputs": [
    {
     "data": {
      "text/plain": [
       "['36 Seats available\\n12 Single',\n",
       " '41 Seats available\\n6 Single',\n",
       " '36 Seats available\\n12 Single',\n",
       " '38 Seats available\\n12 Single',\n",
       " '30 Seats available\\n10 Single',\n",
       " '40 Seats available\\n6 Single',\n",
       " '36 Seats available\\n12 Single',\n",
       " '35 Seats available',\n",
       " '36 Seats available',\n",
       " '36 Seats available',\n",
       " '34 Seats available\\n16 Window',\n",
       " '36 Seats available',\n",
       " '36 Seats available\\n12 Single',\n",
       " '38 Seats available',\n",
       " '42 Seats available\\n17 Window',\n",
       " '46 Seats available',\n",
       " '36 Seats available\\n12 Single',\n",
       " '30 Seats available\\n10 Single',\n",
       " '35 Seats available\\n15 Single',\n",
       " '35 Seats available',\n",
       " '44 Seats available\\n12 Single',\n",
       " '46 Seats available',\n",
       " '21 Seats available\\n5 Single',\n",
       " '16 Seats available\\n4 Single',\n",
       " '49 Seats available',\n",
       " '30 Seats available\\n10 Single',\n",
       " '30 Seats available\\n10 Single',\n",
       " '42 Seats available']"
      ]
     },
     "execution_count": 93,
     "metadata": {},
     "output_type": "execute_result"
    }
   ],
   "source": [
    "Pseats"
   ]
  },
  {
   "cell_type": "code",
   "execution_count": 94,
   "metadata": {},
   "outputs": [],
   "source": [
    "pavailability = []\n",
    "pdump = []\n",
    "\n",
    "for i in Seat_Availability:\n",
    "    avail,seats,status= i.split()\n",
    "    pavailability.append(avail)\n",
    "    pdump.append(f\"{seats}{status}\")"
   ]
  },
  {
   "cell_type": "code",
   "execution_count": 95,
   "metadata": {},
   "outputs": [
    {
     "data": {
      "text/plain": [
       "['30',\n",
       " '31',\n",
       " '21',\n",
       " '38',\n",
       " '30',\n",
       " '33',\n",
       " '31',\n",
       " '32',\n",
       " '31',\n",
       " '32',\n",
       " '34',\n",
       " '29',\n",
       " '28',\n",
       " '37',\n",
       " '28',\n",
       " '32',\n",
       " '32',\n",
       " '27',\n",
       " '27',\n",
       " '32',\n",
       " '30',\n",
       " '25',\n",
       " '31',\n",
       " '28',\n",
       " '34']"
      ]
     },
     "execution_count": 95,
     "metadata": {},
     "output_type": "execute_result"
    }
   ],
   "source": [
    "pavailability"
   ]
  },
  {
   "cell_type": "markdown",
   "metadata": {},
   "source": [
    "## PrivateBus route"
   ]
  },
  {
   "cell_type": "code",
   "execution_count": 96,
   "metadata": {},
   "outputs": [],
   "source": [
    "pstart = driver.find_elements(By.XPATH,\"//div[@class='dp-loc l-color w-wrap f-12 m-top-42']\")\n",
    "pend = driver.find_elements(By.XPATH,\"//div[@class='bp-loc l-color w-wrap f-12 m-top-8']\")"
   ]
  },
  {
   "cell_type": "code",
   "execution_count": 97,
   "metadata": {},
   "outputs": [],
   "source": [
    "proute = []\n",
    "for i in pstart:\n",
    "    for j in pend:\n",
    "        proutes = f\"{i.text} to {j.text}\"\n",
    "        proute.append(proutes)"
   ]
  },
  {
   "cell_type": "code",
   "execution_count": 98,
   "metadata": {},
   "outputs": [
    {
     "data": {
      "text/plain": [
       "['Marathahalli to Lakdikapul',\n",
       " 'Marathahalli to Lakdikapul',\n",
       " 'Marathahalli to Lakdikapul',\n",
       " 'Marathahalli to Lakdikapul',\n",
       " 'Marathahalli to Lakdikapul',\n",
       " 'Marathahalli to Lakdikapul',\n",
       " 'Marathahalli to Lakdikapul',\n",
       " 'Marathahalli to Kukatpally',\n",
       " 'Marathahalli to Kukatpally',\n",
       " 'Marathahalli to Kukatpally',\n",
       " 'Marathahalli to Kukatpally',\n",
       " 'Marathahalli to Lakdikapul',\n",
       " 'Marathahalli to Kukatpally',\n",
       " 'Marathahalli to Lakdikapul',\n",
       " 'Marathahalli to Mehdipatnam',\n",
       " 'Marathahalli to Lakdikapul',\n",
       " 'Marathahalli to Lakdikapul',\n",
       " 'Marathahalli to Lakdikapul',\n",
       " 'Marathahalli to Lakdikapul',\n",
       " 'Marathahalli to Lakdikapul',\n",
       " 'Marathahalli to Mehdipatnam',\n",
       " 'Marathahalli to Lakdikapul',\n",
       " 'Marathahalli to Lakdikapul',\n",
       " 'Marathahalli to Lakdikapul',\n",
       " 'Marathahalli to Lakdikapul',\n",
       " 'Marathahalli to Lakdikapul',\n",
       " 'Marathahalli to Lakdikapul',\n",
       " 'Marathahalli to Lakdikapul',\n",
       " 'Marathahalli to Lakdikapul',\n",
       " 'Marathahalli to Lakdikapul',\n",
       " 'Marathahalli to Lakdikapul',\n",
       " 'Marathahalli to Lakdikapul',\n",
       " 'Marathahalli to Lakdikapul',\n",
       " 'Marathahalli to Lakdikapul',\n",
       " 'Marathahalli to Kukatpally',\n",
       " 'Marathahalli to Kukatpally',\n",
       " 'Marathahalli to Kukatpally',\n",
       " 'Marathahalli to Kukatpally',\n",
       " 'Marathahalli to Lakdikapul',\n",
       " 'Marathahalli to Kukatpally',\n",
       " 'Marathahalli to Lakdikapul',\n",
       " 'Marathahalli to Mehdipatnam',\n",
       " 'Marathahalli to Lakdikapul',\n",
       " 'Marathahalli to Lakdikapul',\n",
       " 'Marathahalli to Lakdikapul',\n",
       " 'Marathahalli to Lakdikapul',\n",
       " 'Marathahalli to Lakdikapul',\n",
       " 'Marathahalli to Mehdipatnam',\n",
       " 'Marathahalli to Lakdikapul',\n",
       " 'Marathahalli to Lakdikapul',\n",
       " 'Marathahalli to Lakdikapul',\n",
       " 'Marathahalli to Lakdikapul',\n",
       " 'Marathahalli to Lakdikapul',\n",
       " 'Marathahalli to Lakdikapul',\n",
       " 'Marathahalli to Lakdikapul',\n",
       " 'Marathahalli to Lakdikapul',\n",
       " 'Marathahalli to Lakdikapul',\n",
       " 'Marathahalli to Lakdikapul',\n",
       " 'Marathahalli to Lakdikapul',\n",
       " 'Marathahalli to Lakdikapul',\n",
       " 'Marathahalli to Lakdikapul',\n",
       " 'Marathahalli to Kukatpally',\n",
       " 'Marathahalli to Kukatpally',\n",
       " 'Marathahalli to Kukatpally',\n",
       " 'Marathahalli to Kukatpally',\n",
       " 'Marathahalli to Lakdikapul',\n",
       " 'Marathahalli to Kukatpally',\n",
       " 'Marathahalli to Lakdikapul',\n",
       " 'Marathahalli to Mehdipatnam',\n",
       " 'Marathahalli to Lakdikapul',\n",
       " 'Marathahalli to Lakdikapul',\n",
       " 'Marathahalli to Lakdikapul',\n",
       " 'Marathahalli to Lakdikapul',\n",
       " 'Marathahalli to Lakdikapul',\n",
       " 'Marathahalli to Mehdipatnam',\n",
       " 'Marathahalli to Lakdikapul',\n",
       " 'Marathahalli to Lakdikapul',\n",
       " 'Marathahalli to Lakdikapul',\n",
       " 'Marathahalli to Lakdikapul',\n",
       " 'Marathahalli to Lakdikapul',\n",
       " 'Marathahalli to Lakdikapul',\n",
       " 'Anand Rao Circle to Lakdikapul',\n",
       " 'Anand Rao Circle to Lakdikapul',\n",
       " 'Anand Rao Circle to Lakdikapul',\n",
       " 'Anand Rao Circle to Lakdikapul',\n",
       " 'Anand Rao Circle to Lakdikapul',\n",
       " 'Anand Rao Circle to Lakdikapul',\n",
       " 'Anand Rao Circle to Lakdikapul',\n",
       " 'Anand Rao Circle to Kukatpally',\n",
       " 'Anand Rao Circle to Kukatpally',\n",
       " 'Anand Rao Circle to Kukatpally',\n",
       " 'Anand Rao Circle to Kukatpally',\n",
       " 'Anand Rao Circle to Lakdikapul',\n",
       " 'Anand Rao Circle to Kukatpally',\n",
       " 'Anand Rao Circle to Lakdikapul',\n",
       " 'Anand Rao Circle to Mehdipatnam',\n",
       " 'Anand Rao Circle to Lakdikapul',\n",
       " 'Anand Rao Circle to Lakdikapul',\n",
       " 'Anand Rao Circle to Lakdikapul',\n",
       " 'Anand Rao Circle to Lakdikapul',\n",
       " 'Anand Rao Circle to Lakdikapul',\n",
       " 'Anand Rao Circle to Mehdipatnam',\n",
       " 'Anand Rao Circle to Lakdikapul',\n",
       " 'Anand Rao Circle to Lakdikapul',\n",
       " 'Anand Rao Circle to Lakdikapul',\n",
       " 'Anand Rao Circle to Lakdikapul',\n",
       " 'Anand Rao Circle to Lakdikapul',\n",
       " 'Anand Rao Circle to Lakdikapul',\n",
       " 'Marathahalli to Lakdikapul',\n",
       " 'Marathahalli to Lakdikapul',\n",
       " 'Marathahalli to Lakdikapul',\n",
       " 'Marathahalli to Lakdikapul',\n",
       " 'Marathahalli to Lakdikapul',\n",
       " 'Marathahalli to Lakdikapul',\n",
       " 'Marathahalli to Lakdikapul',\n",
       " 'Marathahalli to Kukatpally',\n",
       " 'Marathahalli to Kukatpally',\n",
       " 'Marathahalli to Kukatpally',\n",
       " 'Marathahalli to Kukatpally',\n",
       " 'Marathahalli to Lakdikapul',\n",
       " 'Marathahalli to Kukatpally',\n",
       " 'Marathahalli to Lakdikapul',\n",
       " 'Marathahalli to Mehdipatnam',\n",
       " 'Marathahalli to Lakdikapul',\n",
       " 'Marathahalli to Lakdikapul',\n",
       " 'Marathahalli to Lakdikapul',\n",
       " 'Marathahalli to Lakdikapul',\n",
       " 'Marathahalli to Lakdikapul',\n",
       " 'Marathahalli to Mehdipatnam',\n",
       " 'Marathahalli to Lakdikapul',\n",
       " 'Marathahalli to Lakdikapul',\n",
       " 'Marathahalli to Lakdikapul',\n",
       " 'Marathahalli to Lakdikapul',\n",
       " 'Marathahalli to Lakdikapul',\n",
       " 'Marathahalli to Lakdikapul',\n",
       " 'Anand Rao Circle to Lakdikapul',\n",
       " 'Anand Rao Circle to Lakdikapul',\n",
       " 'Anand Rao Circle to Lakdikapul',\n",
       " 'Anand Rao Circle to Lakdikapul',\n",
       " 'Anand Rao Circle to Lakdikapul',\n",
       " 'Anand Rao Circle to Lakdikapul',\n",
       " 'Anand Rao Circle to Lakdikapul',\n",
       " 'Anand Rao Circle to Kukatpally',\n",
       " 'Anand Rao Circle to Kukatpally',\n",
       " 'Anand Rao Circle to Kukatpally',\n",
       " 'Anand Rao Circle to Kukatpally',\n",
       " 'Anand Rao Circle to Lakdikapul',\n",
       " 'Anand Rao Circle to Kukatpally',\n",
       " 'Anand Rao Circle to Lakdikapul',\n",
       " 'Anand Rao Circle to Mehdipatnam',\n",
       " 'Anand Rao Circle to Lakdikapul',\n",
       " 'Anand Rao Circle to Lakdikapul',\n",
       " 'Anand Rao Circle to Lakdikapul',\n",
       " 'Anand Rao Circle to Lakdikapul',\n",
       " 'Anand Rao Circle to Lakdikapul',\n",
       " 'Anand Rao Circle to Mehdipatnam',\n",
       " 'Anand Rao Circle to Lakdikapul',\n",
       " 'Anand Rao Circle to Lakdikapul',\n",
       " 'Anand Rao Circle to Lakdikapul',\n",
       " 'Anand Rao Circle to Lakdikapul',\n",
       " 'Anand Rao Circle to Lakdikapul',\n",
       " 'Anand Rao Circle to Lakdikapul',\n",
       " 'Marathahalli to Lakdikapul',\n",
       " 'Marathahalli to Lakdikapul',\n",
       " 'Marathahalli to Lakdikapul',\n",
       " 'Marathahalli to Lakdikapul',\n",
       " 'Marathahalli to Lakdikapul',\n",
       " 'Marathahalli to Lakdikapul',\n",
       " 'Marathahalli to Lakdikapul',\n",
       " 'Marathahalli to Kukatpally',\n",
       " 'Marathahalli to Kukatpally',\n",
       " 'Marathahalli to Kukatpally',\n",
       " 'Marathahalli to Kukatpally',\n",
       " 'Marathahalli to Lakdikapul',\n",
       " 'Marathahalli to Kukatpally',\n",
       " 'Marathahalli to Lakdikapul',\n",
       " 'Marathahalli to Mehdipatnam',\n",
       " 'Marathahalli to Lakdikapul',\n",
       " 'Marathahalli to Lakdikapul',\n",
       " 'Marathahalli to Lakdikapul',\n",
       " 'Marathahalli to Lakdikapul',\n",
       " 'Marathahalli to Lakdikapul',\n",
       " 'Marathahalli to Mehdipatnam',\n",
       " 'Marathahalli to Lakdikapul',\n",
       " 'Marathahalli to Lakdikapul',\n",
       " 'Marathahalli to Lakdikapul',\n",
       " 'Marathahalli to Lakdikapul',\n",
       " 'Marathahalli to Lakdikapul',\n",
       " 'Marathahalli to Lakdikapul',\n",
       " 'Anand Rao Circle to Lakdikapul',\n",
       " 'Anand Rao Circle to Lakdikapul',\n",
       " 'Anand Rao Circle to Lakdikapul',\n",
       " 'Anand Rao Circle to Lakdikapul',\n",
       " 'Anand Rao Circle to Lakdikapul',\n",
       " 'Anand Rao Circle to Lakdikapul',\n",
       " 'Anand Rao Circle to Lakdikapul',\n",
       " 'Anand Rao Circle to Kukatpally',\n",
       " 'Anand Rao Circle to Kukatpally',\n",
       " 'Anand Rao Circle to Kukatpally',\n",
       " 'Anand Rao Circle to Kukatpally',\n",
       " 'Anand Rao Circle to Lakdikapul',\n",
       " 'Anand Rao Circle to Kukatpally',\n",
       " 'Anand Rao Circle to Lakdikapul',\n",
       " 'Anand Rao Circle to Mehdipatnam',\n",
       " 'Anand Rao Circle to Lakdikapul',\n",
       " 'Anand Rao Circle to Lakdikapul',\n",
       " 'Anand Rao Circle to Lakdikapul',\n",
       " 'Anand Rao Circle to Lakdikapul',\n",
       " 'Anand Rao Circle to Lakdikapul',\n",
       " 'Anand Rao Circle to Mehdipatnam',\n",
       " 'Anand Rao Circle to Lakdikapul',\n",
       " 'Anand Rao Circle to Lakdikapul',\n",
       " 'Anand Rao Circle to Lakdikapul',\n",
       " 'Anand Rao Circle to Lakdikapul',\n",
       " 'Anand Rao Circle to Lakdikapul',\n",
       " 'Anand Rao Circle to Lakdikapul',\n",
       " 'Anand Rao Circle to Lakdikapul',\n",
       " 'Anand Rao Circle to Lakdikapul',\n",
       " 'Anand Rao Circle to Lakdikapul',\n",
       " 'Anand Rao Circle to Lakdikapul',\n",
       " 'Anand Rao Circle to Lakdikapul',\n",
       " 'Anand Rao Circle to Lakdikapul',\n",
       " 'Anand Rao Circle to Lakdikapul',\n",
       " 'Anand Rao Circle to Kukatpally',\n",
       " 'Anand Rao Circle to Kukatpally',\n",
       " 'Anand Rao Circle to Kukatpally',\n",
       " 'Anand Rao Circle to Kukatpally',\n",
       " 'Anand Rao Circle to Lakdikapul',\n",
       " 'Anand Rao Circle to Kukatpally',\n",
       " 'Anand Rao Circle to Lakdikapul',\n",
       " 'Anand Rao Circle to Mehdipatnam',\n",
       " 'Anand Rao Circle to Lakdikapul',\n",
       " 'Anand Rao Circle to Lakdikapul',\n",
       " 'Anand Rao Circle to Lakdikapul',\n",
       " 'Anand Rao Circle to Lakdikapul',\n",
       " 'Anand Rao Circle to Lakdikapul',\n",
       " 'Anand Rao Circle to Mehdipatnam',\n",
       " 'Anand Rao Circle to Lakdikapul',\n",
       " 'Anand Rao Circle to Lakdikapul',\n",
       " 'Anand Rao Circle to Lakdikapul',\n",
       " 'Anand Rao Circle to Lakdikapul',\n",
       " 'Anand Rao Circle to Lakdikapul',\n",
       " 'Anand Rao Circle to Lakdikapul',\n",
       " 'Anand Rao Circle to Lakdikapul',\n",
       " 'Anand Rao Circle to Lakdikapul',\n",
       " 'Anand Rao Circle to Lakdikapul',\n",
       " 'Anand Rao Circle to Lakdikapul',\n",
       " 'Anand Rao Circle to Lakdikapul',\n",
       " 'Anand Rao Circle to Lakdikapul',\n",
       " 'Anand Rao Circle to Lakdikapul',\n",
       " 'Anand Rao Circle to Kukatpally',\n",
       " 'Anand Rao Circle to Kukatpally',\n",
       " 'Anand Rao Circle to Kukatpally',\n",
       " 'Anand Rao Circle to Kukatpally',\n",
       " 'Anand Rao Circle to Lakdikapul',\n",
       " 'Anand Rao Circle to Kukatpally',\n",
       " 'Anand Rao Circle to Lakdikapul',\n",
       " 'Anand Rao Circle to Mehdipatnam',\n",
       " 'Anand Rao Circle to Lakdikapul',\n",
       " 'Anand Rao Circle to Lakdikapul',\n",
       " 'Anand Rao Circle to Lakdikapul',\n",
       " 'Anand Rao Circle to Lakdikapul',\n",
       " 'Anand Rao Circle to Lakdikapul',\n",
       " 'Anand Rao Circle to Mehdipatnam',\n",
       " 'Anand Rao Circle to Lakdikapul',\n",
       " 'Anand Rao Circle to Lakdikapul',\n",
       " 'Anand Rao Circle to Lakdikapul',\n",
       " 'Anand Rao Circle to Lakdikapul',\n",
       " 'Anand Rao Circle to Lakdikapul',\n",
       " 'Anand Rao Circle to Lakdikapul',\n",
       " 'Marathahalli to Lakdikapul',\n",
       " 'Marathahalli to Lakdikapul',\n",
       " 'Marathahalli to Lakdikapul',\n",
       " 'Marathahalli to Lakdikapul',\n",
       " 'Marathahalli to Lakdikapul',\n",
       " 'Marathahalli to Lakdikapul',\n",
       " 'Marathahalli to Lakdikapul',\n",
       " 'Marathahalli to Kukatpally',\n",
       " 'Marathahalli to Kukatpally',\n",
       " 'Marathahalli to Kukatpally',\n",
       " 'Marathahalli to Kukatpally',\n",
       " 'Marathahalli to Lakdikapul',\n",
       " 'Marathahalli to Kukatpally',\n",
       " 'Marathahalli to Lakdikapul',\n",
       " 'Marathahalli to Mehdipatnam',\n",
       " 'Marathahalli to Lakdikapul',\n",
       " 'Marathahalli to Lakdikapul',\n",
       " 'Marathahalli to Lakdikapul',\n",
       " 'Marathahalli to Lakdikapul',\n",
       " 'Marathahalli to Lakdikapul',\n",
       " 'Marathahalli to Mehdipatnam',\n",
       " 'Marathahalli to Lakdikapul',\n",
       " 'Marathahalli to Lakdikapul',\n",
       " 'Marathahalli to Lakdikapul',\n",
       " 'Marathahalli to Lakdikapul',\n",
       " 'Marathahalli to Lakdikapul',\n",
       " 'Marathahalli to Lakdikapul',\n",
       " 'Anand Rao Circle to Lakdikapul',\n",
       " 'Anand Rao Circle to Lakdikapul',\n",
       " 'Anand Rao Circle to Lakdikapul',\n",
       " 'Anand Rao Circle to Lakdikapul',\n",
       " 'Anand Rao Circle to Lakdikapul',\n",
       " 'Anand Rao Circle to Lakdikapul',\n",
       " 'Anand Rao Circle to Lakdikapul',\n",
       " 'Anand Rao Circle to Kukatpally',\n",
       " 'Anand Rao Circle to Kukatpally',\n",
       " 'Anand Rao Circle to Kukatpally',\n",
       " 'Anand Rao Circle to Kukatpally',\n",
       " 'Anand Rao Circle to Lakdikapul',\n",
       " 'Anand Rao Circle to Kukatpally',\n",
       " 'Anand Rao Circle to Lakdikapul',\n",
       " 'Anand Rao Circle to Mehdipatnam',\n",
       " 'Anand Rao Circle to Lakdikapul',\n",
       " 'Anand Rao Circle to Lakdikapul',\n",
       " 'Anand Rao Circle to Lakdikapul',\n",
       " 'Anand Rao Circle to Lakdikapul',\n",
       " 'Anand Rao Circle to Lakdikapul',\n",
       " 'Anand Rao Circle to Mehdipatnam',\n",
       " 'Anand Rao Circle to Lakdikapul',\n",
       " 'Anand Rao Circle to Lakdikapul',\n",
       " 'Anand Rao Circle to Lakdikapul',\n",
       " 'Anand Rao Circle to Lakdikapul',\n",
       " 'Anand Rao Circle to Lakdikapul',\n",
       " 'Anand Rao Circle to Lakdikapul',\n",
       " 'Anand Rao Circle to Lakdikapul',\n",
       " 'Anand Rao Circle to Lakdikapul',\n",
       " 'Anand Rao Circle to Lakdikapul',\n",
       " 'Anand Rao Circle to Lakdikapul',\n",
       " 'Anand Rao Circle to Lakdikapul',\n",
       " 'Anand Rao Circle to Lakdikapul',\n",
       " 'Anand Rao Circle to Lakdikapul',\n",
       " 'Anand Rao Circle to Kukatpally',\n",
       " 'Anand Rao Circle to Kukatpally',\n",
       " 'Anand Rao Circle to Kukatpally',\n",
       " 'Anand Rao Circle to Kukatpally',\n",
       " 'Anand Rao Circle to Lakdikapul',\n",
       " 'Anand Rao Circle to Kukatpally',\n",
       " 'Anand Rao Circle to Lakdikapul',\n",
       " 'Anand Rao Circle to Mehdipatnam',\n",
       " 'Anand Rao Circle to Lakdikapul',\n",
       " 'Anand Rao Circle to Lakdikapul',\n",
       " 'Anand Rao Circle to Lakdikapul',\n",
       " 'Anand Rao Circle to Lakdikapul',\n",
       " 'Anand Rao Circle to Lakdikapul',\n",
       " 'Anand Rao Circle to Mehdipatnam',\n",
       " 'Anand Rao Circle to Lakdikapul',\n",
       " 'Anand Rao Circle to Lakdikapul',\n",
       " 'Anand Rao Circle to Lakdikapul',\n",
       " 'Anand Rao Circle to Lakdikapul',\n",
       " 'Anand Rao Circle to Lakdikapul',\n",
       " 'Anand Rao Circle to Lakdikapul',\n",
       " 'Anand Rao Circle to Lakdikapul',\n",
       " 'Anand Rao Circle to Lakdikapul',\n",
       " 'Anand Rao Circle to Lakdikapul',\n",
       " 'Anand Rao Circle to Lakdikapul',\n",
       " 'Anand Rao Circle to Lakdikapul',\n",
       " 'Anand Rao Circle to Lakdikapul',\n",
       " 'Anand Rao Circle to Lakdikapul',\n",
       " 'Anand Rao Circle to Kukatpally',\n",
       " 'Anand Rao Circle to Kukatpally',\n",
       " 'Anand Rao Circle to Kukatpally',\n",
       " 'Anand Rao Circle to Kukatpally',\n",
       " 'Anand Rao Circle to Lakdikapul',\n",
       " 'Anand Rao Circle to Kukatpally',\n",
       " 'Anand Rao Circle to Lakdikapul',\n",
       " 'Anand Rao Circle to Mehdipatnam',\n",
       " 'Anand Rao Circle to Lakdikapul',\n",
       " 'Anand Rao Circle to Lakdikapul',\n",
       " 'Anand Rao Circle to Lakdikapul',\n",
       " 'Anand Rao Circle to Lakdikapul',\n",
       " 'Anand Rao Circle to Lakdikapul',\n",
       " 'Anand Rao Circle to Mehdipatnam',\n",
       " 'Anand Rao Circle to Lakdikapul',\n",
       " 'Anand Rao Circle to Lakdikapul',\n",
       " 'Anand Rao Circle to Lakdikapul',\n",
       " 'Anand Rao Circle to Lakdikapul',\n",
       " 'Anand Rao Circle to Lakdikapul',\n",
       " 'Anand Rao Circle to Lakdikapul',\n",
       " 'Anand Rao Circle to Lakdikapul',\n",
       " 'Anand Rao Circle to Lakdikapul',\n",
       " 'Anand Rao Circle to Lakdikapul',\n",
       " 'Anand Rao Circle to Lakdikapul',\n",
       " 'Anand Rao Circle to Lakdikapul',\n",
       " 'Anand Rao Circle to Lakdikapul',\n",
       " 'Anand Rao Circle to Lakdikapul',\n",
       " 'Anand Rao Circle to Kukatpally',\n",
       " 'Anand Rao Circle to Kukatpally',\n",
       " 'Anand Rao Circle to Kukatpally',\n",
       " 'Anand Rao Circle to Kukatpally',\n",
       " 'Anand Rao Circle to Lakdikapul',\n",
       " 'Anand Rao Circle to Kukatpally',\n",
       " 'Anand Rao Circle to Lakdikapul',\n",
       " 'Anand Rao Circle to Mehdipatnam',\n",
       " 'Anand Rao Circle to Lakdikapul',\n",
       " 'Anand Rao Circle to Lakdikapul',\n",
       " 'Anand Rao Circle to Lakdikapul',\n",
       " 'Anand Rao Circle to Lakdikapul',\n",
       " 'Anand Rao Circle to Lakdikapul',\n",
       " 'Anand Rao Circle to Mehdipatnam',\n",
       " 'Anand Rao Circle to Lakdikapul',\n",
       " 'Anand Rao Circle to Lakdikapul',\n",
       " 'Anand Rao Circle to Lakdikapul',\n",
       " 'Anand Rao Circle to Lakdikapul',\n",
       " 'Anand Rao Circle to Lakdikapul',\n",
       " 'Anand Rao Circle to Lakdikapul',\n",
       " 'Anand Rao Circle to Lakdikapul',\n",
       " 'Anand Rao Circle to Lakdikapul',\n",
       " 'Anand Rao Circle to Lakdikapul',\n",
       " 'Anand Rao Circle to Lakdikapul',\n",
       " 'Anand Rao Circle to Lakdikapul',\n",
       " 'Anand Rao Circle to Lakdikapul',\n",
       " 'Anand Rao Circle to Lakdikapul',\n",
       " 'Anand Rao Circle to Kukatpally',\n",
       " 'Anand Rao Circle to Kukatpally',\n",
       " 'Anand Rao Circle to Kukatpally',\n",
       " 'Anand Rao Circle to Kukatpally',\n",
       " 'Anand Rao Circle to Lakdikapul',\n",
       " 'Anand Rao Circle to Kukatpally',\n",
       " 'Anand Rao Circle to Lakdikapul',\n",
       " 'Anand Rao Circle to Mehdipatnam',\n",
       " 'Anand Rao Circle to Lakdikapul',\n",
       " 'Anand Rao Circle to Lakdikapul',\n",
       " 'Anand Rao Circle to Lakdikapul',\n",
       " 'Anand Rao Circle to Lakdikapul',\n",
       " 'Anand Rao Circle to Lakdikapul',\n",
       " 'Anand Rao Circle to Mehdipatnam',\n",
       " 'Anand Rao Circle to Lakdikapul',\n",
       " 'Anand Rao Circle to Lakdikapul',\n",
       " 'Anand Rao Circle to Lakdikapul',\n",
       " 'Anand Rao Circle to Lakdikapul',\n",
       " 'Anand Rao Circle to Lakdikapul',\n",
       " 'Anand Rao Circle to Lakdikapul',\n",
       " 'Anand Rao Circle to Lakdikapul',\n",
       " 'Anand Rao Circle to Lakdikapul',\n",
       " 'Anand Rao Circle to Lakdikapul',\n",
       " 'Anand Rao Circle to Lakdikapul',\n",
       " 'Anand Rao Circle to Lakdikapul',\n",
       " 'Anand Rao Circle to Lakdikapul',\n",
       " 'Anand Rao Circle to Lakdikapul',\n",
       " 'Anand Rao Circle to Kukatpally',\n",
       " 'Anand Rao Circle to Kukatpally',\n",
       " 'Anand Rao Circle to Kukatpally',\n",
       " 'Anand Rao Circle to Kukatpally',\n",
       " 'Anand Rao Circle to Lakdikapul',\n",
       " 'Anand Rao Circle to Kukatpally',\n",
       " 'Anand Rao Circle to Lakdikapul',\n",
       " 'Anand Rao Circle to Mehdipatnam',\n",
       " 'Anand Rao Circle to Lakdikapul',\n",
       " 'Anand Rao Circle to Lakdikapul',\n",
       " 'Anand Rao Circle to Lakdikapul',\n",
       " 'Anand Rao Circle to Lakdikapul',\n",
       " 'Anand Rao Circle to Lakdikapul',\n",
       " 'Anand Rao Circle to Mehdipatnam',\n",
       " 'Anand Rao Circle to Lakdikapul',\n",
       " 'Anand Rao Circle to Lakdikapul',\n",
       " 'Anand Rao Circle to Lakdikapul',\n",
       " 'Anand Rao Circle to Lakdikapul',\n",
       " 'Anand Rao Circle to Lakdikapul',\n",
       " 'Anand Rao Circle to Lakdikapul',\n",
       " 'Anand Rao Circle to Lakdikapul',\n",
       " 'Anand Rao Circle to Lakdikapul',\n",
       " 'Anand Rao Circle to Lakdikapul',\n",
       " 'Anand Rao Circle to Lakdikapul',\n",
       " 'Anand Rao Circle to Lakdikapul',\n",
       " 'Anand Rao Circle to Lakdikapul',\n",
       " 'Anand Rao Circle to Lakdikapul',\n",
       " 'Anand Rao Circle to Kukatpally',\n",
       " 'Anand Rao Circle to Kukatpally',\n",
       " 'Anand Rao Circle to Kukatpally',\n",
       " 'Anand Rao Circle to Kukatpally',\n",
       " 'Anand Rao Circle to Lakdikapul',\n",
       " 'Anand Rao Circle to Kukatpally',\n",
       " 'Anand Rao Circle to Lakdikapul',\n",
       " 'Anand Rao Circle to Mehdipatnam',\n",
       " 'Anand Rao Circle to Lakdikapul',\n",
       " 'Anand Rao Circle to Lakdikapul',\n",
       " 'Anand Rao Circle to Lakdikapul',\n",
       " 'Anand Rao Circle to Lakdikapul',\n",
       " 'Anand Rao Circle to Lakdikapul',\n",
       " 'Anand Rao Circle to Mehdipatnam',\n",
       " 'Anand Rao Circle to Lakdikapul',\n",
       " 'Anand Rao Circle to Lakdikapul',\n",
       " 'Anand Rao Circle to Lakdikapul',\n",
       " 'Anand Rao Circle to Lakdikapul',\n",
       " 'Anand Rao Circle to Lakdikapul',\n",
       " 'Anand Rao Circle to Lakdikapul',\n",
       " 'Anand Rao Circle to Lakdikapul',\n",
       " 'Anand Rao Circle to Lakdikapul',\n",
       " 'Anand Rao Circle to Lakdikapul',\n",
       " 'Anand Rao Circle to Lakdikapul',\n",
       " 'Anand Rao Circle to Lakdikapul',\n",
       " 'Anand Rao Circle to Lakdikapul',\n",
       " 'Anand Rao Circle to Lakdikapul',\n",
       " 'Anand Rao Circle to Kukatpally',\n",
       " 'Anand Rao Circle to Kukatpally',\n",
       " 'Anand Rao Circle to Kukatpally',\n",
       " 'Anand Rao Circle to Kukatpally',\n",
       " 'Anand Rao Circle to Lakdikapul',\n",
       " 'Anand Rao Circle to Kukatpally',\n",
       " 'Anand Rao Circle to Lakdikapul',\n",
       " 'Anand Rao Circle to Mehdipatnam',\n",
       " 'Anand Rao Circle to Lakdikapul',\n",
       " 'Anand Rao Circle to Lakdikapul',\n",
       " 'Anand Rao Circle to Lakdikapul',\n",
       " 'Anand Rao Circle to Lakdikapul',\n",
       " 'Anand Rao Circle to Lakdikapul',\n",
       " 'Anand Rao Circle to Mehdipatnam',\n",
       " 'Anand Rao Circle to Lakdikapul',\n",
       " 'Anand Rao Circle to Lakdikapul',\n",
       " 'Anand Rao Circle to Lakdikapul',\n",
       " 'Anand Rao Circle to Lakdikapul',\n",
       " 'Anand Rao Circle to Lakdikapul',\n",
       " 'Anand Rao Circle to Lakdikapul',\n",
       " 'Anand Rao Circle to Lakdikapul',\n",
       " 'Anand Rao Circle to Lakdikapul',\n",
       " 'Anand Rao Circle to Lakdikapul',\n",
       " 'Anand Rao Circle to Lakdikapul',\n",
       " 'Anand Rao Circle to Lakdikapul',\n",
       " 'Anand Rao Circle to Lakdikapul',\n",
       " 'Anand Rao Circle to Lakdikapul',\n",
       " 'Anand Rao Circle to Kukatpally',\n",
       " 'Anand Rao Circle to Kukatpally',\n",
       " 'Anand Rao Circle to Kukatpally',\n",
       " 'Anand Rao Circle to Kukatpally',\n",
       " 'Anand Rao Circle to Lakdikapul',\n",
       " 'Anand Rao Circle to Kukatpally',\n",
       " 'Anand Rao Circle to Lakdikapul',\n",
       " 'Anand Rao Circle to Mehdipatnam',\n",
       " 'Anand Rao Circle to Lakdikapul',\n",
       " 'Anand Rao Circle to Lakdikapul',\n",
       " 'Anand Rao Circle to Lakdikapul',\n",
       " 'Anand Rao Circle to Lakdikapul',\n",
       " 'Anand Rao Circle to Lakdikapul',\n",
       " 'Anand Rao Circle to Mehdipatnam',\n",
       " 'Anand Rao Circle to Lakdikapul',\n",
       " 'Anand Rao Circle to Lakdikapul',\n",
       " 'Anand Rao Circle to Lakdikapul',\n",
       " 'Anand Rao Circle to Lakdikapul',\n",
       " 'Anand Rao Circle to Lakdikapul',\n",
       " 'Anand Rao Circle to Lakdikapul',\n",
       " 'Anand Rao Circle to Lakdikapul',\n",
       " 'Anand Rao Circle to Lakdikapul',\n",
       " 'Anand Rao Circle to Lakdikapul',\n",
       " 'Anand Rao Circle to Lakdikapul',\n",
       " 'Anand Rao Circle to Lakdikapul',\n",
       " 'Anand Rao Circle to Lakdikapul',\n",
       " 'Anand Rao Circle to Lakdikapul',\n",
       " 'Anand Rao Circle to Kukatpally',\n",
       " 'Anand Rao Circle to Kukatpally',\n",
       " 'Anand Rao Circle to Kukatpally',\n",
       " 'Anand Rao Circle to Kukatpally',\n",
       " 'Anand Rao Circle to Lakdikapul',\n",
       " 'Anand Rao Circle to Kukatpally',\n",
       " 'Anand Rao Circle to Lakdikapul',\n",
       " 'Anand Rao Circle to Mehdipatnam',\n",
       " 'Anand Rao Circle to Lakdikapul',\n",
       " 'Anand Rao Circle to Lakdikapul',\n",
       " 'Anand Rao Circle to Lakdikapul',\n",
       " 'Anand Rao Circle to Lakdikapul',\n",
       " 'Anand Rao Circle to Lakdikapul',\n",
       " 'Anand Rao Circle to Mehdipatnam',\n",
       " 'Anand Rao Circle to Lakdikapul',\n",
       " 'Anand Rao Circle to Lakdikapul',\n",
       " 'Anand Rao Circle to Lakdikapul',\n",
       " 'Anand Rao Circle to Lakdikapul',\n",
       " 'Anand Rao Circle to Lakdikapul',\n",
       " 'Anand Rao Circle to Lakdikapul',\n",
       " 'Anand Rao Circle to Lakdikapul',\n",
       " 'Anand Rao Circle to Lakdikapul',\n",
       " 'Anand Rao Circle to Lakdikapul',\n",
       " 'Anand Rao Circle to Lakdikapul',\n",
       " 'Anand Rao Circle to Lakdikapul',\n",
       " 'Anand Rao Circle to Lakdikapul',\n",
       " 'Anand Rao Circle to Lakdikapul',\n",
       " 'Anand Rao Circle to Kukatpally',\n",
       " 'Anand Rao Circle to Kukatpally',\n",
       " 'Anand Rao Circle to Kukatpally',\n",
       " 'Anand Rao Circle to Kukatpally',\n",
       " 'Anand Rao Circle to Lakdikapul',\n",
       " 'Anand Rao Circle to Kukatpally',\n",
       " 'Anand Rao Circle to Lakdikapul',\n",
       " 'Anand Rao Circle to Mehdipatnam',\n",
       " 'Anand Rao Circle to Lakdikapul',\n",
       " 'Anand Rao Circle to Lakdikapul',\n",
       " 'Anand Rao Circle to Lakdikapul',\n",
       " 'Anand Rao Circle to Lakdikapul',\n",
       " 'Anand Rao Circle to Lakdikapul',\n",
       " 'Anand Rao Circle to Mehdipatnam',\n",
       " 'Anand Rao Circle to Lakdikapul',\n",
       " 'Anand Rao Circle to Lakdikapul',\n",
       " 'Anand Rao Circle to Lakdikapul',\n",
       " 'Anand Rao Circle to Lakdikapul',\n",
       " 'Anand Rao Circle to Lakdikapul',\n",
       " 'Anand Rao Circle to Lakdikapul',\n",
       " 'Anand Rao Circle to Lakdikapul',\n",
       " 'Anand Rao Circle to Lakdikapul',\n",
       " 'Anand Rao Circle to Lakdikapul',\n",
       " 'Anand Rao Circle to Lakdikapul',\n",
       " 'Anand Rao Circle to Lakdikapul',\n",
       " 'Anand Rao Circle to Lakdikapul',\n",
       " 'Anand Rao Circle to Lakdikapul',\n",
       " 'Anand Rao Circle to Kukatpally',\n",
       " 'Anand Rao Circle to Kukatpally',\n",
       " 'Anand Rao Circle to Kukatpally',\n",
       " 'Anand Rao Circle to Kukatpally',\n",
       " 'Anand Rao Circle to Lakdikapul',\n",
       " 'Anand Rao Circle to Kukatpally',\n",
       " 'Anand Rao Circle to Lakdikapul',\n",
       " 'Anand Rao Circle to Mehdipatnam',\n",
       " 'Anand Rao Circle to Lakdikapul',\n",
       " 'Anand Rao Circle to Lakdikapul',\n",
       " 'Anand Rao Circle to Lakdikapul',\n",
       " 'Anand Rao Circle to Lakdikapul',\n",
       " 'Anand Rao Circle to Lakdikapul',\n",
       " 'Anand Rao Circle to Mehdipatnam',\n",
       " 'Anand Rao Circle to Lakdikapul',\n",
       " 'Anand Rao Circle to Lakdikapul',\n",
       " 'Anand Rao Circle to Lakdikapul',\n",
       " 'Anand Rao Circle to Lakdikapul',\n",
       " 'Anand Rao Circle to Lakdikapul',\n",
       " 'Anand Rao Circle to Lakdikapul',\n",
       " 'Anand Rao Circle to Lakdikapul',\n",
       " 'Anand Rao Circle to Lakdikapul',\n",
       " 'Anand Rao Circle to Lakdikapul',\n",
       " 'Anand Rao Circle to Lakdikapul',\n",
       " 'Anand Rao Circle to Lakdikapul',\n",
       " 'Anand Rao Circle to Lakdikapul',\n",
       " 'Anand Rao Circle to Lakdikapul',\n",
       " 'Anand Rao Circle to Kukatpally',\n",
       " 'Anand Rao Circle to Kukatpally',\n",
       " 'Anand Rao Circle to Kukatpally',\n",
       " 'Anand Rao Circle to Kukatpally',\n",
       " 'Anand Rao Circle to Lakdikapul',\n",
       " 'Anand Rao Circle to Kukatpally',\n",
       " 'Anand Rao Circle to Lakdikapul',\n",
       " 'Anand Rao Circle to Mehdipatnam',\n",
       " 'Anand Rao Circle to Lakdikapul',\n",
       " 'Anand Rao Circle to Lakdikapul',\n",
       " 'Anand Rao Circle to Lakdikapul',\n",
       " 'Anand Rao Circle to Lakdikapul',\n",
       " 'Anand Rao Circle to Lakdikapul',\n",
       " 'Anand Rao Circle to Mehdipatnam',\n",
       " 'Anand Rao Circle to Lakdikapul',\n",
       " 'Anand Rao Circle to Lakdikapul',\n",
       " 'Anand Rao Circle to Lakdikapul',\n",
       " 'Anand Rao Circle to Lakdikapul',\n",
       " 'Anand Rao Circle to Lakdikapul',\n",
       " 'Anand Rao Circle to Lakdikapul']"
      ]
     },
     "execution_count": 98,
     "metadata": {},
     "output_type": "execute_result"
    }
   ],
   "source": [
    "proute"
   ]
  },
  {
   "cell_type": "code",
   "execution_count": 99,
   "metadata": {},
   "outputs": [],
   "source": [
    "proute_link = []\n",
    "for i in range(10):\n",
    "    i = \"https://www.redbus.in/bus-tickets/bangalore-to-hyderabad?fromCityName=Bangalore&fromCityId=122&srcCountry=IND&toCityName=Hyderabad&toCityId=124&destCountry=IND&onward=10-Oct-2024&opId=0&busType=Any\"\n",
    "    proute_link.append(i)"
   ]
  },
  {
   "cell_type": "code",
   "execution_count": 100,
   "metadata": {},
   "outputs": [
    {
     "data": {
      "text/plain": [
       "['https://www.redbus.in/bus-tickets/bangalore-to-hyderabad?fromCityName=Bangalore&fromCityId=122&srcCountry=IND&toCityName=Hyderabad&toCityId=124&destCountry=IND&onward=10-Oct-2024&opId=0&busType=Any',\n",
       " 'https://www.redbus.in/bus-tickets/bangalore-to-hyderabad?fromCityName=Bangalore&fromCityId=122&srcCountry=IND&toCityName=Hyderabad&toCityId=124&destCountry=IND&onward=10-Oct-2024&opId=0&busType=Any',\n",
       " 'https://www.redbus.in/bus-tickets/bangalore-to-hyderabad?fromCityName=Bangalore&fromCityId=122&srcCountry=IND&toCityName=Hyderabad&toCityId=124&destCountry=IND&onward=10-Oct-2024&opId=0&busType=Any',\n",
       " 'https://www.redbus.in/bus-tickets/bangalore-to-hyderabad?fromCityName=Bangalore&fromCityId=122&srcCountry=IND&toCityName=Hyderabad&toCityId=124&destCountry=IND&onward=10-Oct-2024&opId=0&busType=Any',\n",
       " 'https://www.redbus.in/bus-tickets/bangalore-to-hyderabad?fromCityName=Bangalore&fromCityId=122&srcCountry=IND&toCityName=Hyderabad&toCityId=124&destCountry=IND&onward=10-Oct-2024&opId=0&busType=Any',\n",
       " 'https://www.redbus.in/bus-tickets/bangalore-to-hyderabad?fromCityName=Bangalore&fromCityId=122&srcCountry=IND&toCityName=Hyderabad&toCityId=124&destCountry=IND&onward=10-Oct-2024&opId=0&busType=Any',\n",
       " 'https://www.redbus.in/bus-tickets/bangalore-to-hyderabad?fromCityName=Bangalore&fromCityId=122&srcCountry=IND&toCityName=Hyderabad&toCityId=124&destCountry=IND&onward=10-Oct-2024&opId=0&busType=Any',\n",
       " 'https://www.redbus.in/bus-tickets/bangalore-to-hyderabad?fromCityName=Bangalore&fromCityId=122&srcCountry=IND&toCityName=Hyderabad&toCityId=124&destCountry=IND&onward=10-Oct-2024&opId=0&busType=Any',\n",
       " 'https://www.redbus.in/bus-tickets/bangalore-to-hyderabad?fromCityName=Bangalore&fromCityId=122&srcCountry=IND&toCityName=Hyderabad&toCityId=124&destCountry=IND&onward=10-Oct-2024&opId=0&busType=Any',\n",
       " 'https://www.redbus.in/bus-tickets/bangalore-to-hyderabad?fromCityName=Bangalore&fromCityId=122&srcCountry=IND&toCityName=Hyderabad&toCityId=124&destCountry=IND&onward=10-Oct-2024&opId=0&busType=Any']"
      ]
     },
     "execution_count": 100,
     "metadata": {},
     "output_type": "execute_result"
    }
   ],
   "source": [
    "proute_link"
   ]
  },
  {
   "cell_type": "markdown",
   "metadata": {},
   "source": [
    "# SQL Connection"
   ]
  },
  {
   "cell_type": "code",
   "execution_count": 101,
   "metadata": {},
   "outputs": [],
   "source": [
    "import mysql.connector"
   ]
  },
  {
   "cell_type": "code",
   "execution_count": 102,
   "metadata": {},
   "outputs": [],
   "source": [
    "Database = mysql.connector.connect(\n",
    "    host = \"localhost\",\n",
    "    user = \"root\",\n",
    "    password = \"Bubllo@0299\"\n",
    ")"
   ]
  },
  {
   "cell_type": "code",
   "execution_count": 103,
   "metadata": {},
   "outputs": [
    {
     "name": "stdout",
     "output_type": "stream",
     "text": [
      "connected\n"
     ]
    }
   ],
   "source": [
    "if Database.is_connected():\n",
    "    print(\"connected\")\n",
    "else:\n",
    "    print(\"not connected\")"
   ]
  },
  {
   "cell_type": "markdown",
   "metadata": {},
   "source": [
    "# Creating a cursor to navigate"
   ]
  },
  {
   "cell_type": "code",
   "execution_count": 104,
   "metadata": {},
   "outputs": [],
   "source": [
    "cursor = Database.cursor()"
   ]
  },
  {
   "cell_type": "markdown",
   "metadata": {},
   "source": [
    "# Sql Queries"
   ]
  },
  {
   "cell_type": "code",
   "execution_count": 106,
   "metadata": {},
   "outputs": [],
   "source": [
    "cursor.execute(\"Create Database project1\")"
   ]
  },
  {
   "cell_type": "code",
   "execution_count": 107,
   "metadata": {},
   "outputs": [],
   "source": [
    "cursor.execute(\"use project1\")"
   ]
  },
  {
   "cell_type": "markdown",
   "metadata": {},
   "source": [
    "# creating table"
   ]
  },
  {
   "cell_type": "code",
   "execution_count": 108,
   "metadata": {},
   "outputs": [],
   "source": [
    "cursor.execute(\"CREATE TABLE bus_data(id INT AUTO_INCREMENT PRIMARY KEY,route_name VARCHAR(200),route_link VARCHAR(500),busname VARCHAR(100),bustype VARCHAR(100), departing_time TIME, duration VARCHAR(100), reaching_time TIME, star_rating FLOAT,price DECIMAL(10,2), seats_available INT)\")"
   ]
  },
  {
   "cell_type": "markdown",
   "metadata": {},
   "source": [
    "Government Bus\n",
    "1. Bus_Name\n",
    "2. Bus_Type\n",
    "3. departing_time\n",
    "4. Arrival_time\n",
    "5. Duration\n",
    "6. Star_rate\n",
    "7. cleaned_cost\n",
    "8. availability \n",
    "9. map\n",
    "10. Route_link\n",
    "\n",
    "Private Bus\n",
    "1. PBus_Name\n",
    "2. PBus_Type\n",
    "3. PDeparting_Time\n",
    "4. PArrival_Time\n",
    "5. PDuration\n",
    "6. PStar_rate\n",
    "7. Cleaned_pcost\n",
    "8. pavailability \n",
    "9. proute\n",
    "10. proute_link\n"
   ]
  },
  {
   "cell_type": "markdown",
   "metadata": {},
   "source": [
    "# inserting values into table"
   ]
  },
  {
   "cell_type": "markdown",
   "metadata": {},
   "source": [
    "## goverment bus data"
   ]
  },
  {
   "cell_type": "code",
   "execution_count": 109,
   "metadata": {},
   "outputs": [],
   "source": [
    "data = list(zip(map,route_link,Bus_Name,Bus_Type,departing_time,Duration,Arrival_time,Star_rate,cleaned_cost,availability))"
   ]
  },
  {
   "cell_type": "code",
   "execution_count": 110,
   "metadata": {},
   "outputs": [
    {
     "data": {
      "text/plain": [
       "[('Hebbal to Shamshabad',\n",
       "  'https://www.redbus.in/bus-tickets/bangalore-to-hyderabad?fromCityName=Bangalore&fromCityId=122&toCityName=Hyderabad&toCityId=124&busType=Any&opId=18491&onward=10-Oct-2024',\n",
       "  'TSRTC - 1004',\n",
       "  'SUPER LUXURY (NON-AC, 2 + 2 PUSH BACK)',\n",
       "  '05:10',\n",
       "  '10h 50m',\n",
       "  '16:00',\n",
       "  '3.4',\n",
       "  '1263',\n",
       "  '30'),\n",
       " ('Hebbal to Shamshabad',\n",
       "  'https://www.redbus.in/bus-tickets/bangalore-to-hyderabad?fromCityName=Bangalore&fromCityId=122&toCityName=Hyderabad&toCityId=124&busType=Any&opId=18491&onward=10-Oct-2024',\n",
       "  'TSRTC - 4494',\n",
       "  'SUPER LUXURY (NON-AC, 2 + 2 PUSH BACK)',\n",
       "  '06:25',\n",
       "  '10h 25m',\n",
       "  '16:50',\n",
       "  '2.8',\n",
       "  '1263',\n",
       "  '31'),\n",
       " ('Hebbal to Shamshabad',\n",
       "  'https://www.redbus.in/bus-tickets/bangalore-to-hyderabad?fromCityName=Bangalore&fromCityId=122&toCityName=Hyderabad&toCityId=124&busType=Any&opId=18491&onward=10-Oct-2024',\n",
       "  'TSRTC - 1298',\n",
       "  'LAHARI A/C SLEEPER CUM SEATER',\n",
       "  '08:25',\n",
       "  '11h 00m',\n",
       "  '19:25',\n",
       "  '3.4',\n",
       "  '1560',\n",
       "  '21'),\n",
       " ('Hebbal to Kukatpally',\n",
       "  'https://www.redbus.in/bus-tickets/bangalore-to-hyderabad?fromCityName=Bangalore&fromCityId=122&toCityName=Hyderabad&toCityId=124&busType=Any&opId=18491&onward=10-Oct-2024',\n",
       "  'TSRTC - 89149',\n",
       "  'Lahari Non A/C Sleeper Cum Seater',\n",
       "  '09:10',\n",
       "  '11h 40m',\n",
       "  '20:50',\n",
       "  '3.2',\n",
       "  '1263',\n",
       "  '38'),\n",
       " ('Hebbal to Shivarampalli',\n",
       "  'https://www.redbus.in/bus-tickets/bangalore-to-hyderabad?fromCityName=Bangalore&fromCityId=122&toCityName=Hyderabad&toCityId=124&busType=Any&opId=18491&onward=10-Oct-2024',\n",
       "  'TSRTC - 1038',\n",
       "  'SUPER LUXURY (NON-AC, 2 + 2 PUSH BACK)',\n",
       "  '10:10',\n",
       "  '11h 10m',\n",
       "  '21:20',\n",
       "  '2.5',\n",
       "  '1263',\n",
       "  '30'),\n",
       " ('Hebbal to Shamshabad',\n",
       "  'https://www.redbus.in/bus-tickets/bangalore-to-hyderabad?fromCityName=Bangalore&fromCityId=122&toCityName=Hyderabad&toCityId=124&busType=Any&opId=18491&onward=10-Oct-2024',\n",
       "  'TSRTC - 7144',\n",
       "  'SUPER LUXURY (NON-AC, 2 + 2 PUSH BACK)',\n",
       "  '12:00',\n",
       "  '12h 30m',\n",
       "  '00:30',\n",
       "  '3.2',\n",
       "  '1263',\n",
       "  '33'),\n",
       " ('Hebbal to Shamshabad',\n",
       "  'https://www.redbus.in/bus-tickets/bangalore-to-hyderabad?fromCityName=Bangalore&fromCityId=122&toCityName=Hyderabad&toCityId=124&busType=Any&opId=18491&onward=10-Oct-2024',\n",
       "  'TSRTC - 6818',\n",
       "  'SUPER LUXURY (NON-AC, 2 + 2 PUSH BACK)',\n",
       "  '13:40',\n",
       "  '10h 55m',\n",
       "  '00:35',\n",
       "  '3.7',\n",
       "  '1263',\n",
       "  '31'),\n",
       " ('Hebbal to Shamshabad',\n",
       "  'https://www.redbus.in/bus-tickets/bangalore-to-hyderabad?fromCityName=Bangalore&fromCityId=122&toCityName=Hyderabad&toCityId=124&busType=Any&opId=18491&onward=10-Oct-2024',\n",
       "  'TSRTC - 2995',\n",
       "  'LAHARI A/C SLEEPER CUM SEATER',\n",
       "  '15:45',\n",
       "  '11h 30m',\n",
       "  '03:15',\n",
       "  '3.7',\n",
       "  '1560',\n",
       "  '32'),\n",
       " ('Hebbal to Kukatpally',\n",
       "  'https://www.redbus.in/bus-tickets/bangalore-to-hyderabad?fromCityName=Bangalore&fromCityId=122&toCityName=Hyderabad&toCityId=124&busType=Any&opId=18491&onward=10-Oct-2024',\n",
       "  'TSRTC - 8208',\n",
       "  'SUPER LUXURY (NON-AC, 2 + 2 PUSH BACK)',\n",
       "  '17:30',\n",
       "  '10h 30m',\n",
       "  '04:00',\n",
       "  '3.0',\n",
       "  '1263',\n",
       "  '31'),\n",
       " ('Hebbal to Shivarampalli',\n",
       "  'https://www.redbus.in/bus-tickets/bangalore-to-hyderabad?fromCityName=Bangalore&fromCityId=122&toCityName=Hyderabad&toCityId=124&busType=Any&opId=18491&onward=10-Oct-2024',\n",
       "  'TSRTC - 7291',\n",
       "  'LAHARI A/C SLEEPER CUM SEATER',\n",
       "  '17:45',\n",
       "  '10h 15m',\n",
       "  '04:00',\n",
       "  '4.2',\n",
       "  '1560',\n",
       "  '32')]"
      ]
     },
     "execution_count": 110,
     "metadata": {},
     "output_type": "execute_result"
    }
   ],
   "source": [
    "data"
   ]
  },
  {
   "cell_type": "code",
   "execution_count": 111,
   "metadata": {},
   "outputs": [],
   "source": [
    "query = \"insert into bus_data(route_name,route_link,busname,bustype,departing_time,duration,reaching_time,star_rating,price,seats_available) values(%s,%s,%s,%s,%s,%s,%s,%s,%s,%s)\"\n",
    "data = list(zip(map,route_link,Bus_Name,Bus_Type,departing_time,Duration,Arrival_time,Star_rate,cleaned_cost,availability))"
   ]
  },
  {
   "cell_type": "code",
   "execution_count": 112,
   "metadata": {},
   "outputs": [],
   "source": [
    "cursor.executemany(query,data)"
   ]
  },
  {
   "cell_type": "markdown",
   "metadata": {},
   "source": [
    "### Displaying the table"
   ]
  },
  {
   "cell_type": "code",
   "execution_count": 113,
   "metadata": {},
   "outputs": [],
   "source": [
    "cursor.execute(\"select * from bus_data\")"
   ]
  },
  {
   "cell_type": "code",
   "execution_count": 114,
   "metadata": {},
   "outputs": [
    {
     "name": "stdout",
     "output_type": "stream",
     "text": [
      "(1, 'Hebbal to Shamshabad', 'https://www.redbus.in/bus-tickets/bangalore-to-hyderabad?fromCityName=Bangalore&fromCityId=122&toCityName=Hyderabad&toCityId=124&busType=Any&opId=18491&onward=10-Oct-2024', 'TSRTC - 1004', 'SUPER LUXURY (NON-AC, 2 + 2 PUSH BACK)', datetime.timedelta(seconds=18600), '10h 50m', datetime.timedelta(seconds=57600), 3.4, Decimal('1263.00'), 30)\n",
      "(2, 'Hebbal to Shamshabad', 'https://www.redbus.in/bus-tickets/bangalore-to-hyderabad?fromCityName=Bangalore&fromCityId=122&toCityName=Hyderabad&toCityId=124&busType=Any&opId=18491&onward=10-Oct-2024', 'TSRTC - 4494', 'SUPER LUXURY (NON-AC, 2 + 2 PUSH BACK)', datetime.timedelta(seconds=23100), '10h 25m', datetime.timedelta(seconds=60600), 2.8, Decimal('1263.00'), 31)\n",
      "(3, 'Hebbal to Shamshabad', 'https://www.redbus.in/bus-tickets/bangalore-to-hyderabad?fromCityName=Bangalore&fromCityId=122&toCityName=Hyderabad&toCityId=124&busType=Any&opId=18491&onward=10-Oct-2024', 'TSRTC - 1298', 'LAHARI A/C SLEEPER CUM SEATER', datetime.timedelta(seconds=30300), '11h 00m', datetime.timedelta(seconds=69900), 3.4, Decimal('1560.00'), 21)\n",
      "(4, 'Hebbal to Kukatpally', 'https://www.redbus.in/bus-tickets/bangalore-to-hyderabad?fromCityName=Bangalore&fromCityId=122&toCityName=Hyderabad&toCityId=124&busType=Any&opId=18491&onward=10-Oct-2024', 'TSRTC - 89149', 'Lahari Non A/C Sleeper Cum Seater', datetime.timedelta(seconds=33000), '11h 40m', datetime.timedelta(seconds=75000), 3.2, Decimal('1263.00'), 38)\n",
      "(5, 'Hebbal to Shivarampalli', 'https://www.redbus.in/bus-tickets/bangalore-to-hyderabad?fromCityName=Bangalore&fromCityId=122&toCityName=Hyderabad&toCityId=124&busType=Any&opId=18491&onward=10-Oct-2024', 'TSRTC - 1038', 'SUPER LUXURY (NON-AC, 2 + 2 PUSH BACK)', datetime.timedelta(seconds=36600), '11h 10m', datetime.timedelta(seconds=76800), 2.5, Decimal('1263.00'), 30)\n",
      "(6, 'Hebbal to Shamshabad', 'https://www.redbus.in/bus-tickets/bangalore-to-hyderabad?fromCityName=Bangalore&fromCityId=122&toCityName=Hyderabad&toCityId=124&busType=Any&opId=18491&onward=10-Oct-2024', 'TSRTC - 7144', 'SUPER LUXURY (NON-AC, 2 + 2 PUSH BACK)', datetime.timedelta(seconds=43200), '12h 30m', datetime.timedelta(seconds=1800), 3.2, Decimal('1263.00'), 33)\n",
      "(7, 'Hebbal to Shamshabad', 'https://www.redbus.in/bus-tickets/bangalore-to-hyderabad?fromCityName=Bangalore&fromCityId=122&toCityName=Hyderabad&toCityId=124&busType=Any&opId=18491&onward=10-Oct-2024', 'TSRTC - 6818', 'SUPER LUXURY (NON-AC, 2 + 2 PUSH BACK)', datetime.timedelta(seconds=49200), '10h 55m', datetime.timedelta(seconds=2100), 3.7, Decimal('1263.00'), 31)\n",
      "(8, 'Hebbal to Shamshabad', 'https://www.redbus.in/bus-tickets/bangalore-to-hyderabad?fromCityName=Bangalore&fromCityId=122&toCityName=Hyderabad&toCityId=124&busType=Any&opId=18491&onward=10-Oct-2024', 'TSRTC - 2995', 'LAHARI A/C SLEEPER CUM SEATER', datetime.timedelta(seconds=56700), '11h 30m', datetime.timedelta(seconds=11700), 3.7, Decimal('1560.00'), 32)\n",
      "(9, 'Hebbal to Kukatpally', 'https://www.redbus.in/bus-tickets/bangalore-to-hyderabad?fromCityName=Bangalore&fromCityId=122&toCityName=Hyderabad&toCityId=124&busType=Any&opId=18491&onward=10-Oct-2024', 'TSRTC - 8208', 'SUPER LUXURY (NON-AC, 2 + 2 PUSH BACK)', datetime.timedelta(seconds=63000), '10h 30m', datetime.timedelta(seconds=14400), 3.0, Decimal('1263.00'), 31)\n",
      "(10, 'Hebbal to Shivarampalli', 'https://www.redbus.in/bus-tickets/bangalore-to-hyderabad?fromCityName=Bangalore&fromCityId=122&toCityName=Hyderabad&toCityId=124&busType=Any&opId=18491&onward=10-Oct-2024', 'TSRTC - 7291', 'LAHARI A/C SLEEPER CUM SEATER', datetime.timedelta(seconds=63900), '10h 15m', datetime.timedelta(seconds=14400), 4.2, Decimal('1560.00'), 32)\n"
     ]
    }
   ],
   "source": [
    "for i in cursor:\n",
    "    print(i)"
   ]
  },
  {
   "cell_type": "markdown",
   "metadata": {},
   "source": [
    "## Private Bus data"
   ]
  },
  {
   "cell_type": "code",
   "execution_count": 115,
   "metadata": {},
   "outputs": [],
   "source": [
    "data = list(zip(proute,proute_link,PBus_Name,PBus_Type,PDeparting_Time,PDuration,PArrival_Time,PStar_rate,cleaned_pcost,pavailability))"
   ]
  },
  {
   "cell_type": "code",
   "execution_count": 116,
   "metadata": {},
   "outputs": [
    {
     "data": {
      "text/plain": [
       "[('Marathahalli to Lakdikapul',\n",
       "  'https://www.redbus.in/bus-tickets/bangalore-to-hyderabad?fromCityName=Bangalore&fromCityId=122&srcCountry=IND&toCityName=Hyderabad&toCityId=124&destCountry=IND&onward=10-Oct-2024&opId=0&busType=Any',\n",
       "  'Intercity travels',\n",
       "  'Bharat Benz A/C Sleeper (2+1)',\n",
       "  '20:00',\n",
       "  '10h 30m',\n",
       "  '06:30',\n",
       "  '4.6',\n",
       "  '2799',\n",
       "  '30'),\n",
       " ('Marathahalli to Lakdikapul',\n",
       "  'https://www.redbus.in/bus-tickets/bangalore-to-hyderabad?fromCityName=Bangalore&fromCityId=122&srcCountry=IND&toCityName=Hyderabad&toCityId=124&destCountry=IND&onward=10-Oct-2024&opId=0&busType=Any',\n",
       "  'Shyamoli Paribahan Pvt Ltd',\n",
       "  'Volvo 9600 Multi-Axle A/C Sleeper (2+1)',\n",
       "  '21:35',\n",
       "  '10h 05m',\n",
       "  '07:40',\n",
       "  '4.6',\n",
       "  '3200',\n",
       "  '31'),\n",
       " ('Marathahalli to Lakdikapul',\n",
       "  'https://www.redbus.in/bus-tickets/bangalore-to-hyderabad?fromCityName=Bangalore&fromCityId=122&srcCountry=IND&toCityName=Hyderabad&toCityId=124&destCountry=IND&onward=10-Oct-2024&opId=0&busType=Any',\n",
       "  'Intercity travels',\n",
       "  'Bharat Benz A/C Sleeper (2+1)',\n",
       "  '20:30',\n",
       "  '11h 15m',\n",
       "  '07:45',\n",
       "  '4.6',\n",
       "  '2799',\n",
       "  '21'),\n",
       " ('Marathahalli to Lakdikapul',\n",
       "  'https://www.redbus.in/bus-tickets/bangalore-to-hyderabad?fromCityName=Bangalore&fromCityId=122&srcCountry=IND&toCityName=Hyderabad&toCityId=124&destCountry=IND&onward=10-Oct-2024&opId=0&busType=Any',\n",
       "  'Ramana Tours And Travels',\n",
       "  'A/C Sleeper (2+1)',\n",
       "  '21:30',\n",
       "  '10h 45m',\n",
       "  '08:15',\n",
       "  '4.4',\n",
       "  '2750',\n",
       "  '38'),\n",
       " ('Marathahalli to Lakdikapul',\n",
       "  'https://www.redbus.in/bus-tickets/bangalore-to-hyderabad?fromCityName=Bangalore&fromCityId=122&srcCountry=IND&toCityName=Hyderabad&toCityId=124&destCountry=IND&onward=10-Oct-2024&opId=0&busType=Any',\n",
       "  'Intercity travels',\n",
       "  'Bharat Benz A/C Sleeper (2+1)',\n",
       "  '21:00',\n",
       "  '10h 30m',\n",
       "  '07:30',\n",
       "  '4.4',\n",
       "  '2799',\n",
       "  '30'),\n",
       " ('Marathahalli to Lakdikapul',\n",
       "  'https://www.redbus.in/bus-tickets/bangalore-to-hyderabad?fromCityName=Bangalore&fromCityId=122&srcCountry=IND&toCityName=Hyderabad&toCityId=124&destCountry=IND&onward=10-Oct-2024&opId=0&busType=Any',\n",
       "  'Shyamoli Paribahan Pvt Ltd',\n",
       "  'Volvo 9600 Multi-Axle A/C Sleeper (2+1)',\n",
       "  '23:15',\n",
       "  '07h 45m',\n",
       "  '07:00',\n",
       "  '4.3',\n",
       "  '2200',\n",
       "  '33'),\n",
       " ('Marathahalli to Lakdikapul',\n",
       "  'https://www.redbus.in/bus-tickets/bangalore-to-hyderabad?fromCityName=Bangalore&fromCityId=122&srcCountry=IND&toCityName=Hyderabad&toCityId=124&destCountry=IND&onward=10-Oct-2024&opId=0&busType=Any',\n",
       "  'Ramana Tours And Travels',\n",
       "  'A/C Sleeper (2+1)',\n",
       "  '21:00',\n",
       "  '10h 15m',\n",
       "  '07:15',\n",
       "  '4.1',\n",
       "  '2750',\n",
       "  '31'),\n",
       " ('Marathahalli to Kukatpally',\n",
       "  'https://www.redbus.in/bus-tickets/bangalore-to-hyderabad?fromCityName=Bangalore&fromCityId=122&srcCountry=IND&toCityName=Hyderabad&toCityId=124&destCountry=IND&onward=10-Oct-2024&opId=0&busType=Any',\n",
       "  'YAS TOURS AND TRAVELS',\n",
       "  'Volvo Multi Axle A/C Sleeper I-Shift B11R (2+1)',\n",
       "  '23:35',\n",
       "  '10h 05m',\n",
       "  '09:40',\n",
       "  '3.8',\n",
       "  '1300',\n",
       "  '32'),\n",
       " ('Marathahalli to Kukatpally',\n",
       "  'https://www.redbus.in/bus-tickets/bangalore-to-hyderabad?fromCityName=Bangalore&fromCityId=122&srcCountry=IND&toCityName=Hyderabad&toCityId=124&destCountry=IND&onward=10-Oct-2024&opId=0&busType=Any',\n",
       "  'YAS TOURS AND TRAVELS',\n",
       "  'Volvo Multi Axle A/C Sleeper I-Shift B11R (2+1)',\n",
       "  '01:20',\n",
       "  '09h 10m',\n",
       "  '10:30',\n",
       "  '3.6',\n",
       "  '1300',\n",
       "  '31'),\n",
       " ('Marathahalli to Kukatpally',\n",
       "  'https://www.redbus.in/bus-tickets/bangalore-to-hyderabad?fromCityName=Bangalore&fromCityId=122&srcCountry=IND&toCityName=Hyderabad&toCityId=124&destCountry=IND&onward=10-Oct-2024&opId=0&busType=Any',\n",
       "  'YAS TOURS AND TRAVELS',\n",
       "  'Volvo Multi Axle A/C Sleeper I-Shift B11R (2+1)',\n",
       "  '22:25',\n",
       "  '09h 40m',\n",
       "  '08:05',\n",
       "  '4.0',\n",
       "  '1300',\n",
       "  '32')]"
      ]
     },
     "execution_count": 116,
     "metadata": {},
     "output_type": "execute_result"
    }
   ],
   "source": [
    "data"
   ]
  },
  {
   "cell_type": "code",
   "execution_count": 117,
   "metadata": {},
   "outputs": [],
   "source": [
    "query = \"insert into bus_data(route_name,route_link,busname,bustype,departing_time,duration,reaching_time,star_rating,price,seats_available) values(%s,%s,%s,%s,%s,%s,%s,%s,%s,%s)\"\n",
    "data = list(zip(proute,proute_link,PBus_Name,PBus_Type,PDeparting_Time,PDuration,PArrival_Time,PStar_rate,cleaned_pcost,pavailability))"
   ]
  },
  {
   "cell_type": "code",
   "execution_count": 118,
   "metadata": {},
   "outputs": [],
   "source": [
    "cursor.executemany(query,data)"
   ]
  },
  {
   "cell_type": "code",
   "execution_count": 119,
   "metadata": {},
   "outputs": [],
   "source": [
    "cursor.execute(\"select * from bus_data\")"
   ]
  },
  {
   "cell_type": "code",
   "execution_count": 120,
   "metadata": {},
   "outputs": [
    {
     "name": "stdout",
     "output_type": "stream",
     "text": [
      "(1, 'Hebbal to Shamshabad', 'https://www.redbus.in/bus-tickets/bangalore-to-hyderabad?fromCityName=Bangalore&fromCityId=122&toCityName=Hyderabad&toCityId=124&busType=Any&opId=18491&onward=10-Oct-2024', 'TSRTC - 1004', 'SUPER LUXURY (NON-AC, 2 + 2 PUSH BACK)', datetime.timedelta(seconds=18600), '10h 50m', datetime.timedelta(seconds=57600), 3.4, Decimal('1263.00'), 30)\n",
      "(2, 'Hebbal to Shamshabad', 'https://www.redbus.in/bus-tickets/bangalore-to-hyderabad?fromCityName=Bangalore&fromCityId=122&toCityName=Hyderabad&toCityId=124&busType=Any&opId=18491&onward=10-Oct-2024', 'TSRTC - 4494', 'SUPER LUXURY (NON-AC, 2 + 2 PUSH BACK)', datetime.timedelta(seconds=23100), '10h 25m', datetime.timedelta(seconds=60600), 2.8, Decimal('1263.00'), 31)\n",
      "(3, 'Hebbal to Shamshabad', 'https://www.redbus.in/bus-tickets/bangalore-to-hyderabad?fromCityName=Bangalore&fromCityId=122&toCityName=Hyderabad&toCityId=124&busType=Any&opId=18491&onward=10-Oct-2024', 'TSRTC - 1298', 'LAHARI A/C SLEEPER CUM SEATER', datetime.timedelta(seconds=30300), '11h 00m', datetime.timedelta(seconds=69900), 3.4, Decimal('1560.00'), 21)\n",
      "(4, 'Hebbal to Kukatpally', 'https://www.redbus.in/bus-tickets/bangalore-to-hyderabad?fromCityName=Bangalore&fromCityId=122&toCityName=Hyderabad&toCityId=124&busType=Any&opId=18491&onward=10-Oct-2024', 'TSRTC - 89149', 'Lahari Non A/C Sleeper Cum Seater', datetime.timedelta(seconds=33000), '11h 40m', datetime.timedelta(seconds=75000), 3.2, Decimal('1263.00'), 38)\n",
      "(5, 'Hebbal to Shivarampalli', 'https://www.redbus.in/bus-tickets/bangalore-to-hyderabad?fromCityName=Bangalore&fromCityId=122&toCityName=Hyderabad&toCityId=124&busType=Any&opId=18491&onward=10-Oct-2024', 'TSRTC - 1038', 'SUPER LUXURY (NON-AC, 2 + 2 PUSH BACK)', datetime.timedelta(seconds=36600), '11h 10m', datetime.timedelta(seconds=76800), 2.5, Decimal('1263.00'), 30)\n",
      "(6, 'Hebbal to Shamshabad', 'https://www.redbus.in/bus-tickets/bangalore-to-hyderabad?fromCityName=Bangalore&fromCityId=122&toCityName=Hyderabad&toCityId=124&busType=Any&opId=18491&onward=10-Oct-2024', 'TSRTC - 7144', 'SUPER LUXURY (NON-AC, 2 + 2 PUSH BACK)', datetime.timedelta(seconds=43200), '12h 30m', datetime.timedelta(seconds=1800), 3.2, Decimal('1263.00'), 33)\n",
      "(7, 'Hebbal to Shamshabad', 'https://www.redbus.in/bus-tickets/bangalore-to-hyderabad?fromCityName=Bangalore&fromCityId=122&toCityName=Hyderabad&toCityId=124&busType=Any&opId=18491&onward=10-Oct-2024', 'TSRTC - 6818', 'SUPER LUXURY (NON-AC, 2 + 2 PUSH BACK)', datetime.timedelta(seconds=49200), '10h 55m', datetime.timedelta(seconds=2100), 3.7, Decimal('1263.00'), 31)\n",
      "(8, 'Hebbal to Shamshabad', 'https://www.redbus.in/bus-tickets/bangalore-to-hyderabad?fromCityName=Bangalore&fromCityId=122&toCityName=Hyderabad&toCityId=124&busType=Any&opId=18491&onward=10-Oct-2024', 'TSRTC - 2995', 'LAHARI A/C SLEEPER CUM SEATER', datetime.timedelta(seconds=56700), '11h 30m', datetime.timedelta(seconds=11700), 3.7, Decimal('1560.00'), 32)\n",
      "(9, 'Hebbal to Kukatpally', 'https://www.redbus.in/bus-tickets/bangalore-to-hyderabad?fromCityName=Bangalore&fromCityId=122&toCityName=Hyderabad&toCityId=124&busType=Any&opId=18491&onward=10-Oct-2024', 'TSRTC - 8208', 'SUPER LUXURY (NON-AC, 2 + 2 PUSH BACK)', datetime.timedelta(seconds=63000), '10h 30m', datetime.timedelta(seconds=14400), 3.0, Decimal('1263.00'), 31)\n",
      "(10, 'Hebbal to Shivarampalli', 'https://www.redbus.in/bus-tickets/bangalore-to-hyderabad?fromCityName=Bangalore&fromCityId=122&toCityName=Hyderabad&toCityId=124&busType=Any&opId=18491&onward=10-Oct-2024', 'TSRTC - 7291', 'LAHARI A/C SLEEPER CUM SEATER', datetime.timedelta(seconds=63900), '10h 15m', datetime.timedelta(seconds=14400), 4.2, Decimal('1560.00'), 32)\n",
      "(11, 'Marathahalli to Lakdikapul', 'https://www.redbus.in/bus-tickets/bangalore-to-hyderabad?fromCityName=Bangalore&fromCityId=122&srcCountry=IND&toCityName=Hyderabad&toCityId=124&destCountry=IND&onward=10-Oct-2024&opId=0&busType=Any', 'Intercity travels', 'Bharat Benz A/C Sleeper (2+1)', datetime.timedelta(seconds=72000), '10h 30m', datetime.timedelta(seconds=23400), 4.6, Decimal('2799.00'), 30)\n",
      "(12, 'Marathahalli to Lakdikapul', 'https://www.redbus.in/bus-tickets/bangalore-to-hyderabad?fromCityName=Bangalore&fromCityId=122&srcCountry=IND&toCityName=Hyderabad&toCityId=124&destCountry=IND&onward=10-Oct-2024&opId=0&busType=Any', 'Shyamoli Paribahan Pvt Ltd', 'Volvo 9600 Multi-Axle A/C Sleeper (2+1)', datetime.timedelta(seconds=77700), '10h 05m', datetime.timedelta(seconds=27600), 4.6, Decimal('3200.00'), 31)\n",
      "(13, 'Marathahalli to Lakdikapul', 'https://www.redbus.in/bus-tickets/bangalore-to-hyderabad?fromCityName=Bangalore&fromCityId=122&srcCountry=IND&toCityName=Hyderabad&toCityId=124&destCountry=IND&onward=10-Oct-2024&opId=0&busType=Any', 'Intercity travels', 'Bharat Benz A/C Sleeper (2+1)', datetime.timedelta(seconds=73800), '11h 15m', datetime.timedelta(seconds=27900), 4.6, Decimal('2799.00'), 21)\n",
      "(14, 'Marathahalli to Lakdikapul', 'https://www.redbus.in/bus-tickets/bangalore-to-hyderabad?fromCityName=Bangalore&fromCityId=122&srcCountry=IND&toCityName=Hyderabad&toCityId=124&destCountry=IND&onward=10-Oct-2024&opId=0&busType=Any', 'Ramana Tours And Travels', 'A/C Sleeper (2+1)', datetime.timedelta(seconds=77400), '10h 45m', datetime.timedelta(seconds=29700), 4.4, Decimal('2750.00'), 38)\n",
      "(15, 'Marathahalli to Lakdikapul', 'https://www.redbus.in/bus-tickets/bangalore-to-hyderabad?fromCityName=Bangalore&fromCityId=122&srcCountry=IND&toCityName=Hyderabad&toCityId=124&destCountry=IND&onward=10-Oct-2024&opId=0&busType=Any', 'Intercity travels', 'Bharat Benz A/C Sleeper (2+1)', datetime.timedelta(seconds=75600), '10h 30m', datetime.timedelta(seconds=27000), 4.4, Decimal('2799.00'), 30)\n",
      "(16, 'Marathahalli to Lakdikapul', 'https://www.redbus.in/bus-tickets/bangalore-to-hyderabad?fromCityName=Bangalore&fromCityId=122&srcCountry=IND&toCityName=Hyderabad&toCityId=124&destCountry=IND&onward=10-Oct-2024&opId=0&busType=Any', 'Shyamoli Paribahan Pvt Ltd', 'Volvo 9600 Multi-Axle A/C Sleeper (2+1)', datetime.timedelta(seconds=83700), '07h 45m', datetime.timedelta(seconds=25200), 4.3, Decimal('2200.00'), 33)\n",
      "(17, 'Marathahalli to Lakdikapul', 'https://www.redbus.in/bus-tickets/bangalore-to-hyderabad?fromCityName=Bangalore&fromCityId=122&srcCountry=IND&toCityName=Hyderabad&toCityId=124&destCountry=IND&onward=10-Oct-2024&opId=0&busType=Any', 'Ramana Tours And Travels', 'A/C Sleeper (2+1)', datetime.timedelta(seconds=75600), '10h 15m', datetime.timedelta(seconds=26100), 4.1, Decimal('2750.00'), 31)\n",
      "(18, 'Marathahalli to Kukatpally', 'https://www.redbus.in/bus-tickets/bangalore-to-hyderabad?fromCityName=Bangalore&fromCityId=122&srcCountry=IND&toCityName=Hyderabad&toCityId=124&destCountry=IND&onward=10-Oct-2024&opId=0&busType=Any', 'YAS TOURS AND TRAVELS', 'Volvo Multi Axle A/C Sleeper I-Shift B11R (2+1)', datetime.timedelta(seconds=84900), '10h 05m', datetime.timedelta(seconds=34800), 3.8, Decimal('1300.00'), 32)\n",
      "(19, 'Marathahalli to Kukatpally', 'https://www.redbus.in/bus-tickets/bangalore-to-hyderabad?fromCityName=Bangalore&fromCityId=122&srcCountry=IND&toCityName=Hyderabad&toCityId=124&destCountry=IND&onward=10-Oct-2024&opId=0&busType=Any', 'YAS TOURS AND TRAVELS', 'Volvo Multi Axle A/C Sleeper I-Shift B11R (2+1)', datetime.timedelta(seconds=4800), '09h 10m', datetime.timedelta(seconds=37800), 3.6, Decimal('1300.00'), 31)\n",
      "(20, 'Marathahalli to Kukatpally', 'https://www.redbus.in/bus-tickets/bangalore-to-hyderabad?fromCityName=Bangalore&fromCityId=122&srcCountry=IND&toCityName=Hyderabad&toCityId=124&destCountry=IND&onward=10-Oct-2024&opId=0&busType=Any', 'YAS TOURS AND TRAVELS', 'Volvo Multi Axle A/C Sleeper I-Shift B11R (2+1)', datetime.timedelta(seconds=80700), '09h 40m', datetime.timedelta(seconds=29100), 4.0, Decimal('1300.00'), 32)\n"
     ]
    }
   ],
   "source": [
    "for i in cursor:\n",
    "    print(i)"
   ]
  },
  {
   "cell_type": "code",
   "execution_count": null,
   "metadata": {},
   "outputs": [],
   "source": []
  }
 ],
 "metadata": {
  "kernelspec": {
   "display_name": "base",
   "language": "python",
   "name": "python3"
  },
  "language_info": {
   "codemirror_mode": {
    "name": "ipython",
    "version": 3
   },
   "file_extension": ".py",
   "mimetype": "text/x-python",
   "name": "python",
   "nbconvert_exporter": "python",
   "pygments_lexer": "ipython3",
   "version": "3.11.4"
  }
 },
 "nbformat": 4,
 "nbformat_minor": 2
}
