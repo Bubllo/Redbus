{
 "cells": [
  {
   "cell_type": "markdown",
   "metadata": {},
   "source": [
    "# Importing libraries"
   ]
  },
  {
   "cell_type": "code",
   "execution_count": 1,
   "metadata": {},
   "outputs": [],
   "source": [
    "from selenium import webdriver\n",
    "import time\n",
    "from selenium.webdriver.common.by import By\n",
    "from selenium.webdriver.common.keys import Keys"
   ]
  },
  {
   "cell_type": "markdown",
   "metadata": {},
   "source": [
    "# setting up driver to access the webpage"
   ]
  },
  {
   "cell_type": "code",
   "execution_count": 2,
   "metadata": {},
   "outputs": [],
   "source": [
    "driver = webdriver.Chrome()"
   ]
  },
  {
   "cell_type": "markdown",
   "metadata": {},
   "source": [
    "# defining the landing page"
   ]
  },
  {
   "cell_type": "code",
   "execution_count": 3,
   "metadata": {},
   "outputs": [],
   "source": [
    "driver.get(\"https://www.redbus.in/\")\n",
    "time.sleep(5)"
   ]
  },
  {
   "cell_type": "markdown",
   "metadata": {},
   "source": [
    "# Selecting a RTC"
   ]
  },
  {
   "cell_type": "markdown",
   "metadata": {},
   "source": [
    "The route chosen to extract his BLR -> HYD through the RTC of telangana RTC"
   ]
  },
  {
   "cell_type": "code",
   "execution_count": 4,
   "metadata": {},
   "outputs": [],
   "source": [
    "TSRTC = driver.get(\"https://www.redbus.in/online-booking/tsrtc/\")"
   ]
  },
  {
   "cell_type": "markdown",
   "metadata": {},
   "source": [
    "## selecting source location"
   ]
  },
  {
   "cell_type": "code",
   "execution_count": 5,
   "metadata": {},
   "outputs": [],
   "source": [
    "start = \"bangalore\"\n",
    "source = driver.find_element(By.CSS_SELECTOR,\"input[id='txtSource']\").send_keys(start)\n"
   ]
  },
  {
   "cell_type": "markdown",
   "metadata": {},
   "source": [
    "## selecting destination location"
   ]
  },
  {
   "cell_type": "code",
   "execution_count": 6,
   "metadata": {},
   "outputs": [],
   "source": [
    "end = \"hyderabad\"\n",
    "final = driver.find_element(By.CSS_SELECTOR,\"input[id='txtDestination']\").send_keys(end)"
   ]
  },
  {
   "cell_type": "markdown",
   "metadata": {},
   "source": [
    "## selecting dates"
   ]
  },
  {
   "cell_type": "code",
   "execution_count": 7,
   "metadata": {},
   "outputs": [],
   "source": [
    "day = \"10-10-2024\"\n",
    "date = driver.find_element(By.CSS_SELECTOR,\"input[id='txtOnwardCalendar']\").send_keys(day)"
   ]
  },
  {
   "cell_type": "markdown",
   "metadata": {},
   "source": [
    "## submitting the request"
   ]
  },
  {
   "cell_type": "code",
   "execution_count": 8,
   "metadata": {},
   "outputs": [],
   "source": [
    "search_buses = driver.find_element(By.XPATH,\"//*[@id='DC120_sw_main']/button\").click()"
   ]
  },
  {
   "cell_type": "markdown",
   "metadata": {},
   "source": [
    "# extracting Data"
   ]
  },
  {
   "cell_type": "markdown",
   "metadata": {},
   "source": [
    "# Government Bus Data"
   ]
  },
  {
   "cell_type": "markdown",
   "metadata": {},
   "source": [
    "### Bus Name"
   ]
  },
  {
   "cell_type": "code",
   "execution_count": 13,
   "metadata": {},
   "outputs": [],
   "source": [
    "bus_name = driver.find_elements(By.XPATH,\"//div[@class='travels lh-24 f-bold d-color']\")"
   ]
  },
  {
   "cell_type": "code",
   "execution_count": 10,
   "metadata": {},
   "outputs": [],
   "source": [
    "Bus_Name = []"
   ]
  },
  {
   "cell_type": "code",
   "execution_count": 14,
   "metadata": {},
   "outputs": [],
   "source": [
    "for i in bus_name:\n",
    "    Bus_Name.append(i.text)"
   ]
  },
  {
   "cell_type": "code",
   "execution_count": 15,
   "metadata": {},
   "outputs": [
    {
     "data": {
      "text/plain": [
       "['TSRTC - 1004',\n",
       " 'TSRTC - 4494',\n",
       " 'TSRTC - 1298',\n",
       " 'TSRTC - 89149',\n",
       " 'TSRTC - 1038',\n",
       " 'TSRTC - 1004',\n",
       " 'TSRTC - 4494',\n",
       " 'TSRTC - 1298',\n",
       " 'TSRTC - 89149',\n",
       " 'TSRTC - 1038',\n",
       " 'TSRTC - 7144',\n",
       " 'TSRTC - 6818',\n",
       " 'TSRTC - 2995',\n",
       " 'TSRTC - 8208',\n",
       " 'TSRTC - 7291']"
      ]
     },
     "execution_count": 15,
     "metadata": {},
     "output_type": "execute_result"
    }
   ],
   "source": [
    "Bus_Name"
   ]
  },
  {
   "cell_type": "markdown",
   "metadata": {},
   "source": [
    "### Bus Type i.e sleeper/seater/Ac/Non-Ac"
   ]
  },
  {
   "cell_type": "code",
   "execution_count": 16,
   "metadata": {},
   "outputs": [],
   "source": [
    "bus_type = driver.find_elements(By.XPATH,\"//div[@class='bus-type f-12 m-top-16 l-color evBus']\")"
   ]
  },
  {
   "cell_type": "code",
   "execution_count": 17,
   "metadata": {},
   "outputs": [],
   "source": [
    "Bus_Type = []"
   ]
  },
  {
   "cell_type": "code",
   "execution_count": 18,
   "metadata": {},
   "outputs": [
    {
     "data": {
      "text/plain": [
       "[]"
      ]
     },
     "execution_count": 18,
     "metadata": {},
     "output_type": "execute_result"
    }
   ],
   "source": [
    "Bus_Type"
   ]
  },
  {
   "cell_type": "code",
   "execution_count": 19,
   "metadata": {},
   "outputs": [],
   "source": [
    "for i in bus_type:\n",
    "    Bus_Type.append(i.text)"
   ]
  },
  {
   "cell_type": "code",
   "execution_count": 20,
   "metadata": {},
   "outputs": [
    {
     "data": {
      "text/plain": [
       "['SUPER LUXURY (NON-AC, 2 + 2 PUSH BACK)',\n",
       " 'SUPER LUXURY (NON-AC, 2 + 2 PUSH BACK)',\n",
       " 'LAHARI A/C SLEEPER CUM SEATER',\n",
       " 'Lahari Non A/C Sleeper Cum Seater',\n",
       " 'SUPER LUXURY (NON-AC, 2 + 2 PUSH BACK)',\n",
       " 'SUPER LUXURY (NON-AC, 2 + 2 PUSH BACK)',\n",
       " 'SUPER LUXURY (NON-AC, 2 + 2 PUSH BACK)',\n",
       " 'LAHARI A/C SLEEPER CUM SEATER',\n",
       " 'SUPER LUXURY (NON-AC, 2 + 2 PUSH BACK)',\n",
       " 'LAHARI A/C SLEEPER CUM SEATER',\n",
       " 'LAHARI A/C SLEEPER CUM SEATER',\n",
       " 'SUPER LUXURY (NON-AC, 2 + 2 PUSH BACK)',\n",
       " 'LAHARI A/C SLEEPER CUM SEATER',\n",
       " 'LAHARI A/C SLEEPER CUM SEATER',\n",
       " 'SUPER LUXURY (NON-AC, 2 + 2 PUSH BACK)']"
      ]
     },
     "execution_count": 20,
     "metadata": {},
     "output_type": "execute_result"
    }
   ],
   "source": [
    "Bus_Type"
   ]
  },
  {
   "cell_type": "markdown",
   "metadata": {},
   "source": [
    "### Departing time"
   ]
  },
  {
   "cell_type": "code",
   "execution_count": 46,
   "metadata": {},
   "outputs": [],
   "source": [
    "departure = driver.find_elements(By.XPATH,\"//div[@class='dp-time f-19 d-color f-bold']\")"
   ]
  },
  {
   "cell_type": "code",
   "execution_count": 47,
   "metadata": {},
   "outputs": [],
   "source": [
    "departing_time = []"
   ]
  },
  {
   "cell_type": "code",
   "execution_count": 48,
   "metadata": {},
   "outputs": [],
   "source": [
    "for i in departure:\n",
    "    departing_time.append(i.text)"
   ]
  },
  {
   "cell_type": "code",
   "execution_count": 49,
   "metadata": {},
   "outputs": [
    {
     "data": {
      "text/plain": [
       "['05:10',\n",
       " '06:25',\n",
       " '08:25',\n",
       " '09:10',\n",
       " '10:10',\n",
       " '12:00',\n",
       " '13:40',\n",
       " '15:45',\n",
       " '17:30',\n",
       " '17:45']"
      ]
     },
     "execution_count": 49,
     "metadata": {},
     "output_type": "execute_result"
    }
   ],
   "source": [
    "departing_time"
   ]
  },
  {
   "cell_type": "markdown",
   "metadata": {},
   "source": [
    "### Arrival time"
   ]
  },
  {
   "cell_type": "code",
   "execution_count": 42,
   "metadata": {},
   "outputs": [],
   "source": [
    "arrival = driver.find_elements(By.XPATH,\"//div[@class='bp-time f-19 d-color disp-Inline']\")"
   ]
  },
  {
   "cell_type": "code",
   "execution_count": 43,
   "metadata": {},
   "outputs": [],
   "source": [
    "Arrival_time = []"
   ]
  },
  {
   "cell_type": "code",
   "execution_count": 44,
   "metadata": {},
   "outputs": [],
   "source": [
    "for i in arrival:\n",
    "    Arrival_time.append(i.text)"
   ]
  },
  {
   "cell_type": "code",
   "execution_count": 45,
   "metadata": {},
   "outputs": [
    {
     "data": {
      "text/plain": [
       "['16:00',\n",
       " '16:50',\n",
       " '19:25',\n",
       " '20:50',\n",
       " '21:20',\n",
       " '00:30',\n",
       " '00:35',\n",
       " '03:15',\n",
       " '04:00',\n",
       " '04:00']"
      ]
     },
     "execution_count": 45,
     "metadata": {},
     "output_type": "execute_result"
    }
   ],
   "source": [
    "Arrival_time"
   ]
  },
  {
   "cell_type": "markdown",
   "metadata": {},
   "source": [
    "### Duration"
   ]
  },
  {
   "cell_type": "code",
   "execution_count": 38,
   "metadata": {},
   "outputs": [],
   "source": [
    "time = driver.find_elements(By.XPATH,\"//div[@class='dur l-color lh-24']\")"
   ]
  },
  {
   "cell_type": "code",
   "execution_count": 39,
   "metadata": {},
   "outputs": [],
   "source": [
    "Duration = []"
   ]
  },
  {
   "cell_type": "code",
   "execution_count": 40,
   "metadata": {},
   "outputs": [],
   "source": [
    "for i in time:\n",
    "    Duration.append(i.text)"
   ]
  },
  {
   "cell_type": "code",
   "execution_count": 41,
   "metadata": {},
   "outputs": [
    {
     "data": {
      "text/plain": [
       "['10h 50m',\n",
       " '10h 25m',\n",
       " '11h 00m',\n",
       " '11h 40m',\n",
       " '11h 10m',\n",
       " '12h 30m',\n",
       " '10h 55m',\n",
       " '11h 30m',\n",
       " '10h 30m',\n",
       " '10h 15m']"
      ]
     },
     "execution_count": 41,
     "metadata": {},
     "output_type": "execute_result"
    }
   ],
   "source": [
    "Duration"
   ]
  },
  {
   "cell_type": "markdown",
   "metadata": {},
   "source": [
    "### Star Rating"
   ]
  },
  {
   "cell_type": "code",
   "execution_count": 50,
   "metadata": {},
   "outputs": [],
   "source": [
    "star = driver.find_elements(By.XPATH,\"//div[@class='rating-sec lh-24']\")"
   ]
  },
  {
   "cell_type": "code",
   "execution_count": 51,
   "metadata": {},
   "outputs": [],
   "source": [
    "Star_rate = []"
   ]
  },
  {
   "cell_type": "code",
   "execution_count": 52,
   "metadata": {},
   "outputs": [],
   "source": [
    "for i in star:\n",
    "    Star_rate.append(i.text)"
   ]
  },
  {
   "cell_type": "code",
   "execution_count": 53,
   "metadata": {},
   "outputs": [
    {
     "data": {
      "text/plain": [
       "['3.4', '2.8', '3.4', '3.2', '2.5', '3.2', '3.7', '3.7', '3.0', '4.2']"
      ]
     },
     "execution_count": 53,
     "metadata": {},
     "output_type": "execute_result"
    }
   ],
   "source": [
    "Star_rate"
   ]
  },
  {
   "cell_type": "markdown",
   "metadata": {},
   "source": [
    "### Price"
   ]
  },
  {
   "cell_type": "code",
   "execution_count": 54,
   "metadata": {},
   "outputs": [],
   "source": [
    "cost = driver.find_elements(By.XPATH,\"//div[@class='fare d-block']\")"
   ]
  },
  {
   "cell_type": "code",
   "execution_count": 55,
   "metadata": {},
   "outputs": [],
   "source": [
    "Price = []"
   ]
  },
  {
   "cell_type": "code",
   "execution_count": 56,
   "metadata": {},
   "outputs": [],
   "source": [
    "for i in cost:\n",
    "    Price.append(i.text)"
   ]
  },
  {
   "cell_type": "code",
   "execution_count": 57,
   "metadata": {},
   "outputs": [
    {
     "data": {
      "text/plain": [
       "['INR 1263',\n",
       " 'INR 1263',\n",
       " 'INR 1560',\n",
       " 'INR 1263',\n",
       " 'INR 1263',\n",
       " 'INR 1263',\n",
       " 'INR 1263',\n",
       " 'INR 1560',\n",
       " 'INR 1263',\n",
       " 'INR 1560']"
      ]
     },
     "execution_count": 57,
     "metadata": {},
     "output_type": "execute_result"
    }
   ],
   "source": [
    "Price"
   ]
  },
  {
   "cell_type": "markdown",
   "metadata": {},
   "source": [
    "### Seats available"
   ]
  },
  {
   "cell_type": "code",
   "execution_count": 58,
   "metadata": {},
   "outputs": [],
   "source": [
    "seats = driver.find_elements(By.XPATH,\"//div[@class='seat-left m-top-16']\")"
   ]
  },
  {
   "cell_type": "code",
   "execution_count": 59,
   "metadata": {},
   "outputs": [],
   "source": [
    "Seat_Availability = []"
   ]
  },
  {
   "cell_type": "code",
   "execution_count": 60,
   "metadata": {},
   "outputs": [],
   "source": [
    "for i in seats:\n",
    "    Seat_Availability.append(i.text)"
   ]
  },
  {
   "cell_type": "code",
   "execution_count": 61,
   "metadata": {},
   "outputs": [
    {
     "data": {
      "text/plain": [
       "['30 Seats available',\n",
       " '31 Seats available',\n",
       " '21 Seats available',\n",
       " '38 Seats available',\n",
       " '30 Seats available']"
      ]
     },
     "execution_count": 61,
     "metadata": {},
     "output_type": "execute_result"
    }
   ],
   "source": [
    "Seat_Availability"
   ]
  },
  {
   "cell_type": "markdown",
   "metadata": {},
   "source": [
    "#### buses with higher seats remaining"
   ]
  },
  {
   "cell_type": "code",
   "execution_count": 62,
   "metadata": {},
   "outputs": [],
   "source": [
    "seats1 = driver.find_elements(By.XPATH,\"//div[@class='seat-left m-top-30']\")"
   ]
  },
  {
   "cell_type": "code",
   "execution_count": 63,
   "metadata": {},
   "outputs": [],
   "source": [
    "for i in seats1:\n",
    "    Seat_Availability.append(i.text)"
   ]
  },
  {
   "cell_type": "code",
   "execution_count": 64,
   "metadata": {},
   "outputs": [
    {
     "data": {
      "text/plain": [
       "['30 Seats available',\n",
       " '31 Seats available',\n",
       " '21 Seats available',\n",
       " '38 Seats available',\n",
       " '30 Seats available',\n",
       " '33 Seats available',\n",
       " '31 Seats available',\n",
       " '32 Seats available',\n",
       " '31 Seats available',\n",
       " '32 Seats available']"
      ]
     },
     "execution_count": 64,
     "metadata": {},
     "output_type": "execute_result"
    }
   ],
   "source": [
    "Seat_Availability"
   ]
  },
  {
   "cell_type": "markdown",
   "metadata": {},
   "source": [
    "#### spliting numerical value separately"
   ]
  },
  {
   "cell_type": "code",
   "execution_count": 65,
   "metadata": {},
   "outputs": [],
   "source": [
    "availability = []\n",
    "dump = []\n",
    "\n",
    "for i in Seat_Availability:\n",
    "    avail,seats,status= i.split()\n",
    "    availability.append(avail)\n",
    "    dump.append(f\"{seats}{status}\")"
   ]
  },
  {
   "cell_type": "code",
   "execution_count": 66,
   "metadata": {},
   "outputs": [
    {
     "data": {
      "text/plain": [
       "['30', '31', '21', '38', '30', '33', '31', '32', '31', '32']"
      ]
     },
     "execution_count": 66,
     "metadata": {},
     "output_type": "execute_result"
    }
   ],
   "source": [
    "availability"
   ]
  },
  {
   "cell_type": "markdown",
   "metadata": {},
   "source": [
    "### Bus route Name"
   ]
  },
  {
   "cell_type": "code",
   "execution_count": 159,
   "metadata": {},
   "outputs": [],
   "source": [
    "start_point = driver.find_elements(By.XPATH,\"//div[@class='dp-loc l-color w-wrap f-12 m-top-16']\")\n",
    "end_point = driver.find_elements(By.XPATH,\"//div[@class='bp-loc l-color w-wrap f-12 m-top-16']\")"
   ]
  },
  {
   "cell_type": "code",
   "execution_count": 160,
   "metadata": {},
   "outputs": [],
   "source": [
    "map = []"
   ]
  },
  {
   "cell_type": "code",
   "execution_count": 161,
   "metadata": {},
   "outputs": [],
   "source": [
    "for i in start_point:\n",
    "    for j in end_point:\n",
    "        a = (i.text + \" to \" + j.text )\n",
    "        map.append(a)"
   ]
  },
  {
   "cell_type": "code",
   "execution_count": 88,
   "metadata": {},
   "outputs": [
    {
     "data": {
      "text/plain": [
       "['Hebbal to Shamshabad',\n",
       " 'Hebbal to Shamshabad',\n",
       " 'Hebbal to Shamshabad',\n",
       " 'Hebbal to Kukatpally',\n",
       " 'Hebbal to Shivarampalli',\n",
       " 'Hebbal to Shamshabad',\n",
       " 'Hebbal to Shamshabad',\n",
       " 'Hebbal to Shamshabad',\n",
       " 'Hebbal to Kukatpally',\n",
       " 'Hebbal to Shivarampalli',\n",
       " 'Hebbal to Shamshabad',\n",
       " 'Hebbal to Shamshabad',\n",
       " 'Hebbal to Shamshabad',\n",
       " 'Hebbal to Kukatpally',\n",
       " 'Hebbal to Shivarampalli',\n",
       " 'Hebbal to Shamshabad',\n",
       " 'Hebbal to Shamshabad',\n",
       " 'Hebbal to Shamshabad',\n",
       " 'Hebbal to Kukatpally',\n",
       " 'Hebbal to Shivarampalli',\n",
       " 'Hebbal to Shamshabad',\n",
       " 'Hebbal to Shamshabad',\n",
       " 'Hebbal to Shamshabad',\n",
       " 'Hebbal to Kukatpally',\n",
       " 'Hebbal to Shivarampalli']"
      ]
     },
     "execution_count": 88,
     "metadata": {},
     "output_type": "execute_result"
    }
   ],
   "source": [
    "map"
   ]
  },
  {
   "cell_type": "code",
   "execution_count": 77,
   "metadata": {},
   "outputs": [],
   "source": [
    "route_link = []\n",
    "for i in range(10):\n",
    "    i = \"https://www.redbus.in/bus-tickets/bangalore-to-hyderabad?fromCityName=Bangalore&fromCityId=122&toCityName=Hyderabad&toCityId=124&busType=Any&opId=18491&onward=10-Oct-2024\"\n",
    "    route_link.append(i)"
   ]
  },
  {
   "cell_type": "code",
   "execution_count": 78,
   "metadata": {},
   "outputs": [
    {
     "data": {
      "text/plain": [
       "['https://www.redbus.in/bus-tickets/bangalore-to-hyderabad?fromCityName=Bangalore&fromCityId=122&toCityName=Hyderabad&toCityId=124&busType=Any&opId=18491&onward=10-Oct-2024',\n",
       " 'https://www.redbus.in/bus-tickets/bangalore-to-hyderabad?fromCityName=Bangalore&fromCityId=122&toCityName=Hyderabad&toCityId=124&busType=Any&opId=18491&onward=10-Oct-2024',\n",
       " 'https://www.redbus.in/bus-tickets/bangalore-to-hyderabad?fromCityName=Bangalore&fromCityId=122&toCityName=Hyderabad&toCityId=124&busType=Any&opId=18491&onward=10-Oct-2024',\n",
       " 'https://www.redbus.in/bus-tickets/bangalore-to-hyderabad?fromCityName=Bangalore&fromCityId=122&toCityName=Hyderabad&toCityId=124&busType=Any&opId=18491&onward=10-Oct-2024',\n",
       " 'https://www.redbus.in/bus-tickets/bangalore-to-hyderabad?fromCityName=Bangalore&fromCityId=122&toCityName=Hyderabad&toCityId=124&busType=Any&opId=18491&onward=10-Oct-2024',\n",
       " 'https://www.redbus.in/bus-tickets/bangalore-to-hyderabad?fromCityName=Bangalore&fromCityId=122&toCityName=Hyderabad&toCityId=124&busType=Any&opId=18491&onward=10-Oct-2024',\n",
       " 'https://www.redbus.in/bus-tickets/bangalore-to-hyderabad?fromCityName=Bangalore&fromCityId=122&toCityName=Hyderabad&toCityId=124&busType=Any&opId=18491&onward=10-Oct-2024',\n",
       " 'https://www.redbus.in/bus-tickets/bangalore-to-hyderabad?fromCityName=Bangalore&fromCityId=122&toCityName=Hyderabad&toCityId=124&busType=Any&opId=18491&onward=10-Oct-2024',\n",
       " 'https://www.redbus.in/bus-tickets/bangalore-to-hyderabad?fromCityName=Bangalore&fromCityId=122&toCityName=Hyderabad&toCityId=124&busType=Any&opId=18491&onward=10-Oct-2024',\n",
       " 'https://www.redbus.in/bus-tickets/bangalore-to-hyderabad?fromCityName=Bangalore&fromCityId=122&toCityName=Hyderabad&toCityId=124&busType=Any&opId=18491&onward=10-Oct-2024']"
      ]
     },
     "execution_count": 78,
     "metadata": {},
     "output_type": "execute_result"
    }
   ],
   "source": [
    "route_link"
   ]
  },
  {
   "cell_type": "markdown",
   "metadata": {},
   "source": [
    "# Private Bus Data"
   ]
  },
  {
   "cell_type": "markdown",
   "metadata": {},
   "source": [
    "## Selecting route"
   ]
  },
  {
   "cell_type": "markdown",
   "metadata": {},
   "source": [
    "Selecting the same route as taken to the government bus data.\n",
    "\n",
    "\n",
    "BLR -> HYD"
   ]
  },
  {
   "cell_type": "code",
   "execution_count": 89,
   "metadata": {},
   "outputs": [],
   "source": [
    "driver.get(\"https://www.redbus.in/\")"
   ]
  },
  {
   "cell_type": "markdown",
   "metadata": {},
   "source": [
    "## inputting the data"
   ]
  },
  {
   "cell_type": "code",
   "execution_count": 91,
   "metadata": {},
   "outputs": [],
   "source": [
    "start = \"bangalore\"\n",
    "source = driver.find_element(By.ID,\"src\").send_keys(start)"
   ]
  },
  {
   "cell_type": "code",
   "execution_count": 92,
   "metadata": {},
   "outputs": [],
   "source": [
    "end = \"hyderabad\"\n",
    "final = driver.find_element(By.ID,\"dest\").send_keys(end)"
   ]
  },
  {
   "cell_type": "code",
   "execution_count": 98,
   "metadata": {},
   "outputs": [],
   "source": [
    "search_button = driver.find_element(By.ID,\"search_button\").click()"
   ]
  },
  {
   "cell_type": "markdown",
   "metadata": {},
   "source": [
    "## Private Bus Name"
   ]
  },
  {
   "cell_type": "code",
   "execution_count": 109,
   "metadata": {},
   "outputs": [],
   "source": [
    "Pbus_name = driver.find_elements(By.XPATH,\"//div[@class='travels lh-24 f-bold d-color']\")"
   ]
  },
  {
   "cell_type": "code",
   "execution_count": 110,
   "metadata": {},
   "outputs": [],
   "source": [
    "PBus_Name = []"
   ]
  },
  {
   "cell_type": "code",
   "execution_count": 111,
   "metadata": {},
   "outputs": [],
   "source": [
    "for i in Pbus_name:\n",
    "    PBus_Name.append(i.text)"
   ]
  },
  {
   "cell_type": "code",
   "execution_count": 112,
   "metadata": {},
   "outputs": [
    {
     "data": {
      "text/plain": [
       "['Intercity travels',\n",
       " 'Shyamoli Paribahan Pvt Ltd',\n",
       " 'Intercity travels',\n",
       " 'Ramana Tours And Travels',\n",
       " 'Intercity travels',\n",
       " 'Shyamoli Paribahan Pvt Ltd',\n",
       " 'Ramana Tours And Travels',\n",
       " 'YAS TOURS AND TRAVELS',\n",
       " 'YAS TOURS AND TRAVELS',\n",
       " 'YAS TOURS AND TRAVELS',\n",
       " 'YAS TOURS AND TRAVELS',\n",
       " 'DHANUNJAYA TRAVELS',\n",
       " 'Intercity travels',\n",
       " 'Northern Travels',\n",
       " 'SRS Travels',\n",
       " 'DHANUNJAYA TRAVELS',\n",
       " 'Bharathi Travels',\n",
       " 'SRS Travels',\n",
       " 'SRS Travels',\n",
       " 'Northern Travels',\n",
       " 'Northern Travels',\n",
       " 'DHANUNJAYA TRAVELS',\n",
       " 'Tranzindia Travels',\n",
       " 'Tranzindia Travels',\n",
       " 'DHANUNJAYA TRAVELS',\n",
       " 'DHANUNJAYA TRAVELS',\n",
       " 'PSK Travels',\n",
       " 'PSK Travels']"
      ]
     },
     "execution_count": 112,
     "metadata": {},
     "output_type": "execute_result"
    }
   ],
   "source": [
    "PBus_Name"
   ]
  },
  {
   "cell_type": "markdown",
   "metadata": {},
   "source": [
    "## Private Bus Type"
   ]
  },
  {
   "cell_type": "code",
   "execution_count": 113,
   "metadata": {},
   "outputs": [],
   "source": [
    "Pbus_Type = driver.find_elements(By.XPATH,\"//div[@class='bus-type f-12 m-top-16 l-color evBus']\")"
   ]
  },
  {
   "cell_type": "code",
   "execution_count": 114,
   "metadata": {},
   "outputs": [],
   "source": [
    "PBus_Type = []"
   ]
  },
  {
   "cell_type": "code",
   "execution_count": 115,
   "metadata": {},
   "outputs": [],
   "source": [
    "for i in Pbus_Type:\n",
    "    PBus_Type.append(i.text)"
   ]
  },
  {
   "cell_type": "code",
   "execution_count": 116,
   "metadata": {},
   "outputs": [
    {
     "data": {
      "text/plain": [
       "['Bharat Benz A/C Sleeper (2+1)',\n",
       " 'Volvo 9600 Multi-Axle A/C Sleeper (2+1)',\n",
       " 'Bharat Benz A/C Sleeper (2+1)',\n",
       " 'A/C Sleeper (2+1)',\n",
       " 'Bharat Benz A/C Sleeper (2+1)',\n",
       " 'Volvo 9600 Multi-Axle A/C Sleeper (2+1)',\n",
       " 'A/C Sleeper (2+1)',\n",
       " 'Volvo Multi Axle A/C Sleeper I-Shift B11R (2+1)',\n",
       " 'Volvo Multi Axle A/C Sleeper I-Shift B11R (2+1)',\n",
       " 'Volvo Multi Axle A/C Sleeper I-Shift B11R (2+1)',\n",
       " 'Volvo A/C B11R Multi Axle Semi Sleeper (2+2)',\n",
       " 'A/C Semi Sleeper / Sleeper (2+1)',\n",
       " 'A/C Sleeper (2+1)',\n",
       " 'Bharat Benz A/C Seater /Sleeper (2+1)',\n",
       " 'Scania Multi-Axle AC Semi Sleeper (2+2)',\n",
       " 'A/C Seater / Sleeper (2+1)',\n",
       " 'A/C Sleeper (2+1)',\n",
       " 'A/C Sleeper (2+1)',\n",
       " 'NON AC Seater / Sleeper 2+1',\n",
       " 'Bharat Benz A/C Seater /Sleeper (2+1)',\n",
       " 'Bharat Benz A/C Seater /Sleeper (2+1)',\n",
       " 'A/C Seater / Sleeper (2+1)',\n",
       " 'Non A/C Seater / Sleeper (2+1)',\n",
       " 'Non A/C Seater / Sleeper (2+1)',\n",
       " 'A/C Semi Sleeper / Sleeper (2+1)',\n",
       " 'A/C Sleeper (2+1)',\n",
       " 'Volvo Multi Axle A/C Sleeper I-Shift B11R (2+1)',\n",
       " 'Bharat Benz A/C Sleeper (2+1)']"
      ]
     },
     "execution_count": 116,
     "metadata": {},
     "output_type": "execute_result"
    }
   ],
   "source": [
    "PBus_Type"
   ]
  },
  {
   "cell_type": "markdown",
   "metadata": {},
   "source": [
    "## Private Bus Departing Time"
   ]
  },
  {
   "cell_type": "code",
   "execution_count": 117,
   "metadata": {},
   "outputs": [],
   "source": [
    "Pdeparute = driver.find_elements(By.XPATH,\"//div[@class='dp-time f-19 d-color f-bold']\")"
   ]
  },
  {
   "cell_type": "code",
   "execution_count": 118,
   "metadata": {},
   "outputs": [],
   "source": [
    "PDeparting_Time = []"
   ]
  },
  {
   "cell_type": "code",
   "execution_count": 119,
   "metadata": {},
   "outputs": [],
   "source": [
    "for i in Pdeparute:\n",
    "    PDeparting_Time.append(i.text)"
   ]
  },
  {
   "cell_type": "code",
   "execution_count": 120,
   "metadata": {},
   "outputs": [
    {
     "data": {
      "text/plain": [
       "['20:00',\n",
       " '21:35',\n",
       " '20:30',\n",
       " '21:30',\n",
       " '21:00',\n",
       " '23:15',\n",
       " '21:00',\n",
       " '23:35',\n",
       " '01:20',\n",
       " '22:25',\n",
       " '00:30',\n",
       " '20:40',\n",
       " '19:30',\n",
       " '22:00',\n",
       " '12:00',\n",
       " '23:59',\n",
       " '23:52',\n",
       " '22:00',\n",
       " '21:00',\n",
       " '21:55',\n",
       " '14:45',\n",
       " '23:45',\n",
       " '22:10',\n",
       " '22:40',\n",
       " '20:35',\n",
       " '22:10',\n",
       " '00:20',\n",
       " '23:15']"
      ]
     },
     "execution_count": 120,
     "metadata": {},
     "output_type": "execute_result"
    }
   ],
   "source": [
    "PDeparting_Time"
   ]
  },
  {
   "cell_type": "markdown",
   "metadata": {},
   "source": [
    "## Private Bus Arrival Time"
   ]
  },
  {
   "cell_type": "code",
   "execution_count": 121,
   "metadata": {},
   "outputs": [],
   "source": [
    "Parrival = driver.find_elements(By.XPATH,\"//div[@class='bp-time f-19 d-color disp-Inline']\")"
   ]
  },
  {
   "cell_type": "code",
   "execution_count": 122,
   "metadata": {},
   "outputs": [],
   "source": [
    "PArrival_Time = []"
   ]
  },
  {
   "cell_type": "code",
   "execution_count": 123,
   "metadata": {},
   "outputs": [],
   "source": [
    "for i in Parrival:\n",
    "    PArrival_Time.append(i.text)"
   ]
  },
  {
   "cell_type": "code",
   "execution_count": 124,
   "metadata": {},
   "outputs": [
    {
     "data": {
      "text/plain": [
       "['06:30',\n",
       " '07:40',\n",
       " '07:45',\n",
       " '08:15',\n",
       " '07:30',\n",
       " '07:00',\n",
       " '07:15',\n",
       " '09:40',\n",
       " '10:30',\n",
       " '08:05',\n",
       " '10:10',\n",
       " '07:10',\n",
       " '06:20',\n",
       " '07:10',\n",
       " '21:35',\n",
       " '09:30',\n",
       " '08:00',\n",
       " '07:30',\n",
       " '07:30',\n",
       " '07:05',\n",
       " '01:30',\n",
       " '09:00',\n",
       " '07:05',\n",
       " '07:35',\n",
       " '07:05',\n",
       " '08:40',\n",
       " '09:25',\n",
       " '08:50']"
      ]
     },
     "execution_count": 124,
     "metadata": {},
     "output_type": "execute_result"
    }
   ],
   "source": [
    "PArrival_Time"
   ]
  },
  {
   "cell_type": "markdown",
   "metadata": {},
   "source": [
    "## Private Bus Duration"
   ]
  },
  {
   "cell_type": "code",
   "execution_count": 125,
   "metadata": {},
   "outputs": [],
   "source": [
    "Ptime = driver.find_elements(By.XPATH,\"//div[@class='dur l-color lh-24']\")"
   ]
  },
  {
   "cell_type": "code",
   "execution_count": 126,
   "metadata": {},
   "outputs": [],
   "source": [
    "PDuration = []"
   ]
  },
  {
   "cell_type": "code",
   "execution_count": 127,
   "metadata": {},
   "outputs": [],
   "source": [
    "for i in Ptime:\n",
    "    PDuration.append(i.text)"
   ]
  },
  {
   "cell_type": "code",
   "execution_count": 128,
   "metadata": {},
   "outputs": [
    {
     "data": {
      "text/plain": [
       "['10h 30m',\n",
       " '10h 05m',\n",
       " '11h 15m',\n",
       " '10h 45m',\n",
       " '10h 30m',\n",
       " '07h 45m',\n",
       " '10h 15m',\n",
       " '10h 05m',\n",
       " '09h 10m',\n",
       " '09h 40m',\n",
       " '09h 40m',\n",
       " '10h 30m',\n",
       " '10h 50m',\n",
       " '09h 10m',\n",
       " '09h 35m',\n",
       " '09h 31m',\n",
       " '08h 08m',\n",
       " '09h 30m',\n",
       " '10h 30m',\n",
       " '09h 10m',\n",
       " '10h 45m',\n",
       " '09h 15m',\n",
       " '08h 55m',\n",
       " '08h 55m',\n",
       " '10h 30m',\n",
       " '10h 30m',\n",
       " '09h 05m',\n",
       " '09h 35m']"
      ]
     },
     "execution_count": 128,
     "metadata": {},
     "output_type": "execute_result"
    }
   ],
   "source": [
    "PDuration"
   ]
  },
  {
   "cell_type": "markdown",
   "metadata": {},
   "source": [
    "## Private Star Rating"
   ]
  },
  {
   "cell_type": "code",
   "execution_count": 133,
   "metadata": {},
   "outputs": [],
   "source": [
    "Pstar = driver.find_elements(By.XPATH,\"//div[@class='rating-sec lh-24']\")"
   ]
  },
  {
   "cell_type": "code",
   "execution_count": 134,
   "metadata": {},
   "outputs": [],
   "source": [
    "PStar_rate = []"
   ]
  },
  {
   "cell_type": "code",
   "execution_count": 135,
   "metadata": {},
   "outputs": [],
   "source": [
    "for i in Pstar:\n",
    "    PStar_rate.append(i.text)"
   ]
  },
  {
   "cell_type": "code",
   "execution_count": 136,
   "metadata": {},
   "outputs": [
    {
     "data": {
      "text/plain": [
       "['4.6',\n",
       " '4.6',\n",
       " '4.6',\n",
       " '4.4',\n",
       " '4.4',\n",
       " '4.3',\n",
       " '4.1',\n",
       " '3.8',\n",
       " '3.6',\n",
       " '4.0',\n",
       " '3.5',\n",
       " '3.1',\n",
       " '4.5',\n",
       " '3.1',\n",
       " '2.5',\n",
       " '2.4',\n",
       " '1.6',\n",
       " '2.1',\n",
       " '3.0',\n",
       " '2.8',\n",
       " '2.6',\n",
       " '2.0',\n",
       " '1.9',\n",
       " '2.1',\n",
       " '2.8',\n",
       " '1.1',\n",
       " '3.3',\n",
       " '3.3']"
      ]
     },
     "execution_count": 136,
     "metadata": {},
     "output_type": "execute_result"
    }
   ],
   "source": [
    "PStar_rate"
   ]
  },
  {
   "cell_type": "markdown",
   "metadata": {},
   "source": [
    "## Private Bus fare"
   ]
  },
  {
   "cell_type": "code",
   "execution_count": 141,
   "metadata": {},
   "outputs": [],
   "source": [
    "Pfare = driver.find_elements(By.XPATH,\"//div[@class='fare d-block']\")"
   ]
  },
  {
   "cell_type": "code",
   "execution_count": 142,
   "metadata": {},
   "outputs": [],
   "source": [
    "PBus_Fare = []"
   ]
  },
  {
   "cell_type": "code",
   "execution_count": 143,
   "metadata": {},
   "outputs": [],
   "source": [
    "for i in Pfare:\n",
    "    PBus_Fare.append(i.text)"
   ]
  },
  {
   "cell_type": "code",
   "execution_count": 144,
   "metadata": {},
   "outputs": [
    {
     "data": {
      "text/plain": [
       "['INR 2799',\n",
       " 'INR 3200',\n",
       " 'INR 2799',\n",
       " '2750',\n",
       " 'INR 2799',\n",
       " 'INR 2200',\n",
       " '2750',\n",
       " 'INR 1300',\n",
       " 'INR 1300',\n",
       " 'INR 1300',\n",
       " 'INR 1000',\n",
       " 'INR 1490',\n",
       " 'INR 2799',\n",
       " '759',\n",
       " 'INR 2800',\n",
       " 'INR 1490',\n",
       " 'INR 990',\n",
       " 'INR 2450',\n",
       " 'INR 2150',\n",
       " '854',\n",
       " '1234',\n",
       " 'INR 3000',\n",
       " 'INR 1150',\n",
       " 'INR 1550',\n",
       " 'INR 1490',\n",
       " 'INR 1990',\n",
       " 'INR 1690',\n",
       " 'INR 1590']"
      ]
     },
     "execution_count": 144,
     "metadata": {},
     "output_type": "execute_result"
    }
   ],
   "source": [
    "PBus_Fare"
   ]
  },
  {
   "cell_type": "markdown",
   "metadata": {},
   "source": [
    "## Private seat availability"
   ]
  },
  {
   "cell_type": "code",
   "execution_count": 146,
   "metadata": {},
   "outputs": [],
   "source": [
    "PSeat = driver.find_elements(By.XPATH,\"//div[@class='column-eight w-15 fl']\")"
   ]
  },
  {
   "cell_type": "code",
   "execution_count": 147,
   "metadata": {},
   "outputs": [],
   "source": [
    "Pseats = []"
   ]
  },
  {
   "cell_type": "code",
   "execution_count": 148,
   "metadata": {},
   "outputs": [],
   "source": [
    "for i in PSeat:\n",
    "    Pseats.append(i.text)"
   ]
  },
  {
   "cell_type": "code",
   "execution_count": 149,
   "metadata": {},
   "outputs": [
    {
     "data": {
      "text/plain": [
       "['36 Seats available\\n12 Single',\n",
       " '41 Seats available\\n6 Single',\n",
       " '36 Seats available\\n12 Single',\n",
       " '38 Seats available\\n12 Single',\n",
       " '30 Seats available\\n10 Single',\n",
       " '40 Seats available\\n6 Single',\n",
       " '36 Seats available\\n12 Single',\n",
       " '35 Seats available',\n",
       " '36 Seats available',\n",
       " '36 Seats available',\n",
       " '34 Seats available\\n16 Window',\n",
       " '36 Seats available',\n",
       " '36 Seats available\\n12 Single',\n",
       " '38 Seats available',\n",
       " '42 Seats available\\n17 Window',\n",
       " '46 Seats available',\n",
       " '36 Seats available\\n12 Single',\n",
       " '30 Seats available\\n10 Single',\n",
       " '35 Seats available\\n15 Single',\n",
       " '35 Seats available',\n",
       " '44 Seats available\\n12 Single',\n",
       " '46 Seats available',\n",
       " '21 Seats available\\n5 Single',\n",
       " '16 Seats available\\n4 Single',\n",
       " '49 Seats available',\n",
       " '30 Seats available\\n10 Single',\n",
       " '42 Seats available',\n",
       " '30 Seats available\\n10 Single']"
      ]
     },
     "execution_count": 149,
     "metadata": {},
     "output_type": "execute_result"
    }
   ],
   "source": [
    "Pseats"
   ]
  },
  {
   "cell_type": "code",
   "execution_count": 150,
   "metadata": {},
   "outputs": [],
   "source": [
    "pavailability = []\n",
    "pdump = []\n",
    "\n",
    "for i in Seat_Availability:\n",
    "    avail,seats,status= i.split()\n",
    "    pavailability.append(avail)\n",
    "    pdump.append(f\"{seats}{status}\")"
   ]
  },
  {
   "cell_type": "code",
   "execution_count": 151,
   "metadata": {},
   "outputs": [
    {
     "data": {
      "text/plain": [
       "['30', '31', '21', '38', '30', '33', '31', '32', '31', '32']"
      ]
     },
     "execution_count": 151,
     "metadata": {},
     "output_type": "execute_result"
    }
   ],
   "source": [
    "pavailability"
   ]
  },
  {
   "cell_type": "markdown",
   "metadata": {},
   "source": [
    "## PrivateBus route"
   ]
  },
  {
   "cell_type": "code",
   "execution_count": 152,
   "metadata": {},
   "outputs": [],
   "source": [
    "pstart = driver.find_elements(By.XPATH,\"//div[@class='dp-loc l-color w-wrap f-12 m-top-42']\")\n",
    "pend = driver.find_elements(By.XPATH,\"//div[@class='bp-loc l-color w-wrap f-12 m-top-8']\")"
   ]
  },
  {
   "cell_type": "code",
   "execution_count": 155,
   "metadata": {},
   "outputs": [],
   "source": [
    "proute = []\n",
    "for i in pstart:\n",
    "    for j in pend:\n",
    "        proutes = f\"{i.text} to {j.text}\"\n",
    "        proute.append(proutes)"
   ]
  },
  {
   "cell_type": "code",
   "execution_count": 156,
   "metadata": {},
   "outputs": [
    {
     "data": {
      "text/plain": [
       "['Marathahalli to Lakdikapul',\n",
       " 'Marathahalli to Lakdikapul',\n",
       " 'Marathahalli to Lakdikapul',\n",
       " 'Marathahalli to Lakdikapul',\n",
       " 'Marathahalli to Lakdikapul',\n",
       " 'Marathahalli to Lakdikapul',\n",
       " 'Marathahalli to Lakdikapul',\n",
       " 'Marathahalli to Kukatpally',\n",
       " 'Marathahalli to Kukatpally',\n",
       " 'Marathahalli to Kukatpally',\n",
       " 'Marathahalli to Kukatpally',\n",
       " 'Marathahalli to Lakdikapul',\n",
       " 'Marathahalli to Kukatpally',\n",
       " 'Marathahalli to Lakdikapul',\n",
       " 'Marathahalli to Mehdipatnam',\n",
       " 'Marathahalli to Lakdikapul',\n",
       " 'Marathahalli to Lakdikapul',\n",
       " 'Marathahalli to Lakdikapul',\n",
       " 'Marathahalli to Lakdikapul',\n",
       " 'Marathahalli to Lakdikapul',\n",
       " 'Marathahalli to Mehdipatnam',\n",
       " 'Marathahalli to Lakdikapul',\n",
       " 'Marathahalli to Lakdikapul',\n",
       " 'Marathahalli to Lakdikapul',\n",
       " 'Marathahalli to Lakdikapul',\n",
       " 'Marathahalli to Lakdikapul',\n",
       " 'Marathahalli to Lakdikapul',\n",
       " 'Marathahalli to Lakdikapul',\n",
       " 'Marathahalli to Lakdikapul',\n",
       " 'Marathahalli to Lakdikapul',\n",
       " 'Marathahalli to Lakdikapul',\n",
       " 'Marathahalli to Lakdikapul',\n",
       " 'Marathahalli to Lakdikapul',\n",
       " 'Marathahalli to Lakdikapul',\n",
       " 'Marathahalli to Kukatpally',\n",
       " 'Marathahalli to Kukatpally',\n",
       " 'Marathahalli to Kukatpally',\n",
       " 'Marathahalli to Kukatpally',\n",
       " 'Marathahalli to Lakdikapul',\n",
       " 'Marathahalli to Kukatpally',\n",
       " 'Marathahalli to Lakdikapul',\n",
       " 'Marathahalli to Mehdipatnam',\n",
       " 'Marathahalli to Lakdikapul',\n",
       " 'Marathahalli to Lakdikapul',\n",
       " 'Marathahalli to Lakdikapul',\n",
       " 'Marathahalli to Lakdikapul',\n",
       " 'Marathahalli to Lakdikapul',\n",
       " 'Marathahalli to Mehdipatnam',\n",
       " 'Marathahalli to Lakdikapul',\n",
       " 'Marathahalli to Lakdikapul',\n",
       " 'Marathahalli to Lakdikapul',\n",
       " 'Marathahalli to Lakdikapul',\n",
       " 'Marathahalli to Lakdikapul',\n",
       " 'Marathahalli to Lakdikapul',\n",
       " 'Marathahalli to Lakdikapul',\n",
       " 'Marathahalli to Lakdikapul',\n",
       " 'Marathahalli to Lakdikapul',\n",
       " 'Marathahalli to Lakdikapul',\n",
       " 'Marathahalli to Lakdikapul',\n",
       " 'Marathahalli to Lakdikapul',\n",
       " 'Marathahalli to Lakdikapul',\n",
       " 'Marathahalli to Kukatpally',\n",
       " 'Marathahalli to Kukatpally',\n",
       " 'Marathahalli to Kukatpally',\n",
       " 'Marathahalli to Kukatpally',\n",
       " 'Marathahalli to Lakdikapul',\n",
       " 'Marathahalli to Kukatpally',\n",
       " 'Marathahalli to Lakdikapul',\n",
       " 'Marathahalli to Mehdipatnam',\n",
       " 'Marathahalli to Lakdikapul',\n",
       " 'Marathahalli to Lakdikapul',\n",
       " 'Marathahalli to Lakdikapul',\n",
       " 'Marathahalli to Lakdikapul',\n",
       " 'Marathahalli to Lakdikapul',\n",
       " 'Marathahalli to Mehdipatnam',\n",
       " 'Marathahalli to Lakdikapul',\n",
       " 'Marathahalli to Lakdikapul',\n",
       " 'Marathahalli to Lakdikapul',\n",
       " 'Marathahalli to Lakdikapul',\n",
       " 'Marathahalli to Lakdikapul',\n",
       " 'Marathahalli to Lakdikapul',\n",
       " 'Anand Rao Circle to Lakdikapul',\n",
       " 'Anand Rao Circle to Lakdikapul',\n",
       " 'Anand Rao Circle to Lakdikapul',\n",
       " 'Anand Rao Circle to Lakdikapul',\n",
       " 'Anand Rao Circle to Lakdikapul',\n",
       " 'Anand Rao Circle to Lakdikapul',\n",
       " 'Anand Rao Circle to Lakdikapul',\n",
       " 'Anand Rao Circle to Kukatpally',\n",
       " 'Anand Rao Circle to Kukatpally',\n",
       " 'Anand Rao Circle to Kukatpally',\n",
       " 'Anand Rao Circle to Kukatpally',\n",
       " 'Anand Rao Circle to Lakdikapul',\n",
       " 'Anand Rao Circle to Kukatpally',\n",
       " 'Anand Rao Circle to Lakdikapul',\n",
       " 'Anand Rao Circle to Mehdipatnam',\n",
       " 'Anand Rao Circle to Lakdikapul',\n",
       " 'Anand Rao Circle to Lakdikapul',\n",
       " 'Anand Rao Circle to Lakdikapul',\n",
       " 'Anand Rao Circle to Lakdikapul',\n",
       " 'Anand Rao Circle to Lakdikapul',\n",
       " 'Anand Rao Circle to Mehdipatnam',\n",
       " 'Anand Rao Circle to Lakdikapul',\n",
       " 'Anand Rao Circle to Lakdikapul',\n",
       " 'Anand Rao Circle to Lakdikapul',\n",
       " 'Anand Rao Circle to Lakdikapul',\n",
       " 'Anand Rao Circle to Lakdikapul',\n",
       " 'Anand Rao Circle to Lakdikapul',\n",
       " 'Marathahalli to Lakdikapul',\n",
       " 'Marathahalli to Lakdikapul',\n",
       " 'Marathahalli to Lakdikapul',\n",
       " 'Marathahalli to Lakdikapul',\n",
       " 'Marathahalli to Lakdikapul',\n",
       " 'Marathahalli to Lakdikapul',\n",
       " 'Marathahalli to Lakdikapul',\n",
       " 'Marathahalli to Kukatpally',\n",
       " 'Marathahalli to Kukatpally',\n",
       " 'Marathahalli to Kukatpally',\n",
       " 'Marathahalli to Kukatpally',\n",
       " 'Marathahalli to Lakdikapul',\n",
       " 'Marathahalli to Kukatpally',\n",
       " 'Marathahalli to Lakdikapul',\n",
       " 'Marathahalli to Mehdipatnam',\n",
       " 'Marathahalli to Lakdikapul',\n",
       " 'Marathahalli to Lakdikapul',\n",
       " 'Marathahalli to Lakdikapul',\n",
       " 'Marathahalli to Lakdikapul',\n",
       " 'Marathahalli to Lakdikapul',\n",
       " 'Marathahalli to Mehdipatnam',\n",
       " 'Marathahalli to Lakdikapul',\n",
       " 'Marathahalli to Lakdikapul',\n",
       " 'Marathahalli to Lakdikapul',\n",
       " 'Marathahalli to Lakdikapul',\n",
       " 'Marathahalli to Lakdikapul',\n",
       " 'Marathahalli to Lakdikapul',\n",
       " 'Anand Rao Circle to Lakdikapul',\n",
       " 'Anand Rao Circle to Lakdikapul',\n",
       " 'Anand Rao Circle to Lakdikapul',\n",
       " 'Anand Rao Circle to Lakdikapul',\n",
       " 'Anand Rao Circle to Lakdikapul',\n",
       " 'Anand Rao Circle to Lakdikapul',\n",
       " 'Anand Rao Circle to Lakdikapul',\n",
       " 'Anand Rao Circle to Kukatpally',\n",
       " 'Anand Rao Circle to Kukatpally',\n",
       " 'Anand Rao Circle to Kukatpally',\n",
       " 'Anand Rao Circle to Kukatpally',\n",
       " 'Anand Rao Circle to Lakdikapul',\n",
       " 'Anand Rao Circle to Kukatpally',\n",
       " 'Anand Rao Circle to Lakdikapul',\n",
       " 'Anand Rao Circle to Mehdipatnam',\n",
       " 'Anand Rao Circle to Lakdikapul',\n",
       " 'Anand Rao Circle to Lakdikapul',\n",
       " 'Anand Rao Circle to Lakdikapul',\n",
       " 'Anand Rao Circle to Lakdikapul',\n",
       " 'Anand Rao Circle to Lakdikapul',\n",
       " 'Anand Rao Circle to Mehdipatnam',\n",
       " 'Anand Rao Circle to Lakdikapul',\n",
       " 'Anand Rao Circle to Lakdikapul',\n",
       " 'Anand Rao Circle to Lakdikapul',\n",
       " 'Anand Rao Circle to Lakdikapul',\n",
       " 'Anand Rao Circle to Lakdikapul',\n",
       " 'Anand Rao Circle to Lakdikapul',\n",
       " 'Marathahalli to Lakdikapul',\n",
       " 'Marathahalli to Lakdikapul',\n",
       " 'Marathahalli to Lakdikapul',\n",
       " 'Marathahalli to Lakdikapul',\n",
       " 'Marathahalli to Lakdikapul',\n",
       " 'Marathahalli to Lakdikapul',\n",
       " 'Marathahalli to Lakdikapul',\n",
       " 'Marathahalli to Kukatpally',\n",
       " 'Marathahalli to Kukatpally',\n",
       " 'Marathahalli to Kukatpally',\n",
       " 'Marathahalli to Kukatpally',\n",
       " 'Marathahalli to Lakdikapul',\n",
       " 'Marathahalli to Kukatpally',\n",
       " 'Marathahalli to Lakdikapul',\n",
       " 'Marathahalli to Mehdipatnam',\n",
       " 'Marathahalli to Lakdikapul',\n",
       " 'Marathahalli to Lakdikapul',\n",
       " 'Marathahalli to Lakdikapul',\n",
       " 'Marathahalli to Lakdikapul',\n",
       " 'Marathahalli to Lakdikapul',\n",
       " 'Marathahalli to Mehdipatnam',\n",
       " 'Marathahalli to Lakdikapul',\n",
       " 'Marathahalli to Lakdikapul',\n",
       " 'Marathahalli to Lakdikapul',\n",
       " 'Marathahalli to Lakdikapul',\n",
       " 'Marathahalli to Lakdikapul',\n",
       " 'Marathahalli to Lakdikapul',\n",
       " 'Anand Rao Circle to Lakdikapul',\n",
       " 'Anand Rao Circle to Lakdikapul',\n",
       " 'Anand Rao Circle to Lakdikapul',\n",
       " 'Anand Rao Circle to Lakdikapul',\n",
       " 'Anand Rao Circle to Lakdikapul',\n",
       " 'Anand Rao Circle to Lakdikapul',\n",
       " 'Anand Rao Circle to Lakdikapul',\n",
       " 'Anand Rao Circle to Kukatpally',\n",
       " 'Anand Rao Circle to Kukatpally',\n",
       " 'Anand Rao Circle to Kukatpally',\n",
       " 'Anand Rao Circle to Kukatpally',\n",
       " 'Anand Rao Circle to Lakdikapul',\n",
       " 'Anand Rao Circle to Kukatpally',\n",
       " 'Anand Rao Circle to Lakdikapul',\n",
       " 'Anand Rao Circle to Mehdipatnam',\n",
       " 'Anand Rao Circle to Lakdikapul',\n",
       " 'Anand Rao Circle to Lakdikapul',\n",
       " 'Anand Rao Circle to Lakdikapul',\n",
       " 'Anand Rao Circle to Lakdikapul',\n",
       " 'Anand Rao Circle to Lakdikapul',\n",
       " 'Anand Rao Circle to Mehdipatnam',\n",
       " 'Anand Rao Circle to Lakdikapul',\n",
       " 'Anand Rao Circle to Lakdikapul',\n",
       " 'Anand Rao Circle to Lakdikapul',\n",
       " 'Anand Rao Circle to Lakdikapul',\n",
       " 'Anand Rao Circle to Lakdikapul',\n",
       " 'Anand Rao Circle to Lakdikapul',\n",
       " 'Anand Rao Circle to Lakdikapul',\n",
       " 'Anand Rao Circle to Lakdikapul',\n",
       " 'Anand Rao Circle to Lakdikapul',\n",
       " 'Anand Rao Circle to Lakdikapul',\n",
       " 'Anand Rao Circle to Lakdikapul',\n",
       " 'Anand Rao Circle to Lakdikapul',\n",
       " 'Anand Rao Circle to Lakdikapul',\n",
       " 'Anand Rao Circle to Kukatpally',\n",
       " 'Anand Rao Circle to Kukatpally',\n",
       " 'Anand Rao Circle to Kukatpally',\n",
       " 'Anand Rao Circle to Kukatpally',\n",
       " 'Anand Rao Circle to Lakdikapul',\n",
       " 'Anand Rao Circle to Kukatpally',\n",
       " 'Anand Rao Circle to Lakdikapul',\n",
       " 'Anand Rao Circle to Mehdipatnam',\n",
       " 'Anand Rao Circle to Lakdikapul',\n",
       " 'Anand Rao Circle to Lakdikapul',\n",
       " 'Anand Rao Circle to Lakdikapul',\n",
       " 'Anand Rao Circle to Lakdikapul',\n",
       " 'Anand Rao Circle to Lakdikapul',\n",
       " 'Anand Rao Circle to Mehdipatnam',\n",
       " 'Anand Rao Circle to Lakdikapul',\n",
       " 'Anand Rao Circle to Lakdikapul',\n",
       " 'Anand Rao Circle to Lakdikapul',\n",
       " 'Anand Rao Circle to Lakdikapul',\n",
       " 'Anand Rao Circle to Lakdikapul',\n",
       " 'Anand Rao Circle to Lakdikapul',\n",
       " 'Anand Rao Circle to Lakdikapul',\n",
       " 'Anand Rao Circle to Lakdikapul',\n",
       " 'Anand Rao Circle to Lakdikapul',\n",
       " 'Anand Rao Circle to Lakdikapul',\n",
       " 'Anand Rao Circle to Lakdikapul',\n",
       " 'Anand Rao Circle to Lakdikapul',\n",
       " 'Anand Rao Circle to Lakdikapul',\n",
       " 'Anand Rao Circle to Kukatpally',\n",
       " 'Anand Rao Circle to Kukatpally',\n",
       " 'Anand Rao Circle to Kukatpally',\n",
       " 'Anand Rao Circle to Kukatpally',\n",
       " 'Anand Rao Circle to Lakdikapul',\n",
       " 'Anand Rao Circle to Kukatpally',\n",
       " 'Anand Rao Circle to Lakdikapul',\n",
       " 'Anand Rao Circle to Mehdipatnam',\n",
       " 'Anand Rao Circle to Lakdikapul',\n",
       " 'Anand Rao Circle to Lakdikapul',\n",
       " 'Anand Rao Circle to Lakdikapul',\n",
       " 'Anand Rao Circle to Lakdikapul',\n",
       " 'Anand Rao Circle to Lakdikapul',\n",
       " 'Anand Rao Circle to Mehdipatnam',\n",
       " 'Anand Rao Circle to Lakdikapul',\n",
       " 'Anand Rao Circle to Lakdikapul',\n",
       " 'Anand Rao Circle to Lakdikapul',\n",
       " 'Anand Rao Circle to Lakdikapul',\n",
       " 'Anand Rao Circle to Lakdikapul',\n",
       " 'Anand Rao Circle to Lakdikapul',\n",
       " 'Marathahalli to Lakdikapul',\n",
       " 'Marathahalli to Lakdikapul',\n",
       " 'Marathahalli to Lakdikapul',\n",
       " 'Marathahalli to Lakdikapul',\n",
       " 'Marathahalli to Lakdikapul',\n",
       " 'Marathahalli to Lakdikapul',\n",
       " 'Marathahalli to Lakdikapul',\n",
       " 'Marathahalli to Kukatpally',\n",
       " 'Marathahalli to Kukatpally',\n",
       " 'Marathahalli to Kukatpally',\n",
       " 'Marathahalli to Kukatpally',\n",
       " 'Marathahalli to Lakdikapul',\n",
       " 'Marathahalli to Kukatpally',\n",
       " 'Marathahalli to Lakdikapul',\n",
       " 'Marathahalli to Mehdipatnam',\n",
       " 'Marathahalli to Lakdikapul',\n",
       " 'Marathahalli to Lakdikapul',\n",
       " 'Marathahalli to Lakdikapul',\n",
       " 'Marathahalli to Lakdikapul',\n",
       " 'Marathahalli to Lakdikapul',\n",
       " 'Marathahalli to Mehdipatnam',\n",
       " 'Marathahalli to Lakdikapul',\n",
       " 'Marathahalli to Lakdikapul',\n",
       " 'Marathahalli to Lakdikapul',\n",
       " 'Marathahalli to Lakdikapul',\n",
       " 'Marathahalli to Lakdikapul',\n",
       " 'Marathahalli to Lakdikapul',\n",
       " 'Anand Rao Circle to Lakdikapul',\n",
       " 'Anand Rao Circle to Lakdikapul',\n",
       " 'Anand Rao Circle to Lakdikapul',\n",
       " 'Anand Rao Circle to Lakdikapul',\n",
       " 'Anand Rao Circle to Lakdikapul',\n",
       " 'Anand Rao Circle to Lakdikapul',\n",
       " 'Anand Rao Circle to Lakdikapul',\n",
       " 'Anand Rao Circle to Kukatpally',\n",
       " 'Anand Rao Circle to Kukatpally',\n",
       " 'Anand Rao Circle to Kukatpally',\n",
       " 'Anand Rao Circle to Kukatpally',\n",
       " 'Anand Rao Circle to Lakdikapul',\n",
       " 'Anand Rao Circle to Kukatpally',\n",
       " 'Anand Rao Circle to Lakdikapul',\n",
       " 'Anand Rao Circle to Mehdipatnam',\n",
       " 'Anand Rao Circle to Lakdikapul',\n",
       " 'Anand Rao Circle to Lakdikapul',\n",
       " 'Anand Rao Circle to Lakdikapul',\n",
       " 'Anand Rao Circle to Lakdikapul',\n",
       " 'Anand Rao Circle to Lakdikapul',\n",
       " 'Anand Rao Circle to Mehdipatnam',\n",
       " 'Anand Rao Circle to Lakdikapul',\n",
       " 'Anand Rao Circle to Lakdikapul',\n",
       " 'Anand Rao Circle to Lakdikapul',\n",
       " 'Anand Rao Circle to Lakdikapul',\n",
       " 'Anand Rao Circle to Lakdikapul',\n",
       " 'Anand Rao Circle to Lakdikapul',\n",
       " 'Anand Rao Circle to Lakdikapul',\n",
       " 'Anand Rao Circle to Lakdikapul',\n",
       " 'Anand Rao Circle to Lakdikapul',\n",
       " 'Anand Rao Circle to Lakdikapul',\n",
       " 'Anand Rao Circle to Lakdikapul',\n",
       " 'Anand Rao Circle to Lakdikapul',\n",
       " 'Anand Rao Circle to Lakdikapul',\n",
       " 'Anand Rao Circle to Kukatpally',\n",
       " 'Anand Rao Circle to Kukatpally',\n",
       " 'Anand Rao Circle to Kukatpally',\n",
       " 'Anand Rao Circle to Kukatpally',\n",
       " 'Anand Rao Circle to Lakdikapul',\n",
       " 'Anand Rao Circle to Kukatpally',\n",
       " 'Anand Rao Circle to Lakdikapul',\n",
       " 'Anand Rao Circle to Mehdipatnam',\n",
       " 'Anand Rao Circle to Lakdikapul',\n",
       " 'Anand Rao Circle to Lakdikapul',\n",
       " 'Anand Rao Circle to Lakdikapul',\n",
       " 'Anand Rao Circle to Lakdikapul',\n",
       " 'Anand Rao Circle to Lakdikapul',\n",
       " 'Anand Rao Circle to Mehdipatnam',\n",
       " 'Anand Rao Circle to Lakdikapul',\n",
       " 'Anand Rao Circle to Lakdikapul',\n",
       " 'Anand Rao Circle to Lakdikapul',\n",
       " 'Anand Rao Circle to Lakdikapul',\n",
       " 'Anand Rao Circle to Lakdikapul',\n",
       " 'Anand Rao Circle to Lakdikapul',\n",
       " 'Anand Rao Circle to Lakdikapul',\n",
       " 'Anand Rao Circle to Lakdikapul',\n",
       " 'Anand Rao Circle to Lakdikapul',\n",
       " 'Anand Rao Circle to Lakdikapul',\n",
       " 'Anand Rao Circle to Lakdikapul',\n",
       " 'Anand Rao Circle to Lakdikapul',\n",
       " 'Anand Rao Circle to Lakdikapul',\n",
       " 'Anand Rao Circle to Kukatpally',\n",
       " 'Anand Rao Circle to Kukatpally',\n",
       " 'Anand Rao Circle to Kukatpally',\n",
       " 'Anand Rao Circle to Kukatpally',\n",
       " 'Anand Rao Circle to Lakdikapul',\n",
       " 'Anand Rao Circle to Kukatpally',\n",
       " 'Anand Rao Circle to Lakdikapul',\n",
       " 'Anand Rao Circle to Mehdipatnam',\n",
       " 'Anand Rao Circle to Lakdikapul',\n",
       " 'Anand Rao Circle to Lakdikapul',\n",
       " 'Anand Rao Circle to Lakdikapul',\n",
       " 'Anand Rao Circle to Lakdikapul',\n",
       " 'Anand Rao Circle to Lakdikapul',\n",
       " 'Anand Rao Circle to Mehdipatnam',\n",
       " 'Anand Rao Circle to Lakdikapul',\n",
       " 'Anand Rao Circle to Lakdikapul',\n",
       " 'Anand Rao Circle to Lakdikapul',\n",
       " 'Anand Rao Circle to Lakdikapul',\n",
       " 'Anand Rao Circle to Lakdikapul',\n",
       " 'Anand Rao Circle to Lakdikapul',\n",
       " 'Anand Rao Circle to Lakdikapul',\n",
       " 'Anand Rao Circle to Lakdikapul',\n",
       " 'Anand Rao Circle to Lakdikapul',\n",
       " 'Anand Rao Circle to Lakdikapul',\n",
       " 'Anand Rao Circle to Lakdikapul',\n",
       " 'Anand Rao Circle to Lakdikapul',\n",
       " 'Anand Rao Circle to Lakdikapul',\n",
       " 'Anand Rao Circle to Kukatpally',\n",
       " 'Anand Rao Circle to Kukatpally',\n",
       " 'Anand Rao Circle to Kukatpally',\n",
       " 'Anand Rao Circle to Kukatpally',\n",
       " 'Anand Rao Circle to Lakdikapul',\n",
       " 'Anand Rao Circle to Kukatpally',\n",
       " 'Anand Rao Circle to Lakdikapul',\n",
       " 'Anand Rao Circle to Mehdipatnam',\n",
       " 'Anand Rao Circle to Lakdikapul',\n",
       " 'Anand Rao Circle to Lakdikapul',\n",
       " 'Anand Rao Circle to Lakdikapul',\n",
       " 'Anand Rao Circle to Lakdikapul',\n",
       " 'Anand Rao Circle to Lakdikapul',\n",
       " 'Anand Rao Circle to Mehdipatnam',\n",
       " 'Anand Rao Circle to Lakdikapul',\n",
       " 'Anand Rao Circle to Lakdikapul',\n",
       " 'Anand Rao Circle to Lakdikapul',\n",
       " 'Anand Rao Circle to Lakdikapul',\n",
       " 'Anand Rao Circle to Lakdikapul',\n",
       " 'Anand Rao Circle to Lakdikapul',\n",
       " 'Anand Rao Circle to Lakdikapul',\n",
       " 'Anand Rao Circle to Lakdikapul',\n",
       " 'Anand Rao Circle to Lakdikapul',\n",
       " 'Anand Rao Circle to Lakdikapul',\n",
       " 'Anand Rao Circle to Lakdikapul',\n",
       " 'Anand Rao Circle to Lakdikapul',\n",
       " 'Anand Rao Circle to Lakdikapul',\n",
       " 'Anand Rao Circle to Kukatpally',\n",
       " 'Anand Rao Circle to Kukatpally',\n",
       " 'Anand Rao Circle to Kukatpally',\n",
       " 'Anand Rao Circle to Kukatpally',\n",
       " 'Anand Rao Circle to Lakdikapul',\n",
       " 'Anand Rao Circle to Kukatpally',\n",
       " 'Anand Rao Circle to Lakdikapul',\n",
       " 'Anand Rao Circle to Mehdipatnam',\n",
       " 'Anand Rao Circle to Lakdikapul',\n",
       " 'Anand Rao Circle to Lakdikapul',\n",
       " 'Anand Rao Circle to Lakdikapul',\n",
       " 'Anand Rao Circle to Lakdikapul',\n",
       " 'Anand Rao Circle to Lakdikapul',\n",
       " 'Anand Rao Circle to Mehdipatnam',\n",
       " 'Anand Rao Circle to Lakdikapul',\n",
       " 'Anand Rao Circle to Lakdikapul',\n",
       " 'Anand Rao Circle to Lakdikapul',\n",
       " 'Anand Rao Circle to Lakdikapul',\n",
       " 'Anand Rao Circle to Lakdikapul',\n",
       " 'Anand Rao Circle to Lakdikapul',\n",
       " 'Anand Rao Circle to Lakdikapul',\n",
       " 'Anand Rao Circle to Lakdikapul',\n",
       " 'Anand Rao Circle to Lakdikapul',\n",
       " 'Anand Rao Circle to Lakdikapul',\n",
       " 'Anand Rao Circle to Lakdikapul',\n",
       " 'Anand Rao Circle to Lakdikapul',\n",
       " 'Anand Rao Circle to Lakdikapul',\n",
       " 'Anand Rao Circle to Kukatpally',\n",
       " 'Anand Rao Circle to Kukatpally',\n",
       " 'Anand Rao Circle to Kukatpally',\n",
       " 'Anand Rao Circle to Kukatpally',\n",
       " 'Anand Rao Circle to Lakdikapul',\n",
       " 'Anand Rao Circle to Kukatpally',\n",
       " 'Anand Rao Circle to Lakdikapul',\n",
       " 'Anand Rao Circle to Mehdipatnam',\n",
       " 'Anand Rao Circle to Lakdikapul',\n",
       " 'Anand Rao Circle to Lakdikapul',\n",
       " 'Anand Rao Circle to Lakdikapul',\n",
       " 'Anand Rao Circle to Lakdikapul',\n",
       " 'Anand Rao Circle to Lakdikapul',\n",
       " 'Anand Rao Circle to Mehdipatnam',\n",
       " 'Anand Rao Circle to Lakdikapul',\n",
       " 'Anand Rao Circle to Lakdikapul',\n",
       " 'Anand Rao Circle to Lakdikapul',\n",
       " 'Anand Rao Circle to Lakdikapul',\n",
       " 'Anand Rao Circle to Lakdikapul',\n",
       " 'Anand Rao Circle to Lakdikapul',\n",
       " 'Anand Rao Circle to Lakdikapul',\n",
       " 'Anand Rao Circle to Lakdikapul',\n",
       " 'Anand Rao Circle to Lakdikapul',\n",
       " 'Anand Rao Circle to Lakdikapul',\n",
       " 'Anand Rao Circle to Lakdikapul',\n",
       " 'Anand Rao Circle to Lakdikapul',\n",
       " 'Anand Rao Circle to Lakdikapul',\n",
       " 'Anand Rao Circle to Kukatpally',\n",
       " 'Anand Rao Circle to Kukatpally',\n",
       " 'Anand Rao Circle to Kukatpally',\n",
       " 'Anand Rao Circle to Kukatpally',\n",
       " 'Anand Rao Circle to Lakdikapul',\n",
       " 'Anand Rao Circle to Kukatpally',\n",
       " 'Anand Rao Circle to Lakdikapul',\n",
       " 'Anand Rao Circle to Mehdipatnam',\n",
       " 'Anand Rao Circle to Lakdikapul',\n",
       " 'Anand Rao Circle to Lakdikapul',\n",
       " 'Anand Rao Circle to Lakdikapul',\n",
       " 'Anand Rao Circle to Lakdikapul',\n",
       " 'Anand Rao Circle to Lakdikapul',\n",
       " 'Anand Rao Circle to Mehdipatnam',\n",
       " 'Anand Rao Circle to Lakdikapul',\n",
       " 'Anand Rao Circle to Lakdikapul',\n",
       " 'Anand Rao Circle to Lakdikapul',\n",
       " 'Anand Rao Circle to Lakdikapul',\n",
       " 'Anand Rao Circle to Lakdikapul',\n",
       " 'Anand Rao Circle to Lakdikapul',\n",
       " 'Anand Rao Circle to Lakdikapul',\n",
       " 'Anand Rao Circle to Lakdikapul',\n",
       " 'Anand Rao Circle to Lakdikapul',\n",
       " 'Anand Rao Circle to Lakdikapul',\n",
       " 'Anand Rao Circle to Lakdikapul',\n",
       " 'Anand Rao Circle to Lakdikapul',\n",
       " 'Anand Rao Circle to Lakdikapul',\n",
       " 'Anand Rao Circle to Kukatpally',\n",
       " 'Anand Rao Circle to Kukatpally',\n",
       " 'Anand Rao Circle to Kukatpally',\n",
       " 'Anand Rao Circle to Kukatpally',\n",
       " 'Anand Rao Circle to Lakdikapul',\n",
       " 'Anand Rao Circle to Kukatpally',\n",
       " 'Anand Rao Circle to Lakdikapul',\n",
       " 'Anand Rao Circle to Mehdipatnam',\n",
       " 'Anand Rao Circle to Lakdikapul',\n",
       " 'Anand Rao Circle to Lakdikapul',\n",
       " 'Anand Rao Circle to Lakdikapul',\n",
       " 'Anand Rao Circle to Lakdikapul',\n",
       " 'Anand Rao Circle to Lakdikapul',\n",
       " 'Anand Rao Circle to Mehdipatnam',\n",
       " 'Anand Rao Circle to Lakdikapul',\n",
       " 'Anand Rao Circle to Lakdikapul',\n",
       " 'Anand Rao Circle to Lakdikapul',\n",
       " 'Anand Rao Circle to Lakdikapul',\n",
       " 'Anand Rao Circle to Lakdikapul',\n",
       " 'Anand Rao Circle to Lakdikapul',\n",
       " 'Anand Rao Circle to Lakdikapul',\n",
       " 'Anand Rao Circle to Lakdikapul',\n",
       " 'Anand Rao Circle to Lakdikapul',\n",
       " 'Anand Rao Circle to Lakdikapul',\n",
       " 'Anand Rao Circle to Lakdikapul',\n",
       " 'Anand Rao Circle to Lakdikapul',\n",
       " 'Anand Rao Circle to Lakdikapul',\n",
       " 'Anand Rao Circle to Kukatpally',\n",
       " 'Anand Rao Circle to Kukatpally',\n",
       " 'Anand Rao Circle to Kukatpally',\n",
       " 'Anand Rao Circle to Kukatpally',\n",
       " 'Anand Rao Circle to Lakdikapul',\n",
       " 'Anand Rao Circle to Kukatpally',\n",
       " 'Anand Rao Circle to Lakdikapul',\n",
       " 'Anand Rao Circle to Mehdipatnam',\n",
       " 'Anand Rao Circle to Lakdikapul',\n",
       " 'Anand Rao Circle to Lakdikapul',\n",
       " 'Anand Rao Circle to Lakdikapul',\n",
       " 'Anand Rao Circle to Lakdikapul',\n",
       " 'Anand Rao Circle to Lakdikapul',\n",
       " 'Anand Rao Circle to Mehdipatnam',\n",
       " 'Anand Rao Circle to Lakdikapul',\n",
       " 'Anand Rao Circle to Lakdikapul',\n",
       " 'Anand Rao Circle to Lakdikapul',\n",
       " 'Anand Rao Circle to Lakdikapul',\n",
       " 'Anand Rao Circle to Lakdikapul',\n",
       " 'Anand Rao Circle to Lakdikapul',\n",
       " 'Anand Rao Circle to Lakdikapul',\n",
       " 'Anand Rao Circle to Lakdikapul',\n",
       " 'Anand Rao Circle to Lakdikapul',\n",
       " 'Anand Rao Circle to Lakdikapul',\n",
       " 'Anand Rao Circle to Lakdikapul',\n",
       " 'Anand Rao Circle to Lakdikapul',\n",
       " 'Anand Rao Circle to Lakdikapul',\n",
       " 'Anand Rao Circle to Kukatpally',\n",
       " 'Anand Rao Circle to Kukatpally',\n",
       " 'Anand Rao Circle to Kukatpally',\n",
       " 'Anand Rao Circle to Kukatpally',\n",
       " 'Anand Rao Circle to Lakdikapul',\n",
       " 'Anand Rao Circle to Kukatpally',\n",
       " 'Anand Rao Circle to Lakdikapul',\n",
       " 'Anand Rao Circle to Mehdipatnam',\n",
       " 'Anand Rao Circle to Lakdikapul',\n",
       " 'Anand Rao Circle to Lakdikapul',\n",
       " 'Anand Rao Circle to Lakdikapul',\n",
       " 'Anand Rao Circle to Lakdikapul',\n",
       " 'Anand Rao Circle to Lakdikapul',\n",
       " 'Anand Rao Circle to Mehdipatnam',\n",
       " 'Anand Rao Circle to Lakdikapul',\n",
       " 'Anand Rao Circle to Lakdikapul',\n",
       " 'Anand Rao Circle to Lakdikapul',\n",
       " 'Anand Rao Circle to Lakdikapul',\n",
       " 'Anand Rao Circle to Lakdikapul',\n",
       " 'Anand Rao Circle to Lakdikapul',\n",
       " 'Anand Rao Circle to Lakdikapul',\n",
       " 'Anand Rao Circle to Lakdikapul',\n",
       " 'Anand Rao Circle to Lakdikapul',\n",
       " 'Anand Rao Circle to Lakdikapul',\n",
       " 'Anand Rao Circle to Lakdikapul',\n",
       " 'Anand Rao Circle to Lakdikapul',\n",
       " 'Anand Rao Circle to Lakdikapul',\n",
       " 'Anand Rao Circle to Kukatpally',\n",
       " 'Anand Rao Circle to Kukatpally',\n",
       " 'Anand Rao Circle to Kukatpally',\n",
       " 'Anand Rao Circle to Kukatpally',\n",
       " 'Anand Rao Circle to Lakdikapul',\n",
       " 'Anand Rao Circle to Kukatpally',\n",
       " 'Anand Rao Circle to Lakdikapul',\n",
       " 'Anand Rao Circle to Mehdipatnam',\n",
       " 'Anand Rao Circle to Lakdikapul',\n",
       " 'Anand Rao Circle to Lakdikapul',\n",
       " 'Anand Rao Circle to Lakdikapul',\n",
       " 'Anand Rao Circle to Lakdikapul',\n",
       " 'Anand Rao Circle to Lakdikapul',\n",
       " 'Anand Rao Circle to Mehdipatnam',\n",
       " 'Anand Rao Circle to Lakdikapul',\n",
       " 'Anand Rao Circle to Lakdikapul',\n",
       " 'Anand Rao Circle to Lakdikapul',\n",
       " 'Anand Rao Circle to Lakdikapul',\n",
       " 'Anand Rao Circle to Lakdikapul',\n",
       " 'Anand Rao Circle to Lakdikapul',\n",
       " 'Anand Rao Circle to Lakdikapul',\n",
       " 'Anand Rao Circle to Lakdikapul',\n",
       " 'Anand Rao Circle to Lakdikapul',\n",
       " 'Anand Rao Circle to Lakdikapul',\n",
       " 'Anand Rao Circle to Lakdikapul',\n",
       " 'Anand Rao Circle to Lakdikapul',\n",
       " 'Anand Rao Circle to Lakdikapul',\n",
       " 'Anand Rao Circle to Kukatpally',\n",
       " 'Anand Rao Circle to Kukatpally',\n",
       " 'Anand Rao Circle to Kukatpally',\n",
       " 'Anand Rao Circle to Kukatpally',\n",
       " 'Anand Rao Circle to Lakdikapul',\n",
       " 'Anand Rao Circle to Kukatpally',\n",
       " 'Anand Rao Circle to Lakdikapul',\n",
       " 'Anand Rao Circle to Mehdipatnam',\n",
       " 'Anand Rao Circle to Lakdikapul',\n",
       " 'Anand Rao Circle to Lakdikapul',\n",
       " 'Anand Rao Circle to Lakdikapul',\n",
       " 'Anand Rao Circle to Lakdikapul',\n",
       " 'Anand Rao Circle to Lakdikapul',\n",
       " 'Anand Rao Circle to Mehdipatnam',\n",
       " 'Anand Rao Circle to Lakdikapul',\n",
       " 'Anand Rao Circle to Lakdikapul',\n",
       " 'Anand Rao Circle to Lakdikapul',\n",
       " 'Anand Rao Circle to Lakdikapul',\n",
       " 'Anand Rao Circle to Lakdikapul',\n",
       " 'Anand Rao Circle to Lakdikapul',\n",
       " 'Anand Rao Circle to Lakdikapul',\n",
       " 'Anand Rao Circle to Lakdikapul',\n",
       " 'Anand Rao Circle to Lakdikapul',\n",
       " 'Anand Rao Circle to Lakdikapul',\n",
       " 'Anand Rao Circle to Lakdikapul',\n",
       " 'Anand Rao Circle to Lakdikapul',\n",
       " 'Anand Rao Circle to Lakdikapul',\n",
       " 'Anand Rao Circle to Kukatpally',\n",
       " 'Anand Rao Circle to Kukatpally',\n",
       " 'Anand Rao Circle to Kukatpally',\n",
       " 'Anand Rao Circle to Kukatpally',\n",
       " 'Anand Rao Circle to Lakdikapul',\n",
       " 'Anand Rao Circle to Kukatpally',\n",
       " 'Anand Rao Circle to Lakdikapul',\n",
       " 'Anand Rao Circle to Mehdipatnam',\n",
       " 'Anand Rao Circle to Lakdikapul',\n",
       " 'Anand Rao Circle to Lakdikapul',\n",
       " 'Anand Rao Circle to Lakdikapul',\n",
       " 'Anand Rao Circle to Lakdikapul',\n",
       " 'Anand Rao Circle to Lakdikapul',\n",
       " 'Anand Rao Circle to Mehdipatnam',\n",
       " 'Anand Rao Circle to Lakdikapul',\n",
       " 'Anand Rao Circle to Lakdikapul',\n",
       " 'Anand Rao Circle to Lakdikapul',\n",
       " 'Anand Rao Circle to Lakdikapul',\n",
       " 'Anand Rao Circle to Lakdikapul',\n",
       " 'Anand Rao Circle to Lakdikapul']"
      ]
     },
     "execution_count": 156,
     "metadata": {},
     "output_type": "execute_result"
    }
   ],
   "source": [
    "proute"
   ]
  },
  {
   "cell_type": "code",
   "execution_count": 162,
   "metadata": {},
   "outputs": [],
   "source": [
    "proute_link = []\n",
    "for i in range(10):\n",
    "    i = \"https://www.redbus.in/bus-tickets/bangalore-to-hyderabad?fromCityName=Bangalore&fromCityId=122&srcCountry=IND&toCityName=Hyderabad&toCityId=124&destCountry=IND&onward=10-Oct-2024&opId=0&busType=Any\"\n",
    "    proute_link.append(i)"
   ]
  },
  {
   "cell_type": "code",
   "execution_count": 163,
   "metadata": {},
   "outputs": [
    {
     "data": {
      "text/plain": [
       "['https://www.redbus.in/bus-tickets/bangalore-to-hyderabad?fromCityName=Bangalore&fromCityId=122&srcCountry=IND&toCityName=Hyderabad&toCityId=124&destCountry=IND&onward=10-Oct-2024&opId=0&busType=Any',\n",
       " 'https://www.redbus.in/bus-tickets/bangalore-to-hyderabad?fromCityName=Bangalore&fromCityId=122&srcCountry=IND&toCityName=Hyderabad&toCityId=124&destCountry=IND&onward=10-Oct-2024&opId=0&busType=Any',\n",
       " 'https://www.redbus.in/bus-tickets/bangalore-to-hyderabad?fromCityName=Bangalore&fromCityId=122&srcCountry=IND&toCityName=Hyderabad&toCityId=124&destCountry=IND&onward=10-Oct-2024&opId=0&busType=Any',\n",
       " 'https://www.redbus.in/bus-tickets/bangalore-to-hyderabad?fromCityName=Bangalore&fromCityId=122&srcCountry=IND&toCityName=Hyderabad&toCityId=124&destCountry=IND&onward=10-Oct-2024&opId=0&busType=Any',\n",
       " 'https://www.redbus.in/bus-tickets/bangalore-to-hyderabad?fromCityName=Bangalore&fromCityId=122&srcCountry=IND&toCityName=Hyderabad&toCityId=124&destCountry=IND&onward=10-Oct-2024&opId=0&busType=Any',\n",
       " 'https://www.redbus.in/bus-tickets/bangalore-to-hyderabad?fromCityName=Bangalore&fromCityId=122&srcCountry=IND&toCityName=Hyderabad&toCityId=124&destCountry=IND&onward=10-Oct-2024&opId=0&busType=Any',\n",
       " 'https://www.redbus.in/bus-tickets/bangalore-to-hyderabad?fromCityName=Bangalore&fromCityId=122&srcCountry=IND&toCityName=Hyderabad&toCityId=124&destCountry=IND&onward=10-Oct-2024&opId=0&busType=Any',\n",
       " 'https://www.redbus.in/bus-tickets/bangalore-to-hyderabad?fromCityName=Bangalore&fromCityId=122&srcCountry=IND&toCityName=Hyderabad&toCityId=124&destCountry=IND&onward=10-Oct-2024&opId=0&busType=Any',\n",
       " 'https://www.redbus.in/bus-tickets/bangalore-to-hyderabad?fromCityName=Bangalore&fromCityId=122&srcCountry=IND&toCityName=Hyderabad&toCityId=124&destCountry=IND&onward=10-Oct-2024&opId=0&busType=Any',\n",
       " 'https://www.redbus.in/bus-tickets/bangalore-to-hyderabad?fromCityName=Bangalore&fromCityId=122&srcCountry=IND&toCityName=Hyderabad&toCityId=124&destCountry=IND&onward=10-Oct-2024&opId=0&busType=Any']"
      ]
     },
     "execution_count": 163,
     "metadata": {},
     "output_type": "execute_result"
    }
   ],
   "source": [
    "proute_link"
   ]
  },
  {
   "cell_type": "code",
   "execution_count": null,
   "metadata": {},
   "outputs": [],
   "source": []
  }
 ],
 "metadata": {
  "kernelspec": {
   "display_name": "base",
   "language": "python",
   "name": "python3"
  },
  "language_info": {
   "codemirror_mode": {
    "name": "ipython",
    "version": 3
   },
   "file_extension": ".py",
   "mimetype": "text/x-python",
   "name": "python",
   "nbconvert_exporter": "python",
   "pygments_lexer": "ipython3",
   "version": "3.11.4"
  }
 },
 "nbformat": 4,
 "nbformat_minor": 2
}
